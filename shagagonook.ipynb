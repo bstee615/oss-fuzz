{
 "cells": [
  {
   "cell_type": "markdown",
   "metadata": {},
   "source": [
    "1. PARSE XML FILES\n",
    "2. TURN INTO TREE\n",
    "3. CHECK TREE STATISTICS"
   ]
  },
  {
   "cell_type": "code",
   "execution_count": 2,
   "metadata": {},
   "outputs": [
    {
     "name": "stdout",
     "output_type": "stream",
     "text": [
      "179 XML files found, 179 unique. duplicates = []\n"
     ]
    }
   ],
   "source": [
    "import traceback\n",
    "import xml.etree.ElementTree as ET\n",
    "from pathlib import Path\n",
    "import re\n",
    "\n",
    "xmls = list(Path(\"traces-1m-worker_3_overnight_portclash\").glob(\"*.xml\")) + list(Path(\"traces-1m-worker_4_overnight_fixportclash\").glob(\"*.xml\"))\n",
    "print(len(xmls), \"XML files found,\", len(set([f.name for f in xmls])), \"unique. duplicates =\", [f for f in xmls if [g.name for g in xmls].count(f.name) > 1])\n",
    "# TODO remove duplicates"
   ]
  },
  {
   "cell_type": "code",
   "execution_count": 3,
   "metadata": {},
   "outputs": [],
   "source": [
    "#!pip install tqdm jupyter ipywidgets"
   ]
  },
  {
   "cell_type": "code",
   "execution_count": 6,
   "metadata": {},
   "outputs": [
    {
     "data": {
      "application/vnd.jupyter.widget-view+json": {
       "model_id": "ca2be93630a6403e8fccd0d018c7401d",
       "version_major": 2,
       "version_minor": 0
      },
      "text/plain": [
       "  0%|          | 0/179 [00:00<?, ?it/s]"
      ]
     },
     "metadata": {},
     "output_type": "display_data"
    },
    {
     "name": "stdout",
     "output_type": "stream",
     "text": [
      "ROUND 1: 140 files failed parsing\n"
     ]
    },
    {
     "data": {
      "text/plain": [
       "3279"
      ]
     },
     "execution_count": 6,
     "metadata": {},
     "output_type": "execute_result"
    }
   ],
   "source": [
    "import tqdm.auto as tqdm\n",
    "\n",
    "successes_1 = []\n",
    "failed_1 = []\n",
    "for fpath in tqdm.tqdm(xmls):\n",
    "    try:\n",
    "        root = ET.parse(fpath).getroot()\n",
    "        # print(fpath, \"parsed successfully\")\n",
    "        successes_1.append(fpath)\n",
    "    except ET.ParseError as ex:\n",
    "        # print(\"exception\", type(ex).__name__, ex, \"parsing\", fpath)\n",
    "        failed_1.append(fpath)\n",
    "\n",
    "print(\"ROUND 1:\", len(failed_1), \"files failed parsing\")\n",
    "Path(\"SUCCESS_FILES_SHAGAGONOOK_1.txt\").write_text(\"\\n\".join(map(str, successes_1)))"
   ]
  },
  {
   "cell_type": "code",
   "execution_count": 18,
   "metadata": {},
   "outputs": [
    {
     "data": {
      "application/vnd.jupyter.widget-view+json": {
       "model_id": "1677a775558746af89ce2675be69f9e5",
       "version_major": 2,
       "version_minor": 0
      },
      "text/plain": [
       "deconstruct into fuzzer target calls:   0%|          | 0/1145582 [00:00<?, ?it/s]"
      ]
     },
     "metadata": {},
     "output_type": "display_data"
    },
    {
     "data": {
      "text/plain": [
       "PosixPath('traces-1m-worker_3_overnight_portclash/trace-apache-commons-cli-ParserFuzzer.xml.repair')"
      ]
     },
     "execution_count": 18,
     "metadata": {},
     "output_type": "execute_result"
    }
   ],
   "source": [
    "import tqdm.auto as tqdm\n",
    "\n",
    "fuzzer_start = re.compile(r'''<call[^>]*method=\"[^.\"]+.fuzzerTestOneInput\\([^)]+\\)\"[^>]*''')\n",
    "fuzzer_almost_end = re.compile(r'''<tracepoint[^>]+>''')\n",
    "method_re = re.compile(r'''method=\"[^.\"]+.fuzzerTestOneInput\\([^)]+\\)\"''')\n",
    "exit_re = re.compile(r'''type=\"exit\"''')\n",
    "fuzzer_real_end = re.compile(r'''</call>''')\n",
    "\n",
    "\n",
    "from xml.dom import minidom\n",
    "from xml.parsers.expat import ExpatError\n",
    "\n",
    "def prettify(rough_string):\n",
    "    \"\"\"Return a pretty-printed XML string for the Element.\n",
    "    \"\"\"\n",
    "    # rough_string = ET.tostring(elem)\n",
    "    reparsed = minidom.parseString(rough_string)\n",
    "    \n",
    "    # text = reparsed.toprettyxml(indent=\" \" * 2)\n",
    "    # return \"\".join(text.splitlines(keepends=True)[1:])\n",
    "    \n",
    "    # return reparsed.childNodes[0].toprettyxml(indent=\" \" * 2)\n",
    "    \n",
    "    return reparsed.toprettyxml(indent=\"  \")\n",
    "\n",
    "def recover_functions(fpath):\n",
    "    with open(fpath) as f:\n",
    "        xmlstring = f.read()\n",
    "    xmllines = xmlstring.splitlines(keepends=True)\n",
    "    it = iter(xmllines)\n",
    "    repair_path = Path(str(fpath) + \".repair\")\n",
    "    failed_functions = 0\n",
    "    all_functions = 0\n",
    "    with open(repair_path, \"w\") as outf:\n",
    "        with tqdm.tqdm(it, total=len(xmllines), desc=\"deconstruct into fuzzer target calls\") as pbar:\n",
    "            it = iter(pbar)\n",
    "            fuzz_functions = []\n",
    "            current_fuzz_function = None\n",
    "            try:\n",
    "                outf.write(next(it))\n",
    "                while True:\n",
    "                    line = next(it)\n",
    "                    if fuzzer_start.search(line):\n",
    "                        # print(\"start at\", line)\n",
    "                        # start fuzzed function\n",
    "                        current_fuzz_function = []\n",
    "                    if current_fuzz_function is not None:\n",
    "                        current_fuzz_function.append(line)\n",
    "                    m = fuzzer_almost_end.search(line)\n",
    "                    if m:\n",
    "                        tag = m.group(0)\n",
    "                        if method_re.search(tag) and exit_re.search(tag):\n",
    "                            # print(\"end at\", line)\n",
    "                            while True:\n",
    "                                line = next(it)\n",
    "                                # print(\"search end\", line)\n",
    "                                current_fuzz_function.append(line)\n",
    "                                if fuzzer_real_end.search(line):\n",
    "                                    # cap off fuzzed function\n",
    "                                    # print(\"end\", line)\n",
    "                                    all_functions += 1\n",
    "                                    try:\n",
    "                                        func_xml = \"\".join(current_fuzz_function)\n",
    "                                        # ET.fromstring(func_xml)\n",
    "                                        # print(func_xml)\n",
    "                                        func_xml = \"\".join(prettify(func_xml).splitlines(keepends=True)[1:])\n",
    "                                        outf.write(func_xml + \"\\n\")\n",
    "                                    except (ExpatError, ET.ParseError):\n",
    "                                        failed_functions += 1\n",
    "                                    pbar.set_postfix({\"all\": all_functions, \"failed\": failed_functions})\n",
    "                                    break\n",
    "            except StopIteration:\n",
    "                pass\n",
    "        outf.write(\"</trace>\")\n",
    "    \n",
    "#     print(\"found\", len(fuzz_functions), \"functions\")\n",
    "\n",
    "#     success_functions = []\n",
    "#     failed_functions = 0\n",
    "#     pbar = tqdm.tqdm(fuzz_functions, desc=\"parse individual fuzzer targets\")\n",
    "#     for fuzzed_function in pbar:\n",
    "#         try:\n",
    "#             root = ET.ElementTree(ET.fromstring(fuzzed_function)).getroot()\n",
    "#             # ET.indent(root, space=\"\\t\", level=0)\n",
    "#             success_functions.append(ET.tostring(root, encoding='unicode', method='xml'))\n",
    "#         except ET.ParseError as ex:\n",
    "#             # print(\"function exception\", type(ex), ex, \"parsing\", fpath)\n",
    "#             # print(fuzzed_function)\n",
    "#             failed_functions += 1\n",
    "#         pbar.set_postfix({\"failed\": failed_functions})\n",
    "    # print(\"failed\", failed_functions, \"out of\", all_functions, \"functions\")\n",
    "\n",
    "#     success_text = \"\\n\".join((xmllines[0], \"\".join(success_functions), \"</trace>\"))\n",
    "#     success_text = prettify(success_text)\n",
    "#     repair_path.write_text(\"\".join(success_text))\n",
    "    return repair_path\n",
    "\n",
    "repair_path = recover_functions(\"traces-1m-worker_3_overnight_portclash/trace-apache-commons-cli-ParserFuzzer.xml\")\n",
    "root = ET.parse(repair_path).getroot()\n",
    "repair_path"
   ]
  },
  {
   "cell_type": "code",
   "execution_count": 20,
   "metadata": {},
   "outputs": [
    {
     "data": {
      "application/vnd.jupyter.widget-view+json": {
       "model_id": "9962663477e4403bac945c4f4f8ccd15",
       "version_major": 2,
       "version_minor": 0
      },
      "text/plain": [
       "round 2:   0%|          | 0/140 [00:00<?, ?it/s]"
      ]
     },
     "metadata": {},
     "output_type": "display_data"
    },
    {
     "data": {
      "application/vnd.jupyter.widget-view+json": {
       "model_id": "7b5e2e92575542e9b1a8fa6b9019a47d",
       "version_major": 2,
       "version_minor": 0
      },
      "text/plain": [
       "deconstruct into fuzzer target calls:   0%|          | 0/1145582 [00:00<?, ?it/s]"
      ]
     },
     "metadata": {},
     "output_type": "display_data"
    },
    {
     "data": {
      "application/vnd.jupyter.widget-view+json": {
       "model_id": "6ba1b01c4cd544788982de637007d1d6",
       "version_major": 2,
       "version_minor": 0
      },
      "text/plain": [
       "deconstruct into fuzzer target calls:   0%|          | 0/1041660 [00:00<?, ?it/s]"
      ]
     },
     "metadata": {},
     "output_type": "display_data"
    },
    {
     "data": {
      "application/vnd.jupyter.widget-view+json": {
       "model_id": "9b79b84b756c49e3b25740261fa50e4b",
       "version_major": 2,
       "version_minor": 0
      },
      "text/plain": [
       "deconstruct into fuzzer target calls:   0%|          | 0/129 [00:00<?, ?it/s]"
      ]
     },
     "metadata": {},
     "output_type": "display_data"
    },
    {
     "data": {
      "application/vnd.jupyter.widget-view+json": {
       "model_id": "f3fc3d0c503c4792a6bf69d14d7d0cfc",
       "version_major": 2,
       "version_minor": 0
      },
      "text/plain": [
       "deconstruct into fuzzer target calls:   0%|          | 0/35686 [00:00<?, ?it/s]"
      ]
     },
     "metadata": {},
     "output_type": "display_data"
    },
    {
     "data": {
      "application/vnd.jupyter.widget-view+json": {
       "model_id": "2064a26ee3eb4b888b580e168390c64e",
       "version_major": 2,
       "version_minor": 0
      },
      "text/plain": [
       "deconstruct into fuzzer target calls:   0%|          | 0/2206 [00:00<?, ?it/s]"
      ]
     },
     "metadata": {},
     "output_type": "display_data"
    },
    {
     "data": {
      "application/vnd.jupyter.widget-view+json": {
       "model_id": "e0d6cb1f91fb445681fce5e0849e6073",
       "version_major": 2,
       "version_minor": 0
      },
      "text/plain": [
       "deconstruct into fuzzer target calls:   0%|          | 0/33257 [00:00<?, ?it/s]"
      ]
     },
     "metadata": {},
     "output_type": "display_data"
    },
    {
     "data": {
      "application/vnd.jupyter.widget-view+json": {
       "model_id": "e53aeb6f23404883b29a7e85f3ad4261",
       "version_major": 2,
       "version_minor": 0
      },
      "text/plain": [
       "deconstruct into fuzzer target calls:   0%|          | 0/1278714 [00:00<?, ?it/s]"
      ]
     },
     "metadata": {},
     "output_type": "display_data"
    },
    {
     "data": {
      "application/vnd.jupyter.widget-view+json": {
       "model_id": "cb543a59be03445280a1d203e2d9b257",
       "version_major": 2,
       "version_minor": 0
      },
      "text/plain": [
       "deconstruct into fuzzer target calls:   0%|          | 0/1329474 [00:00<?, ?it/s]"
      ]
     },
     "metadata": {},
     "output_type": "display_data"
    },
    {
     "data": {
      "application/vnd.jupyter.widget-view+json": {
       "model_id": "637c78cb9cd146cea9aa502dba2a8ee8",
       "version_major": 2,
       "version_minor": 0
      },
      "text/plain": [
       "deconstruct into fuzzer target calls:   0%|          | 0/48058 [00:00<?, ?it/s]"
      ]
     },
     "metadata": {},
     "output_type": "display_data"
    },
    {
     "data": {
      "application/vnd.jupyter.widget-view+json": {
       "model_id": "ae90406799c14bd5954a3377b728a05c",
       "version_major": 2,
       "version_minor": 0
      },
      "text/plain": [
       "deconstruct into fuzzer target calls:   0%|          | 0/9620 [00:00<?, ?it/s]"
      ]
     },
     "metadata": {},
     "output_type": "display_data"
    },
    {
     "data": {
      "application/vnd.jupyter.widget-view+json": {
       "model_id": "f659b65a55bd480e89f779f00655eed9",
       "version_major": 2,
       "version_minor": 0
      },
      "text/plain": [
       "deconstruct into fuzzer target calls:   0%|          | 0/544 [00:00<?, ?it/s]"
      ]
     },
     "metadata": {},
     "output_type": "display_data"
    },
    {
     "data": {
      "application/vnd.jupyter.widget-view+json": {
       "model_id": "387a163a7d7c4cad8aa0c5f9fa149025",
       "version_major": 2,
       "version_minor": 0
      },
      "text/plain": [
       "deconstruct into fuzzer target calls:   0%|          | 0/138 [00:00<?, ?it/s]"
      ]
     },
     "metadata": {},
     "output_type": "display_data"
    },
    {
     "data": {
      "application/vnd.jupyter.widget-view+json": {
       "model_id": "e173ea4e0b114d43954bc4f08b6abff5",
       "version_major": 2,
       "version_minor": 0
      },
      "text/plain": [
       "deconstruct into fuzzer target calls:   0%|          | 0/1313343 [00:00<?, ?it/s]"
      ]
     },
     "metadata": {},
     "output_type": "display_data"
    },
    {
     "data": {
      "application/vnd.jupyter.widget-view+json": {
       "model_id": "429eea15db82430080becadd55c3f627",
       "version_major": 2,
       "version_minor": 0
      },
      "text/plain": [
       "deconstruct into fuzzer target calls:   0%|          | 0/842 [00:00<?, ?it/s]"
      ]
     },
     "metadata": {},
     "output_type": "display_data"
    },
    {
     "data": {
      "application/vnd.jupyter.widget-view+json": {
       "model_id": "dc5663bbf3a044f298871da7a7194bd6",
       "version_major": 2,
       "version_minor": 0
      },
      "text/plain": [
       "deconstruct into fuzzer target calls:   0%|          | 0/2125803 [00:00<?, ?it/s]"
      ]
     },
     "metadata": {},
     "output_type": "display_data"
    },
    {
     "data": {
      "application/vnd.jupyter.widget-view+json": {
       "model_id": "fc426ba25afd4ff4a4d3e124ed3309ba",
       "version_major": 2,
       "version_minor": 0
      },
      "text/plain": [
       "deconstruct into fuzzer target calls:   0%|          | 0/35898 [00:00<?, ?it/s]"
      ]
     },
     "metadata": {},
     "output_type": "display_data"
    },
    {
     "data": {
      "application/vnd.jupyter.widget-view+json": {
       "model_id": "08c314e5d29d46f78be14eaf675b70ac",
       "version_major": 2,
       "version_minor": 0
      },
      "text/plain": [
       "deconstruct into fuzzer target calls:   0%|          | 0/35696 [00:00<?, ?it/s]"
      ]
     },
     "metadata": {},
     "output_type": "display_data"
    },
    {
     "data": {
      "application/vnd.jupyter.widget-view+json": {
       "model_id": "097c0237f2c04b4c8897511855b8fb7b",
       "version_major": 2,
       "version_minor": 0
      },
      "text/plain": [
       "deconstruct into fuzzer target calls:   0%|          | 0/1001 [00:00<?, ?it/s]"
      ]
     },
     "metadata": {},
     "output_type": "display_data"
    },
    {
     "data": {
      "application/vnd.jupyter.widget-view+json": {
       "model_id": "8c239088501042ae922d28cd5c29a361",
       "version_major": 2,
       "version_minor": 0
      },
      "text/plain": [
       "deconstruct into fuzzer target calls:   0%|          | 0/138 [00:00<?, ?it/s]"
      ]
     },
     "metadata": {},
     "output_type": "display_data"
    },
    {
     "data": {
      "application/vnd.jupyter.widget-view+json": {
       "model_id": "acb5729b6b36477d8242c097aa97c87c",
       "version_major": 2,
       "version_minor": 0
      },
      "text/plain": [
       "deconstruct into fuzzer target calls:   0%|          | 0/1144076 [00:00<?, ?it/s]"
      ]
     },
     "metadata": {},
     "output_type": "display_data"
    },
    {
     "data": {
      "application/vnd.jupyter.widget-view+json": {
       "model_id": "8f08a5d4d63c4e3ab80a9b33a0661ab4",
       "version_major": 2,
       "version_minor": 0
      },
      "text/plain": [
       "deconstruct into fuzzer target calls:   0%|          | 0/3720 [00:00<?, ?it/s]"
      ]
     },
     "metadata": {},
     "output_type": "display_data"
    },
    {
     "data": {
      "application/vnd.jupyter.widget-view+json": {
       "model_id": "91f0695be16c4634b38f2c4afb54c7a8",
       "version_major": 2,
       "version_minor": 0
      },
      "text/plain": [
       "deconstruct into fuzzer target calls:   0%|          | 0/35506 [00:00<?, ?it/s]"
      ]
     },
     "metadata": {},
     "output_type": "display_data"
    },
    {
     "data": {
      "application/vnd.jupyter.widget-view+json": {
       "model_id": "28d34712de4f41a89ed44d381377bfae",
       "version_major": 2,
       "version_minor": 0
      },
      "text/plain": [
       "deconstruct into fuzzer target calls:   0%|          | 0/1304207 [00:00<?, ?it/s]"
      ]
     },
     "metadata": {},
     "output_type": "display_data"
    },
    {
     "data": {
      "application/vnd.jupyter.widget-view+json": {
       "model_id": "65a2701043ff44ac9b9dbc37fd9b2635",
       "version_major": 2,
       "version_minor": 0
      },
      "text/plain": [
       "deconstruct into fuzzer target calls:   0%|          | 0/107132 [00:00<?, ?it/s]"
      ]
     },
     "metadata": {},
     "output_type": "display_data"
    },
    {
     "data": {
      "application/vnd.jupyter.widget-view+json": {
       "model_id": "c9a8cbf0e7cb403b972c9e54ac6a1a51",
       "version_major": 2,
       "version_minor": 0
      },
      "text/plain": [
       "deconstruct into fuzzer target calls:   0%|          | 0/252779 [00:00<?, ?it/s]"
      ]
     },
     "metadata": {},
     "output_type": "display_data"
    },
    {
     "data": {
      "application/vnd.jupyter.widget-view+json": {
       "model_id": "e6c37c02287d484e8404d9682e3de031",
       "version_major": 2,
       "version_minor": 0
      },
      "text/plain": [
       "deconstruct into fuzzer target calls:   0%|          | 0/153 [00:00<?, ?it/s]"
      ]
     },
     "metadata": {},
     "output_type": "display_data"
    },
    {
     "data": {
      "application/vnd.jupyter.widget-view+json": {
       "model_id": "63f641273d7a4f2bb738178b73549653",
       "version_major": 2,
       "version_minor": 0
      },
      "text/plain": [
       "deconstruct into fuzzer target calls:   0%|          | 0/542408 [00:00<?, ?it/s]"
      ]
     },
     "metadata": {},
     "output_type": "display_data"
    },
    {
     "data": {
      "application/vnd.jupyter.widget-view+json": {
       "model_id": "c7b44bc34cf44c71ad355e7043db1faf",
       "version_major": 2,
       "version_minor": 0
      },
      "text/plain": [
       "deconstruct into fuzzer target calls:   0%|          | 0/550250 [00:00<?, ?it/s]"
      ]
     },
     "metadata": {},
     "output_type": "display_data"
    },
    {
     "data": {
      "application/vnd.jupyter.widget-view+json": {
       "model_id": "58c769389be44e2d99449da992873740",
       "version_major": 2,
       "version_minor": 0
      },
      "text/plain": [
       "deconstruct into fuzzer target calls:   0%|          | 0/30498 [00:00<?, ?it/s]"
      ]
     },
     "metadata": {},
     "output_type": "display_data"
    },
    {
     "data": {
      "application/vnd.jupyter.widget-view+json": {
       "model_id": "70d95f74a66e45b69776169d999fe1b2",
       "version_major": 2,
       "version_minor": 0
      },
      "text/plain": [
       "deconstruct into fuzzer target calls:   0%|          | 0/1087095 [00:00<?, ?it/s]"
      ]
     },
     "metadata": {},
     "output_type": "display_data"
    },
    {
     "data": {
      "application/vnd.jupyter.widget-view+json": {
       "model_id": "ffd6bf774c6e4964af96dad79963ab73",
       "version_major": 2,
       "version_minor": 0
      },
      "text/plain": [
       "deconstruct into fuzzer target calls:   0%|          | 0/138 [00:00<?, ?it/s]"
      ]
     },
     "metadata": {},
     "output_type": "display_data"
    },
    {
     "data": {
      "application/vnd.jupyter.widget-view+json": {
       "model_id": "44e34f8330304e6b9eab5ff2c3983659",
       "version_major": 2,
       "version_minor": 0
      },
      "text/plain": [
       "deconstruct into fuzzer target calls:   0%|          | 0/1027 [00:00<?, ?it/s]"
      ]
     },
     "metadata": {},
     "output_type": "display_data"
    },
    {
     "data": {
      "application/vnd.jupyter.widget-view+json": {
       "model_id": "4bbacd6c997c458b8af0911891212866",
       "version_major": 2,
       "version_minor": 0
      },
      "text/plain": [
       "deconstruct into fuzzer target calls:   0%|          | 0/54972 [00:00<?, ?it/s]"
      ]
     },
     "metadata": {},
     "output_type": "display_data"
    },
    {
     "data": {
      "application/vnd.jupyter.widget-view+json": {
       "model_id": "46499b47623749daac90fde0bac40a17",
       "version_major": 2,
       "version_minor": 0
      },
      "text/plain": [
       "deconstruct into fuzzer target calls:   0%|          | 0/1468 [00:00<?, ?it/s]"
      ]
     },
     "metadata": {},
     "output_type": "display_data"
    },
    {
     "data": {
      "application/vnd.jupyter.widget-view+json": {
       "model_id": "7d353d395083467bb1ce8adf899c5f51",
       "version_major": 2,
       "version_minor": 0
      },
      "text/plain": [
       "deconstruct into fuzzer target calls:   0%|          | 0/136 [00:00<?, ?it/s]"
      ]
     },
     "metadata": {},
     "output_type": "display_data"
    },
    {
     "data": {
      "application/vnd.jupyter.widget-view+json": {
       "model_id": "1943fc4f4d214e938e58bb4cade6bc41",
       "version_major": 2,
       "version_minor": 0
      },
      "text/plain": [
       "deconstruct into fuzzer target calls:   0%|          | 0/5445417 [00:00<?, ?it/s]"
      ]
     },
     "metadata": {},
     "output_type": "display_data"
    },
    {
     "data": {
      "application/vnd.jupyter.widget-view+json": {
       "model_id": "744e02a071704041b2e45ea1abe38671",
       "version_major": 2,
       "version_minor": 0
      },
      "text/plain": [
       "deconstruct into fuzzer target calls:   0%|          | 0/518 [00:00<?, ?it/s]"
      ]
     },
     "metadata": {},
     "output_type": "display_data"
    },
    {
     "data": {
      "application/vnd.jupyter.widget-view+json": {
       "model_id": "6a29b6beb696456fbc95303fb97d0b62",
       "version_major": 2,
       "version_minor": 0
      },
      "text/plain": [
       "deconstruct into fuzzer target calls:   0%|          | 0/9705 [00:00<?, ?it/s]"
      ]
     },
     "metadata": {},
     "output_type": "display_data"
    },
    {
     "data": {
      "application/vnd.jupyter.widget-view+json": {
       "model_id": "181612fdf35c4c70904b2d4ab1a6b9d4",
       "version_major": 2,
       "version_minor": 0
      },
      "text/plain": [
       "deconstruct into fuzzer target calls:   0%|          | 0/4163831 [00:00<?, ?it/s]"
      ]
     },
     "metadata": {},
     "output_type": "display_data"
    },
    {
     "data": {
      "application/vnd.jupyter.widget-view+json": {
       "model_id": "0b89aaae2bab4fe4bd20c2eb3fff11c4",
       "version_major": 2,
       "version_minor": 0
      },
      "text/plain": [
       "deconstruct into fuzzer target calls:   0%|          | 0/1419724 [00:00<?, ?it/s]"
      ]
     },
     "metadata": {},
     "output_type": "display_data"
    },
    {
     "data": {
      "application/vnd.jupyter.widget-view+json": {
       "model_id": "3289195d8e854606978acf907f98d0f0",
       "version_major": 2,
       "version_minor": 0
      },
      "text/plain": [
       "deconstruct into fuzzer target calls:   0%|          | 0/547669 [00:00<?, ?it/s]"
      ]
     },
     "metadata": {},
     "output_type": "display_data"
    },
    {
     "data": {
      "application/vnd.jupyter.widget-view+json": {
       "model_id": "4c6c0a5e89494487992232b8e5089fd7",
       "version_major": 2,
       "version_minor": 0
      },
      "text/plain": [
       "deconstruct into fuzzer target calls:   0%|          | 0/3809882 [00:00<?, ?it/s]"
      ]
     },
     "metadata": {},
     "output_type": "display_data"
    },
    {
     "data": {
      "application/vnd.jupyter.widget-view+json": {
       "model_id": "0a404615c9854543a654c48a4c1119f4",
       "version_major": 2,
       "version_minor": 0
      },
      "text/plain": [
       "deconstruct into fuzzer target calls:   0%|          | 0/174804 [00:00<?, ?it/s]"
      ]
     },
     "metadata": {},
     "output_type": "display_data"
    },
    {
     "data": {
      "application/vnd.jupyter.widget-view+json": {
       "model_id": "539971a604e24d79b20adca220fd1a52",
       "version_major": 2,
       "version_minor": 0
      },
      "text/plain": [
       "deconstruct into fuzzer target calls:   0%|          | 0/445167 [00:00<?, ?it/s]"
      ]
     },
     "metadata": {},
     "output_type": "display_data"
    },
    {
     "data": {
      "application/vnd.jupyter.widget-view+json": {
       "model_id": "a90577f42df34cf191511ee513d9f076",
       "version_major": 2,
       "version_minor": 0
      },
      "text/plain": [
       "deconstruct into fuzzer target calls:   0%|          | 0/8543 [00:00<?, ?it/s]"
      ]
     },
     "metadata": {},
     "output_type": "display_data"
    },
    {
     "data": {
      "application/vnd.jupyter.widget-view+json": {
       "model_id": "252a15d7cd90439bb20accdca94d855d",
       "version_major": 2,
       "version_minor": 0
      },
      "text/plain": [
       "deconstruct into fuzzer target calls:   0%|          | 0/34936 [00:00<?, ?it/s]"
      ]
     },
     "metadata": {},
     "output_type": "display_data"
    },
    {
     "data": {
      "application/vnd.jupyter.widget-view+json": {
       "model_id": "d0d0e7a03ab24bae90064be8f5cc55fb",
       "version_major": 2,
       "version_minor": 0
      },
      "text/plain": [
       "deconstruct into fuzzer target calls:   0%|          | 0/598985 [00:00<?, ?it/s]"
      ]
     },
     "metadata": {},
     "output_type": "display_data"
    },
    {
     "data": {
      "application/vnd.jupyter.widget-view+json": {
       "model_id": "81f035c8a585465ab88c8d109317dc14",
       "version_major": 2,
       "version_minor": 0
      },
      "text/plain": [
       "deconstruct into fuzzer target calls:   0%|          | 0/465143 [00:00<?, ?it/s]"
      ]
     },
     "metadata": {},
     "output_type": "display_data"
    },
    {
     "data": {
      "application/vnd.jupyter.widget-view+json": {
       "model_id": "b8a8f9bfa8374e44979bf00ce206e13a",
       "version_major": 2,
       "version_minor": 0
      },
      "text/plain": [
       "deconstruct into fuzzer target calls:   0%|          | 0/164 [00:00<?, ?it/s]"
      ]
     },
     "metadata": {},
     "output_type": "display_data"
    },
    {
     "data": {
      "application/vnd.jupyter.widget-view+json": {
       "model_id": "999515faecdf4696b58b208e23ba5704",
       "version_major": 2,
       "version_minor": 0
      },
      "text/plain": [
       "deconstruct into fuzzer target calls:   0%|          | 0/40841 [00:00<?, ?it/s]"
      ]
     },
     "metadata": {},
     "output_type": "display_data"
    },
    {
     "data": {
      "application/vnd.jupyter.widget-view+json": {
       "model_id": "5c4a4e1ea4a743d69840f128a59c4d3a",
       "version_major": 2,
       "version_minor": 0
      },
      "text/plain": [
       "deconstruct into fuzzer target calls:   0%|          | 0/648001 [00:00<?, ?it/s]"
      ]
     },
     "metadata": {},
     "output_type": "display_data"
    },
    {
     "data": {
      "application/vnd.jupyter.widget-view+json": {
       "model_id": "b91e8f437b494e1c9ba7150ac4cd2175",
       "version_major": 2,
       "version_minor": 0
      },
      "text/plain": [
       "deconstruct into fuzzer target calls:   0%|          | 0/171857 [00:00<?, ?it/s]"
      ]
     },
     "metadata": {},
     "output_type": "display_data"
    },
    {
     "data": {
      "application/vnd.jupyter.widget-view+json": {
       "model_id": "780bf379ac1b49d98ccd7b9384079762",
       "version_major": 2,
       "version_minor": 0
      },
      "text/plain": [
       "deconstruct into fuzzer target calls:   0%|          | 0/642353 [00:00<?, ?it/s]"
      ]
     },
     "metadata": {},
     "output_type": "display_data"
    },
    {
     "data": {
      "application/vnd.jupyter.widget-view+json": {
       "model_id": "d7c84a9d40444d70b38dce17c191bb05",
       "version_major": 2,
       "version_minor": 0
      },
      "text/plain": [
       "deconstruct into fuzzer target calls:   0%|          | 0/35695 [00:00<?, ?it/s]"
      ]
     },
     "metadata": {},
     "output_type": "display_data"
    },
    {
     "data": {
      "application/vnd.jupyter.widget-view+json": {
       "model_id": "98e9f64c9897450784cee561d2350ab9",
       "version_major": 2,
       "version_minor": 0
      },
      "text/plain": [
       "deconstruct into fuzzer target calls:   0%|          | 0/35705 [00:00<?, ?it/s]"
      ]
     },
     "metadata": {},
     "output_type": "display_data"
    },
    {
     "data": {
      "application/vnd.jupyter.widget-view+json": {
       "model_id": "3a12968c5b1d4c77a4622e1e5baa66dd",
       "version_major": 2,
       "version_minor": 0
      },
      "text/plain": [
       "deconstruct into fuzzer target calls:   0%|          | 0/10369195 [00:00<?, ?it/s]"
      ]
     },
     "metadata": {},
     "output_type": "display_data"
    },
    {
     "data": {
      "application/vnd.jupyter.widget-view+json": {
       "model_id": "d5d5f4e30e8f4f409b8a918ab537809b",
       "version_major": 2,
       "version_minor": 0
      },
      "text/plain": [
       "deconstruct into fuzzer target calls:   0%|          | 0/745 [00:00<?, ?it/s]"
      ]
     },
     "metadata": {},
     "output_type": "display_data"
    },
    {
     "data": {
      "application/vnd.jupyter.widget-view+json": {
       "model_id": "367c151f66994cda954d9d8a2477d9ea",
       "version_major": 2,
       "version_minor": 0
      },
      "text/plain": [
       "deconstruct into fuzzer target calls:   0%|          | 0/42274 [00:00<?, ?it/s]"
      ]
     },
     "metadata": {},
     "output_type": "display_data"
    },
    {
     "data": {
      "application/vnd.jupyter.widget-view+json": {
       "model_id": "6d1f452f50624c7a97d89383fa6dd264",
       "version_major": 2,
       "version_minor": 0
      },
      "text/plain": [
       "deconstruct into fuzzer target calls:   0%|          | 0/5955248 [00:00<?, ?it/s]"
      ]
     },
     "metadata": {},
     "output_type": "display_data"
    },
    {
     "data": {
      "application/vnd.jupyter.widget-view+json": {
       "model_id": "7517d30ecbc54a89ad61da008e405d1d",
       "version_major": 2,
       "version_minor": 0
      },
      "text/plain": [
       "deconstruct into fuzzer target calls:   0%|          | 0/171878 [00:00<?, ?it/s]"
      ]
     },
     "metadata": {},
     "output_type": "display_data"
    },
    {
     "data": {
      "application/vnd.jupyter.widget-view+json": {
       "model_id": "e2b8a4e27fed43c78c9ee4530f9086b0",
       "version_major": 2,
       "version_minor": 0
      },
      "text/plain": [
       "deconstruct into fuzzer target calls:   0%|          | 0/2951 [00:00<?, ?it/s]"
      ]
     },
     "metadata": {},
     "output_type": "display_data"
    },
    {
     "data": {
      "application/vnd.jupyter.widget-view+json": {
       "model_id": "aff4dc0f92db41b7ad06f1e5225c4024",
       "version_major": 2,
       "version_minor": 0
      },
      "text/plain": [
       "deconstruct into fuzzer target calls:   0%|          | 0/271 [00:00<?, ?it/s]"
      ]
     },
     "metadata": {},
     "output_type": "display_data"
    },
    {
     "data": {
      "application/vnd.jupyter.widget-view+json": {
       "model_id": "63008882583d4a16a1fd018f9dd5d8f7",
       "version_major": 2,
       "version_minor": 0
      },
      "text/plain": [
       "deconstruct into fuzzer target calls:   0%|          | 0/36959 [00:00<?, ?it/s]"
      ]
     },
     "metadata": {},
     "output_type": "display_data"
    },
    {
     "data": {
      "application/vnd.jupyter.widget-view+json": {
       "model_id": "74cc4af5c253431098267f607382c764",
       "version_major": 2,
       "version_minor": 0
      },
      "text/plain": [
       "deconstruct into fuzzer target calls:   0%|          | 0/39474 [00:00<?, ?it/s]"
      ]
     },
     "metadata": {},
     "output_type": "display_data"
    },
    {
     "data": {
      "application/vnd.jupyter.widget-view+json": {
       "model_id": "969566fa9e454b5d97e53fe927113799",
       "version_major": 2,
       "version_minor": 0
      },
      "text/plain": [
       "deconstruct into fuzzer target calls:   0%|          | 0/36332 [00:00<?, ?it/s]"
      ]
     },
     "metadata": {},
     "output_type": "display_data"
    },
    {
     "data": {
      "application/vnd.jupyter.widget-view+json": {
       "model_id": "514a719d4c7a4ea1953ee8fdf5b49a69",
       "version_major": 2,
       "version_minor": 0
      },
      "text/plain": [
       "deconstruct into fuzzer target calls:   0%|          | 0/15905 [00:00<?, ?it/s]"
      ]
     },
     "metadata": {},
     "output_type": "display_data"
    },
    {
     "data": {
      "application/vnd.jupyter.widget-view+json": {
       "model_id": "7069a535d40d42dd91565652ab6df9b0",
       "version_major": 2,
       "version_minor": 0
      },
      "text/plain": [
       "deconstruct into fuzzer target calls:   0%|          | 0/11663908 [00:00<?, ?it/s]"
      ]
     },
     "metadata": {},
     "output_type": "display_data"
    },
    {
     "data": {
      "application/vnd.jupyter.widget-view+json": {
       "model_id": "5901dee166ef47c188a3801ab0ed6c67",
       "version_major": 2,
       "version_minor": 0
      },
      "text/plain": [
       "deconstruct into fuzzer target calls:   0%|          | 0/1881 [00:00<?, ?it/s]"
      ]
     },
     "metadata": {},
     "output_type": "display_data"
    },
    {
     "data": {
      "application/vnd.jupyter.widget-view+json": {
       "model_id": "37a08c18a7fd488d9401e967530d455f",
       "version_major": 2,
       "version_minor": 0
      },
      "text/plain": [
       "deconstruct into fuzzer target calls:   0%|          | 0/4927 [00:00<?, ?it/s]"
      ]
     },
     "metadata": {},
     "output_type": "display_data"
    },
    {
     "data": {
      "application/vnd.jupyter.widget-view+json": {
       "model_id": "5954a3651bfc4879a2d8875353c614bc",
       "version_major": 2,
       "version_minor": 0
      },
      "text/plain": [
       "deconstruct into fuzzer target calls:   0%|          | 0/1344 [00:00<?, ?it/s]"
      ]
     },
     "metadata": {},
     "output_type": "display_data"
    },
    {
     "data": {
      "application/vnd.jupyter.widget-view+json": {
       "model_id": "e1484bf803ad4b23a9ad96e0395ced49",
       "version_major": 2,
       "version_minor": 0
      },
      "text/plain": [
       "deconstruct into fuzzer target calls:   0%|          | 0/364881 [00:00<?, ?it/s]"
      ]
     },
     "metadata": {},
     "output_type": "display_data"
    },
    {
     "data": {
      "application/vnd.jupyter.widget-view+json": {
       "model_id": "ed4ccc8f4793443994983e18494b9a1a",
       "version_major": 2,
       "version_minor": 0
      },
      "text/plain": [
       "deconstruct into fuzzer target calls:   0%|          | 0/175435 [00:00<?, ?it/s]"
      ]
     },
     "metadata": {},
     "output_type": "display_data"
    },
    {
     "data": {
      "application/vnd.jupyter.widget-view+json": {
       "model_id": "1f95c520869a4ce481d40967227ed44a",
       "version_major": 2,
       "version_minor": 0
      },
      "text/plain": [
       "deconstruct into fuzzer target calls:   0%|          | 0/9215 [00:00<?, ?it/s]"
      ]
     },
     "metadata": {},
     "output_type": "display_data"
    },
    {
     "data": {
      "application/vnd.jupyter.widget-view+json": {
       "model_id": "dcd954182a784687910f07029d360d2a",
       "version_major": 2,
       "version_minor": 0
      },
      "text/plain": [
       "deconstruct into fuzzer target calls:   0%|          | 0/32136 [00:00<?, ?it/s]"
      ]
     },
     "metadata": {},
     "output_type": "display_data"
    },
    {
     "data": {
      "application/vnd.jupyter.widget-view+json": {
       "model_id": "6e04e1f733a247df8977fdc1e6c39aef",
       "version_major": 2,
       "version_minor": 0
      },
      "text/plain": [
       "deconstruct into fuzzer target calls:   0%|          | 0/1320 [00:00<?, ?it/s]"
      ]
     },
     "metadata": {},
     "output_type": "display_data"
    },
    {
     "data": {
      "application/vnd.jupyter.widget-view+json": {
       "model_id": "c1ba8fec79e04136aaa3095b79c80927",
       "version_major": 2,
       "version_minor": 0
      },
      "text/plain": [
       "deconstruct into fuzzer target calls:   0%|          | 0/20732 [00:00<?, ?it/s]"
      ]
     },
     "metadata": {},
     "output_type": "display_data"
    },
    {
     "data": {
      "application/vnd.jupyter.widget-view+json": {
       "model_id": "88d2676174bf4d919a5a6bddec48e54d",
       "version_major": 2,
       "version_minor": 0
      },
      "text/plain": [
       "deconstruct into fuzzer target calls:   0%|          | 0/1616721 [00:00<?, ?it/s]"
      ]
     },
     "metadata": {},
     "output_type": "display_data"
    },
    {
     "data": {
      "application/vnd.jupyter.widget-view+json": {
       "model_id": "e7bee7e1e9814306b80ccd63d7ade9bf",
       "version_major": 2,
       "version_minor": 0
      },
      "text/plain": [
       "deconstruct into fuzzer target calls:   0%|          | 0/250 [00:00<?, ?it/s]"
      ]
     },
     "metadata": {},
     "output_type": "display_data"
    },
    {
     "data": {
      "application/vnd.jupyter.widget-view+json": {
       "model_id": "b64d440ee60e416fa5f3af3b863df3a3",
       "version_major": 2,
       "version_minor": 0
      },
      "text/plain": [
       "deconstruct into fuzzer target calls:   0%|          | 0/965138 [00:00<?, ?it/s]"
      ]
     },
     "metadata": {},
     "output_type": "display_data"
    },
    {
     "data": {
      "application/vnd.jupyter.widget-view+json": {
       "model_id": "051c58ee39674397a800fda3208cdf80",
       "version_major": 2,
       "version_minor": 0
      },
      "text/plain": [
       "deconstruct into fuzzer target calls:   0%|          | 0/141769 [00:00<?, ?it/s]"
      ]
     },
     "metadata": {},
     "output_type": "display_data"
    },
    {
     "data": {
      "application/vnd.jupyter.widget-view+json": {
       "model_id": "656b1c8e3a464ef0883d1a09c729baed",
       "version_major": 2,
       "version_minor": 0
      },
      "text/plain": [
       "deconstruct into fuzzer target calls:   0%|          | 0/4927 [00:00<?, ?it/s]"
      ]
     },
     "metadata": {},
     "output_type": "display_data"
    },
    {
     "data": {
      "application/vnd.jupyter.widget-view+json": {
       "model_id": "7dd16498b83346788ce1ab9a5e442388",
       "version_major": 2,
       "version_minor": 0
      },
      "text/plain": [
       "deconstruct into fuzzer target calls:   0%|          | 0/41370 [00:00<?, ?it/s]"
      ]
     },
     "metadata": {},
     "output_type": "display_data"
    },
    {
     "data": {
      "application/vnd.jupyter.widget-view+json": {
       "model_id": "1094e0d96217403794b04c7a9f26ab3d",
       "version_major": 2,
       "version_minor": 0
      },
      "text/plain": [
       "deconstruct into fuzzer target calls:   0%|          | 0/3837 [00:00<?, ?it/s]"
      ]
     },
     "metadata": {},
     "output_type": "display_data"
    },
    {
     "data": {
      "application/vnd.jupyter.widget-view+json": {
       "model_id": "6428661ad57145bba5edc805710460c8",
       "version_major": 2,
       "version_minor": 0
      },
      "text/plain": [
       "deconstruct into fuzzer target calls:   0%|          | 0/68419 [00:00<?, ?it/s]"
      ]
     },
     "metadata": {},
     "output_type": "display_data"
    },
    {
     "data": {
      "application/vnd.jupyter.widget-view+json": {
       "model_id": "a96b0ef0801c4ac29fa16bc9d492066a",
       "version_major": 2,
       "version_minor": 0
      },
      "text/plain": [
       "deconstruct into fuzzer target calls:   0%|          | 0/20467 [00:00<?, ?it/s]"
      ]
     },
     "metadata": {},
     "output_type": "display_data"
    },
    {
     "data": {
      "application/vnd.jupyter.widget-view+json": {
       "model_id": "189a78d1adfd4c6a8faec78beac89b33",
       "version_major": 2,
       "version_minor": 0
      },
      "text/plain": [
       "deconstruct into fuzzer target calls:   0%|          | 0/47839 [00:00<?, ?it/s]"
      ]
     },
     "metadata": {},
     "output_type": "display_data"
    },
    {
     "data": {
      "application/vnd.jupyter.widget-view+json": {
       "model_id": "e49179034b7746f88833c4508b14768a",
       "version_major": 2,
       "version_minor": 0
      },
      "text/plain": [
       "deconstruct into fuzzer target calls:   0%|          | 0/594232 [00:00<?, ?it/s]"
      ]
     },
     "metadata": {},
     "output_type": "display_data"
    },
    {
     "data": {
      "application/vnd.jupyter.widget-view+json": {
       "model_id": "1fe0268c50e947a392e3d37257bd87b1",
       "version_major": 2,
       "version_minor": 0
      },
      "text/plain": [
       "deconstruct into fuzzer target calls:   0%|          | 0/9066846 [00:00<?, ?it/s]"
      ]
     },
     "metadata": {},
     "output_type": "display_data"
    },
    {
     "data": {
      "application/vnd.jupyter.widget-view+json": {
       "model_id": "74da526c00ea49289bade651011d48ea",
       "version_major": 2,
       "version_minor": 0
      },
      "text/plain": [
       "deconstruct into fuzzer target calls:   0%|          | 0/761276 [00:00<?, ?it/s]"
      ]
     },
     "metadata": {},
     "output_type": "display_data"
    },
    {
     "data": {
      "application/vnd.jupyter.widget-view+json": {
       "model_id": "9bba1276d9f6428da41cd11fcf549f34",
       "version_major": 2,
       "version_minor": 0
      },
      "text/plain": [
       "deconstruct into fuzzer target calls:   0%|          | 0/479 [00:00<?, ?it/s]"
      ]
     },
     "metadata": {},
     "output_type": "display_data"
    },
    {
     "data": {
      "application/vnd.jupyter.widget-view+json": {
       "model_id": "7b18b49bf96b4a38b110bfc30719648a",
       "version_major": 2,
       "version_minor": 0
      },
      "text/plain": [
       "deconstruct into fuzzer target calls:   0%|          | 0/1526765 [00:00<?, ?it/s]"
      ]
     },
     "metadata": {},
     "output_type": "display_data"
    },
    {
     "data": {
      "application/vnd.jupyter.widget-view+json": {
       "model_id": "1bde0fa12c8847bfbc40d9facf065258",
       "version_major": 2,
       "version_minor": 0
      },
      "text/plain": [
       "deconstruct into fuzzer target calls:   0%|          | 0/147567 [00:00<?, ?it/s]"
      ]
     },
     "metadata": {},
     "output_type": "display_data"
    },
    {
     "data": {
      "application/vnd.jupyter.widget-view+json": {
       "model_id": "c1b67114f1d44b12a907eaeab7b0f045",
       "version_major": 2,
       "version_minor": 0
      },
      "text/plain": [
       "deconstruct into fuzzer target calls:   0%|          | 0/9614 [00:00<?, ?it/s]"
      ]
     },
     "metadata": {},
     "output_type": "display_data"
    },
    {
     "data": {
      "application/vnd.jupyter.widget-view+json": {
       "model_id": "0070916104be464992261aac938ed85f",
       "version_major": 2,
       "version_minor": 0
      },
      "text/plain": [
       "deconstruct into fuzzer target calls:   0%|          | 0/445187 [00:00<?, ?it/s]"
      ]
     },
     "metadata": {},
     "output_type": "display_data"
    },
    {
     "data": {
      "application/vnd.jupyter.widget-view+json": {
       "model_id": "23b7747bc6c946d08157c7b6d2d9be9e",
       "version_major": 2,
       "version_minor": 0
      },
      "text/plain": [
       "deconstruct into fuzzer target calls:   0%|          | 0/13511 [00:00<?, ?it/s]"
      ]
     },
     "metadata": {},
     "output_type": "display_data"
    },
    {
     "data": {
      "application/vnd.jupyter.widget-view+json": {
       "model_id": "47fa4f24161d4704920c5b41db7671d9",
       "version_major": 2,
       "version_minor": 0
      },
      "text/plain": [
       "deconstruct into fuzzer target calls:   0%|          | 0/34989 [00:00<?, ?it/s]"
      ]
     },
     "metadata": {},
     "output_type": "display_data"
    },
    {
     "data": {
      "application/vnd.jupyter.widget-view+json": {
       "model_id": "50f662a9543c4347b70245da9aad424f",
       "version_major": 2,
       "version_minor": 0
      },
      "text/plain": [
       "deconstruct into fuzzer target calls:   0%|          | 0/46057 [00:00<?, ?it/s]"
      ]
     },
     "metadata": {},
     "output_type": "display_data"
    },
    {
     "data": {
      "application/vnd.jupyter.widget-view+json": {
       "model_id": "7f0ab1fc048c4e759453b56cc08d7452",
       "version_major": 2,
       "version_minor": 0
      },
      "text/plain": [
       "deconstruct into fuzzer target calls:   0%|          | 0/179618 [00:00<?, ?it/s]"
      ]
     },
     "metadata": {},
     "output_type": "display_data"
    },
    {
     "data": {
      "application/vnd.jupyter.widget-view+json": {
       "model_id": "6b2c031b208f40d8af035d6969345c67",
       "version_major": 2,
       "version_minor": 0
      },
      "text/plain": [
       "deconstruct into fuzzer target calls:   0%|          | 0/9621 [00:00<?, ?it/s]"
      ]
     },
     "metadata": {},
     "output_type": "display_data"
    },
    {
     "data": {
      "application/vnd.jupyter.widget-view+json": {
       "model_id": "dfe241bc65294a52ae728bd1560dffe5",
       "version_major": 2,
       "version_minor": 0
      },
      "text/plain": [
       "deconstruct into fuzzer target calls:   0%|          | 0/3089229 [00:00<?, ?it/s]"
      ]
     },
     "metadata": {},
     "output_type": "display_data"
    },
    {
     "data": {
      "application/vnd.jupyter.widget-view+json": {
       "model_id": "f7ddb400772b4b77bc2bf7f1499f3ad5",
       "version_major": 2,
       "version_minor": 0
      },
      "text/plain": [
       "deconstruct into fuzzer target calls:   0%|          | 0/141626 [00:00<?, ?it/s]"
      ]
     },
     "metadata": {},
     "output_type": "display_data"
    },
    {
     "data": {
      "application/vnd.jupyter.widget-view+json": {
       "model_id": "a055d0c7954342279dfe9b12cfb587b7",
       "version_major": 2,
       "version_minor": 0
      },
      "text/plain": [
       "deconstruct into fuzzer target calls:   0%|          | 0/843662 [00:00<?, ?it/s]"
      ]
     },
     "metadata": {},
     "output_type": "display_data"
    },
    {
     "data": {
      "application/vnd.jupyter.widget-view+json": {
       "model_id": "95ca8fe9338e4471bd0644c4a754892b",
       "version_major": 2,
       "version_minor": 0
      },
      "text/plain": [
       "deconstruct into fuzzer target calls:   0%|          | 0/279108 [00:00<?, ?it/s]"
      ]
     },
     "metadata": {},
     "output_type": "display_data"
    },
    {
     "data": {
      "application/vnd.jupyter.widget-view+json": {
       "model_id": "f184041b66a64ddc87bdf40a5875ee21",
       "version_major": 2,
       "version_minor": 0
      },
      "text/plain": [
       "deconstruct into fuzzer target calls:   0%|          | 0/4927 [00:00<?, ?it/s]"
      ]
     },
     "metadata": {},
     "output_type": "display_data"
    },
    {
     "data": {
      "application/vnd.jupyter.widget-view+json": {
       "model_id": "a5ea80c83067405ba1c174c5b7823e6d",
       "version_major": 2,
       "version_minor": 0
      },
      "text/plain": [
       "deconstruct into fuzzer target calls:   0%|          | 0/36734 [00:00<?, ?it/s]"
      ]
     },
     "metadata": {},
     "output_type": "display_data"
    },
    {
     "data": {
      "application/vnd.jupyter.widget-view+json": {
       "model_id": "fba030cbd3ef4cb9a00747334215f6f8",
       "version_major": 2,
       "version_minor": 0
      },
      "text/plain": [
       "deconstruct into fuzzer target calls:   0%|          | 0/95768 [00:00<?, ?it/s]"
      ]
     },
     "metadata": {},
     "output_type": "display_data"
    },
    {
     "data": {
      "application/vnd.jupyter.widget-view+json": {
       "model_id": "f19fd5ef1e7e49f6a044431595dd4118",
       "version_major": 2,
       "version_minor": 0
      },
      "text/plain": [
       "deconstruct into fuzzer target calls:   0%|          | 0/547981 [00:00<?, ?it/s]"
      ]
     },
     "metadata": {},
     "output_type": "display_data"
    },
    {
     "data": {
      "application/vnd.jupyter.widget-view+json": {
       "model_id": "29ff1a4e618046a58a75a32096e033a1",
       "version_major": 2,
       "version_minor": 0
      },
      "text/plain": [
       "deconstruct into fuzzer target calls:   0%|          | 0/16601 [00:00<?, ?it/s]"
      ]
     },
     "metadata": {},
     "output_type": "display_data"
    },
    {
     "data": {
      "application/vnd.jupyter.widget-view+json": {
       "model_id": "2b95924f287e4cb182ac8d740a5e7ec3",
       "version_major": 2,
       "version_minor": 0
      },
      "text/plain": [
       "deconstruct into fuzzer target calls:   0%|          | 0/1024 [00:00<?, ?it/s]"
      ]
     },
     "metadata": {},
     "output_type": "display_data"
    },
    {
     "data": {
      "application/vnd.jupyter.widget-view+json": {
       "model_id": "2a890870ebfd49e19fe3153b5c2a2dac",
       "version_major": 2,
       "version_minor": 0
      },
      "text/plain": [
       "deconstruct into fuzzer target calls:   0%|          | 0/133026 [00:00<?, ?it/s]"
      ]
     },
     "metadata": {},
     "output_type": "display_data"
    },
    {
     "data": {
      "application/vnd.jupyter.widget-view+json": {
       "model_id": "a60f240a143d430a8b4ee2c352469495",
       "version_major": 2,
       "version_minor": 0
      },
      "text/plain": [
       "deconstruct into fuzzer target calls:   0%|          | 0/74342 [00:00<?, ?it/s]"
      ]
     },
     "metadata": {},
     "output_type": "display_data"
    },
    {
     "data": {
      "application/vnd.jupyter.widget-view+json": {
       "model_id": "0abc78f52b4d48a98b69143c071d176a",
       "version_major": 2,
       "version_minor": 0
      },
      "text/plain": [
       "deconstruct into fuzzer target calls:   0%|          | 0/16594 [00:00<?, ?it/s]"
      ]
     },
     "metadata": {},
     "output_type": "display_data"
    },
    {
     "data": {
      "application/vnd.jupyter.widget-view+json": {
       "model_id": "6661db1b131a48a2a123489ddc3b77e4",
       "version_major": 2,
       "version_minor": 0
      },
      "text/plain": [
       "deconstruct into fuzzer target calls:   0%|          | 0/35741 [00:00<?, ?it/s]"
      ]
     },
     "metadata": {},
     "output_type": "display_data"
    },
    {
     "data": {
      "application/vnd.jupyter.widget-view+json": {
       "model_id": "3f04f3206d554ca197ed6622bb76cb77",
       "version_major": 2,
       "version_minor": 0
      },
      "text/plain": [
       "deconstruct into fuzzer target calls:   0%|          | 0/1316564 [00:00<?, ?it/s]"
      ]
     },
     "metadata": {},
     "output_type": "display_data"
    },
    {
     "data": {
      "application/vnd.jupyter.widget-view+json": {
       "model_id": "f97291622c8b45c2aa5f4670e9fab7df",
       "version_major": 2,
       "version_minor": 0
      },
      "text/plain": [
       "deconstruct into fuzzer target calls:   0%|          | 0/138 [00:00<?, ?it/s]"
      ]
     },
     "metadata": {},
     "output_type": "display_data"
    },
    {
     "data": {
      "application/vnd.jupyter.widget-view+json": {
       "model_id": "5d9fa3e176594065abde8c0f8a5a55bb",
       "version_major": 2,
       "version_minor": 0
      },
      "text/plain": [
       "deconstruct into fuzzer target calls:   0%|          | 0/7409360 [00:00<?, ?it/s]"
      ]
     },
     "metadata": {},
     "output_type": "display_data"
    },
    {
     "data": {
      "application/vnd.jupyter.widget-view+json": {
       "model_id": "196792d758aa4a9788a9b19dfcefd53e",
       "version_major": 2,
       "version_minor": 0
      },
      "text/plain": [
       "deconstruct into fuzzer target calls:   0%|          | 0/391486 [00:00<?, ?it/s]"
      ]
     },
     "metadata": {},
     "output_type": "display_data"
    },
    {
     "data": {
      "application/vnd.jupyter.widget-view+json": {
       "model_id": "bb1d4a2fd5484af8920e1c60f0f3cb9b",
       "version_major": 2,
       "version_minor": 0
      },
      "text/plain": [
       "deconstruct into fuzzer target calls:   0%|          | 0/5488982 [00:00<?, ?it/s]"
      ]
     },
     "metadata": {},
     "output_type": "display_data"
    },
    {
     "data": {
      "application/vnd.jupyter.widget-view+json": {
       "model_id": "f68eade3d5e24bd4b70b48a363d4cec8",
       "version_major": 2,
       "version_minor": 0
      },
      "text/plain": [
       "deconstruct into fuzzer target calls:   0%|          | 0/557 [00:00<?, ?it/s]"
      ]
     },
     "metadata": {},
     "output_type": "display_data"
    },
    {
     "data": {
      "application/vnd.jupyter.widget-view+json": {
       "model_id": "41cb416f948b464aa6f1f0d16b544ff9",
       "version_major": 2,
       "version_minor": 0
      },
      "text/plain": [
       "deconstruct into fuzzer target calls:   0%|          | 0/93677 [00:00<?, ?it/s]"
      ]
     },
     "metadata": {},
     "output_type": "display_data"
    },
    {
     "data": {
      "application/vnd.jupyter.widget-view+json": {
       "model_id": "c47e15efc94b4c46bdc67c219f4dd113",
       "version_major": 2,
       "version_minor": 0
      },
      "text/plain": [
       "deconstruct into fuzzer target calls:   0%|          | 0/653 [00:00<?, ?it/s]"
      ]
     },
     "metadata": {},
     "output_type": "display_data"
    },
    {
     "data": {
      "application/vnd.jupyter.widget-view+json": {
       "model_id": "e943316e6a5648c9985e9a4c945e27dc",
       "version_major": 2,
       "version_minor": 0
      },
      "text/plain": [
       "deconstruct into fuzzer target calls:   0%|          | 0/684602 [00:00<?, ?it/s]"
      ]
     },
     "metadata": {},
     "output_type": "display_data"
    },
    {
     "data": {
      "application/vnd.jupyter.widget-view+json": {
       "model_id": "4a60fc00d63545868cc48b2ee2fe0ffb",
       "version_major": 2,
       "version_minor": 0
      },
      "text/plain": [
       "deconstruct into fuzzer target calls:   0%|          | 0/35707 [00:00<?, ?it/s]"
      ]
     },
     "metadata": {},
     "output_type": "display_data"
    },
    {
     "data": {
      "application/vnd.jupyter.widget-view+json": {
       "model_id": "464a5f0e36b948a3a90a2e0e2c31897a",
       "version_major": 2,
       "version_minor": 0
      },
      "text/plain": [
       "deconstruct into fuzzer target calls:   0%|          | 0/3802594 [00:00<?, ?it/s]"
      ]
     },
     "metadata": {},
     "output_type": "display_data"
    },
    {
     "data": {
      "application/vnd.jupyter.widget-view+json": {
       "model_id": "8751bb7797824945855b9833f2f24b0f",
       "version_major": 2,
       "version_minor": 0
      },
      "text/plain": [
       "deconstruct into fuzzer target calls:   0%|          | 0/152089 [00:00<?, ?it/s]"
      ]
     },
     "metadata": {},
     "output_type": "display_data"
    },
    {
     "data": {
      "application/vnd.jupyter.widget-view+json": {
       "model_id": "9e87f682db1640fb85c94d28e860f010",
       "version_major": 2,
       "version_minor": 0
      },
      "text/plain": [
       "deconstruct into fuzzer target calls:   0%|          | 0/9614 [00:00<?, ?it/s]"
      ]
     },
     "metadata": {},
     "output_type": "display_data"
    },
    {
     "data": {
      "application/vnd.jupyter.widget-view+json": {
       "model_id": "a86cdcf59ef1477da1a9778be203214f",
       "version_major": 2,
       "version_minor": 0
      },
      "text/plain": [
       "deconstruct into fuzzer target calls:   0%|          | 0/8030 [00:00<?, ?it/s]"
      ]
     },
     "metadata": {},
     "output_type": "display_data"
    },
    {
     "data": {
      "application/vnd.jupyter.widget-view+json": {
       "model_id": "8a3bb1b22bc74b96aab59e83f51f5df7",
       "version_major": 2,
       "version_minor": 0
      },
      "text/plain": [
       "deconstruct into fuzzer target calls:   0%|          | 0/342142 [00:00<?, ?it/s]"
      ]
     },
     "metadata": {},
     "output_type": "display_data"
    },
    {
     "data": {
      "application/vnd.jupyter.widget-view+json": {
       "model_id": "bb01e8a8bf094b2b968a7a487c63ebfa",
       "version_major": 2,
       "version_minor": 0
      },
      "text/plain": [
       "deconstruct into fuzzer target calls:   0%|          | 0/35118 [00:00<?, ?it/s]"
      ]
     },
     "metadata": {},
     "output_type": "display_data"
    },
    {
     "data": {
      "application/vnd.jupyter.widget-view+json": {
       "model_id": "5e1b1f4f81a64c9583daeac88540181f",
       "version_major": 2,
       "version_minor": 0
      },
      "text/plain": [
       "deconstruct into fuzzer target calls:   0%|          | 0/1478319 [00:00<?, ?it/s]"
      ]
     },
     "metadata": {},
     "output_type": "display_data"
    },
    {
     "data": {
      "application/vnd.jupyter.widget-view+json": {
       "model_id": "a8439532460c4bb088a088c52362909e",
       "version_major": 2,
       "version_minor": 0
      },
      "text/plain": [
       "deconstruct into fuzzer target calls:   0%|          | 0/3352475 [00:00<?, ?it/s]"
      ]
     },
     "metadata": {},
     "output_type": "display_data"
    },
    {
     "data": {
      "application/vnd.jupyter.widget-view+json": {
       "model_id": "c8b028009fa941b1874a52f220860d86",
       "version_major": 2,
       "version_minor": 0
      },
      "text/plain": [
       "deconstruct into fuzzer target calls:   0%|          | 0/35100 [00:00<?, ?it/s]"
      ]
     },
     "metadata": {},
     "output_type": "display_data"
    },
    {
     "data": {
      "application/vnd.jupyter.widget-view+json": {
       "model_id": "238213ad10784a31ac2d8fbf48701997",
       "version_major": 2,
       "version_minor": 0
      },
      "text/plain": [
       "deconstruct into fuzzer target calls:   0%|          | 0/46305 [00:00<?, ?it/s]"
      ]
     },
     "metadata": {},
     "output_type": "display_data"
    },
    {
     "data": {
      "application/vnd.jupyter.widget-view+json": {
       "model_id": "98e520b415f343d89c6c6decd6f9638c",
       "version_major": 2,
       "version_minor": 0
      },
      "text/plain": [
       "deconstruct into fuzzer target calls:   0%|          | 0/1462 [00:00<?, ?it/s]"
      ]
     },
     "metadata": {},
     "output_type": "display_data"
    },
    {
     "data": {
      "application/vnd.jupyter.widget-view+json": {
       "model_id": "54cb9464f6c54e70a6fea2094bd9d83f",
       "version_major": 2,
       "version_minor": 0
      },
      "text/plain": [
       "deconstruct into fuzzer target calls:   0%|          | 0/38135 [00:00<?, ?it/s]"
      ]
     },
     "metadata": {},
     "output_type": "display_data"
    },
    {
     "data": {
      "application/vnd.jupyter.widget-view+json": {
       "model_id": "5e10a8ab85df4546bc159c954c7ac6e7",
       "version_major": 2,
       "version_minor": 0
      },
      "text/plain": [
       "deconstruct into fuzzer target calls:   0%|          | 0/536236 [00:00<?, ?it/s]"
      ]
     },
     "metadata": {},
     "output_type": "display_data"
    },
    {
     "data": {
      "application/vnd.jupyter.widget-view+json": {
       "model_id": "236cb196f6d946a48bf13b27abb87184",
       "version_major": 2,
       "version_minor": 0
      },
      "text/plain": [
       "deconstruct into fuzzer target calls:   0%|          | 0/3984 [00:00<?, ?it/s]"
      ]
     },
     "metadata": {},
     "output_type": "display_data"
    },
    {
     "data": {
      "application/vnd.jupyter.widget-view+json": {
       "model_id": "8b42eaae5ebc47c7a2d2f28a74535fb1",
       "version_major": 2,
       "version_minor": 0
      },
      "text/plain": [
       "deconstruct into fuzzer target calls:   0%|          | 0/1428070 [00:00<?, ?it/s]"
      ]
     },
     "metadata": {},
     "output_type": "display_data"
    },
    {
     "data": {
      "application/vnd.jupyter.widget-view+json": {
       "model_id": "026a1748c74e4e83996ee4bd6eb7c0cc",
       "version_major": 2,
       "version_minor": 0
      },
      "text/plain": [
       "deconstruct into fuzzer target calls:   0%|          | 0/223744 [00:00<?, ?it/s]"
      ]
     },
     "metadata": {},
     "output_type": "display_data"
    },
    {
     "data": {
      "application/vnd.jupyter.widget-view+json": {
       "model_id": "e80931d50ad9409dad39b7234971bb21",
       "version_major": 2,
       "version_minor": 0
      },
      "text/plain": [
       "deconstruct into fuzzer target calls:   0%|          | 0/9705 [00:00<?, ?it/s]"
      ]
     },
     "metadata": {},
     "output_type": "display_data"
    },
    {
     "name": "stdout",
     "output_type": "stream",
     "text": [
      "ROUND 2: 0 files failed parsing\n"
     ]
    },
    {
     "ename": "TypeError",
     "evalue": "sequence item 0: expected str instance, PosixPath found",
     "output_type": "error",
     "traceback": [
      "\u001b[0;31m---------------------------------------------------------------------------\u001b[0m",
      "\u001b[0;31mTypeError\u001b[0m                                 Traceback (most recent call last)",
      "Cell \u001b[0;32mIn [20], line 13\u001b[0m\n\u001b[1;32m     10\u001b[0m         failed_2\u001b[38;5;241m.\u001b[39mappend(repair_path)\n\u001b[1;32m     12\u001b[0m \u001b[38;5;28mprint\u001b[39m(\u001b[38;5;124m\"\u001b[39m\u001b[38;5;124mROUND 2:\u001b[39m\u001b[38;5;124m\"\u001b[39m, \u001b[38;5;28mlen\u001b[39m(failed_2), \u001b[38;5;124m\"\u001b[39m\u001b[38;5;124mfiles failed parsing\u001b[39m\u001b[38;5;124m\"\u001b[39m)\n\u001b[0;32m---> 13\u001b[0m Path(\u001b[38;5;124m\"\u001b[39m\u001b[38;5;124mSUCCESS_FILES_SHAGAGONOOK_2.txt\u001b[39m\u001b[38;5;124m\"\u001b[39m)\u001b[38;5;241m.\u001b[39mwrite_text(\u001b[38;5;124;43m\"\u001b[39;49m\u001b[38;5;130;43;01m\\n\u001b[39;49;00m\u001b[38;5;124;43m\"\u001b[39;49m\u001b[38;5;241;43m.\u001b[39;49m\u001b[43mjoin\u001b[49m\u001b[43m(\u001b[49m\u001b[43msuccesses_2\u001b[49m\u001b[43m)\u001b[49m)\n\u001b[1;32m     15\u001b[0m \u001b[38;5;66;03m# root = ET.parse('traces-1m/trace-angus-mail-BASE64EncoderStreamFuzzer.xml').getroot()\u001b[39;00m\n\u001b[1;32m     16\u001b[0m \u001b[38;5;66;03m# root\u001b[39;00m\n",
      "\u001b[0;31mTypeError\u001b[0m: sequence item 0: expected str instance, PosixPath found"
     ]
    }
   ],
   "source": [
    "successes_2 = []\n",
    "failed_2 = []\n",
    "for fpath in tqdm.tqdm(failed_1, position=1, desc=\"round 2\"):\n",
    "    repair_path = recover_functions(fpath)\n",
    "    try:\n",
    "        root = ET.parse(repair_path).getroot()\n",
    "        successes_2.append(repair_path)\n",
    "    except ET.ParseError as ex:\n",
    "        print(\"exception\", type(ex), ex, \"parsing\", fpath)\n",
    "        failed_2.append(repair_path)\n",
    "\n",
    "print(\"ROUND 2:\", len(failed_2), \"files failed parsing\")\n",
    "Path(\"SUCCESS_FILES_SHAGAGONOOK_2.txt\").write_text(\"\\n\".join(successes_2))\n",
    "\n",
    "# root = ET.parse('traces-1m/trace-angus-mail-BASE64EncoderStreamFuzzer.xml').getroot()\n",
    "# root"
   ]
  },
  {
   "cell_type": "code",
   "execution_count": 22,
   "metadata": {},
   "outputs": [
    {
     "data": {
      "text/plain": [
       "12671"
      ]
     },
     "execution_count": 22,
     "metadata": {},
     "output_type": "execute_result"
    }
   ],
   "source": [
    "Path(\"SUCCESS_FILES_SHAGAGONOOK_2.txt\").write_text(\"\\n\".join(map(str, successes_2)))"
   ]
  },
  {
   "cell_type": "code",
   "execution_count": 23,
   "metadata": {
    "collapsed": false,
    "jupyter": {
     "outputs_hidden": false
    }
   },
   "outputs": [],
   "source": [
    "all_files = successes_1 + successes_2"
   ]
  },
  {
   "cell_type": "code",
   "execution_count": 24,
   "metadata": {
    "collapsed": false,
    "jupyter": {
     "outputs_hidden": false
    }
   },
   "outputs": [],
   "source": [
    "with open(\"SUCCESS_FILES_SHAGAGONOOK.txt\", \"w\") as f:\n",
    "    f.write(\"\\n\".join(map(str, all_files)))"
   ]
  }
 ],
 "metadata": {
  "kernelspec": {
   "display_name": "Python 3 (ipykernel)",
   "language": "python",
   "name": "python3"
  },
  "language_info": {
   "codemirror_mode": {
    "name": "ipython",
    "version": 3
   },
   "file_extension": ".py",
   "mimetype": "text/x-python",
   "name": "python",
   "nbconvert_exporter": "python",
   "pygments_lexer": "ipython3",
   "version": "3.10.6"
  },
  "vscode": {
   "interpreter": {
    "hash": "5ede1a196b76944c8f4443c0dcb7a1f7267d958f23434ac7797fa7d09f7c5ffd"
   }
  }
 },
 "nbformat": 4,
 "nbformat_minor": 4
}
