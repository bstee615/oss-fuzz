{
 "cells": [
  {
   "cell_type": "code",
   "execution_count": 2,
   "outputs": [
    {
     "name": "stdout",
     "output_type": "stream",
     "text": [
      "Requirement already satisfied: GitPython in ./venv/lib/python3.8/site-packages (3.1.29)\r\n",
      "Collecting pyyaml\r\n",
      "  Using cached PyYAML-6.0-cp38-cp38-manylinux_2_5_x86_64.manylinux1_x86_64.manylinux_2_12_x86_64.manylinux2010_x86_64.whl (701 kB)\r\n",
      "Requirement already satisfied: gitdb<5,>=4.0.1 in ./venv/lib/python3.8/site-packages (from GitPython) (4.0.9)\r\n",
      "Requirement already satisfied: smmap<6,>=3.0.1 in ./venv/lib/python3.8/site-packages (from gitdb<5,>=4.0.1->GitPython) (5.0.0)\r\n",
      "Installing collected packages: pyyaml\r\n",
      "Successfully installed pyyaml-6.0\r\n",
      "\r\n",
      "\u001B[1m[\u001B[0m\u001B[34;49mnotice\u001B[0m\u001B[1;39;49m]\u001B[0m\u001B[39;49m A new release of pip available: \u001B[0m\u001B[31;49m22.2.2\u001B[0m\u001B[39;49m -> \u001B[0m\u001B[32;49m22.3.1\u001B[0m\r\n",
      "\u001B[1m[\u001B[0m\u001B[34;49mnotice\u001B[0m\u001B[1;39;49m]\u001B[0m\u001B[39;49m To update, run: \u001B[0m\u001B[32;49mpip install --upgrade pip\u001B[0m\r\n"
     ]
    }
   ],
   "source": [
    "import traceback\n",
    "!pip install GitPython pyyaml"
   ],
   "metadata": {
    "collapsed": false
   }
  },
  {
   "cell_type": "code",
   "execution_count": 19,
   "outputs": [
    {
     "data": {
      "text/plain": "'https://github.com/eclipse-ee4j/angus-mail.git'"
     },
     "execution_count": 19,
     "metadata": {},
     "output_type": "execute_result"
    }
   ],
   "source": [
    "from pathlib import Path\n",
    "import yaml\n",
    "\n",
    "projects_dir = Path(\"projects\")\n",
    "\n",
    "\n",
    "def get_project_repo(project):\n",
    "    with open(projects_dir / project / \"project.yaml\", \"r\") as stream:\n",
    "        return yaml.safe_load(stream)[\"main_repo\"]\n",
    "\n",
    "\n",
    "get_project_repo(\"angus-mail\")"
   ],
   "metadata": {
    "collapsed": false
   }
  },
  {
   "cell_type": "code",
   "execution_count": 20,
   "outputs": [
    {
     "data": {
      "text/plain": "<git.repo.base.Repo '/home/benjis/code/bug-benchmarks/oss-fuzz/repos/apache-commons-collections/.git'>"
     },
     "execution_count": 20,
     "metadata": {},
     "output_type": "execute_result"
    }
   ],
   "source": [
    "from git import Repo\n",
    "\n",
    "projects_dest = Path(\"repos\")\n",
    "projects_dest.mkdir(exist_ok=True)\n",
    "\n",
    "\n",
    "def clone_project(project):\n",
    "    dst = projects_dest / project\n",
    "    if dst.exists():\n",
    "        return Repo(dst)\n",
    "    else:\n",
    "        git_url = get_project_repo(project)\n",
    "        return Repo.clone_from(git_url, dst)\n",
    "\n",
    "\n",
    "clone_project(\"apache-commons-collections\")"
   ],
   "metadata": {
    "collapsed": false
   }
  },
  {
   "cell_type": "code",
   "execution_count": 21,
   "outputs": [
    {
     "data": {
      "text/plain": "['angus-mail',\n 'antlr4-java',\n 'apache-commons-bcel',\n 'apache-commons-beanutils',\n 'apache-commons-cli',\n 'apache-commons-codec',\n 'apache-commons-collections',\n 'apache-commons-configuration',\n 'apache-commons-io',\n 'apache-commons-jxpath',\n 'apache-commons-lang',\n 'apache-commons-logging',\n 'apache-commons',\n 'apache-felix-dev',\n 'archaius-core',\n 'arrow-java',\n 'aspectj',\n 'bazel-rules-fuzzing-test-java',\n 'bc-java',\n 'bc-java-wycheproof',\n 'brotli-java',\n 'cbor-java',\n 'cglib',\n 'checker-framework',\n 'dom4j',\n 'fastjson2',\n 'greenmail',\n 'groovy',\n 'gson',\n 'guava',\n 'guice',\n 'h2database',\n 'hamcrest',\n 'hdrhistogram',\n 'hibernate-orm',\n 'hsqldb',\n 'httpcomponents-client',\n 'httpcomponents-core',\n 'ical4j',\n 'jackson-core',\n 'jackson-databind',\n 'jackson-dataformats-binary',\n 'jackson-dataformats-text',\n 'jackson-dataformat-xml',\n 'jackson-modules-java8',\n 'jakarta-mail-api',\n 'janino',\n 'java-example',\n 'javaparser',\n 'javassist',\n 'jaxb',\n 'jersey',\n 'jettison',\n 'jetty',\n 'jimfs',\n 'jmh',\n 'joda-time',\n 'jsign',\n 'json-java',\n 'json-sanitizer',\n 'jsoup',\n 'jul-to-slf4j',\n 'junrar',\n 'kryo',\n 'log4j2',\n 'logback',\n 'maven',\n 'mysql-connector-j',\n 'okhttp',\n 'osgi',\n 'plexus-utils',\n 'protobuf-java',\n 'reload4j',\n 'retrofit',\n 'rxjava',\n 'servo-core',\n 'slf4j-api',\n 'snakeyaml',\n 'spring-amqp',\n 'spring-boot-actuator',\n 'spring-boot',\n 'spring-cloud-commons',\n 'spring-data-jpa',\n 'spring-data-keyvalue',\n 'spring-data-mongodb',\n 'spring-data-redis',\n 'spring-framework',\n 'spring-integration',\n 'spring-ldap',\n 'spring-retry',\n 'spring-security',\n 'spring-shell',\n 'stringtemplate4',\n 'tomcat',\n 'woodstox',\n 'xmlpull',\n 'xstream',\n 'zip4j',\n 'zxing']"
     },
     "execution_count": 21,
     "metadata": {},
     "output_type": "execute_result"
    }
   ],
   "source": [
    "all_projects = Path(\"java-projects-from-csv.txt\").read_text().splitlines(keepends=False)\n",
    "all_projects"
   ],
   "metadata": {
    "collapsed": false
   }
  },
  {
   "cell_type": "code",
   "execution_count": 23,
   "outputs": [
    {
     "data": {
      "text/plain": "  0%|          | 0/99 [00:00<?, ?it/s]",
      "application/vnd.jupyter.widget-view+json": {
       "version_major": 2,
       "version_minor": 0,
       "model_id": "21600a48423b4f58b124f3d499c61afe"
      }
     },
     "metadata": {},
     "output_type": "display_data"
    },
    {
     "name": "stdout",
     "output_type": "stream",
     "text": [
      "failed cloning bazel-rules-fuzzing-test-java\n"
     ]
    },
    {
     "name": "stderr",
     "output_type": "stream",
     "text": [
      "Traceback (most recent call last):\n",
      "  File \"/tmp/ipykernel_319213/3898478645.py\", line 5, in <module>\n",
      "    clone_project(project)\n",
      "  File \"/tmp/ipykernel_319213/1327069461.py\", line 11, in clone_project\n",
      "    git_url = get_project_repo(project)\n",
      "  File \"/tmp/ipykernel_319213/664733370.py\", line 8, in get_project_repo\n",
      "    return yaml.safe_load(stream)[\"main_repo\"]\n",
      "KeyError: 'main_repo'\n"
     ]
    },
    {
     "name": "stdout",
     "output_type": "stream",
     "text": [
      "failed cloning cbor-java\n"
     ]
    },
    {
     "name": "stderr",
     "output_type": "stream",
     "text": [
      "Traceback (most recent call last):\n",
      "  File \"/tmp/ipykernel_319213/3898478645.py\", line 5, in <module>\n",
      "    clone_project(project)\n",
      "  File \"/tmp/ipykernel_319213/1327069461.py\", line 12, in clone_project\n",
      "    return Repo.clone_from(git_url, dst)\n",
      "  File \"/home/benjis/code/bug-benchmarks/oss-fuzz/venv/lib/python3.8/site-packages/git/repo/base.py\", line 1275, in clone_from\n",
      "    return cls._clone(git, url, to_path, GitCmdObjectDB, progress, multi_options, **kwargs)\n",
      "  File \"/home/benjis/code/bug-benchmarks/oss-fuzz/venv/lib/python3.8/site-packages/git/repo/base.py\", line 1194, in _clone\n",
      "    finalize_process(proc, stderr=stderr)\n",
      "  File \"/home/benjis/code/bug-benchmarks/oss-fuzz/venv/lib/python3.8/site-packages/git/util.py\", line 419, in finalize_process\n",
      "    proc.wait(**kwargs)\n",
      "  File \"/home/benjis/code/bug-benchmarks/oss-fuzz/venv/lib/python3.8/site-packages/git/cmd.py\", line 559, in wait\n",
      "    raise GitCommandError(remove_password_if_present(self.args), status, errstr)\n",
      "git.exc.GitCommandError: Cmd('git') failed due to: exit code(128)\n",
      "  cmdline: git clone -v https://android.googlesource.com/platform/external/cbor-java/+/refs/heads/master repos/cbor-java\n",
      "  stderr: 'Cloning into 'repos/cbor-java'...\n",
      "fatal: repository 'https://android.googlesource.com/platform/external/cbor-java/+/refs/heads/master/' not found\n",
      "'\n"
     ]
    },
    {
     "name": "stdout",
     "output_type": "stream",
     "text": [
      "failed cloning hsqldb\n"
     ]
    },
    {
     "name": "stderr",
     "output_type": "stream",
     "text": [
      "Traceback (most recent call last):\n",
      "  File \"/tmp/ipykernel_319213/3898478645.py\", line 5, in <module>\n",
      "    clone_project(project)\n",
      "  File \"/tmp/ipykernel_319213/1327069461.py\", line 12, in clone_project\n",
      "    return Repo.clone_from(git_url, dst)\n",
      "  File \"/home/benjis/code/bug-benchmarks/oss-fuzz/venv/lib/python3.8/site-packages/git/repo/base.py\", line 1275, in clone_from\n",
      "    return cls._clone(git, url, to_path, GitCmdObjectDB, progress, multi_options, **kwargs)\n",
      "  File \"/home/benjis/code/bug-benchmarks/oss-fuzz/venv/lib/python3.8/site-packages/git/repo/base.py\", line 1194, in _clone\n",
      "    finalize_process(proc, stderr=stderr)\n",
      "  File \"/home/benjis/code/bug-benchmarks/oss-fuzz/venv/lib/python3.8/site-packages/git/util.py\", line 419, in finalize_process\n",
      "    proc.wait(**kwargs)\n",
      "  File \"/home/benjis/code/bug-benchmarks/oss-fuzz/venv/lib/python3.8/site-packages/git/cmd.py\", line 559, in wait\n",
      "    raise GitCommandError(remove_password_if_present(self.args), status, errstr)\n",
      "git.exc.GitCommandError: Cmd('git') failed due to: exit code(128)\n",
      "  cmdline: git clone -v https://svn.code.sf.net/p/hsqldb/svn/ repos/hsqldb\n",
      "  stderr: 'Cloning into 'repos/hsqldb'...\n",
      "fatal: repository 'https://svn.code.sf.net/p/hsqldb/svn/' not found\n",
      "'\n"
     ]
    }
   ],
   "source": [
    "import tqdm.auto as tqdm\n",
    "import traceback\n",
    "\n",
    "for project in tqdm.tqdm(all_projects):\n",
    "    try:\n",
    "        clone_project(project)\n",
    "    except Exception:\n",
    "        print(\"failed cloning\", project)\n",
    "        traceback.print_exc()"
   ],
   "metadata": {
    "collapsed": false
   }
  },
  {
   "cell_type": "code",
   "execution_count": null,
   "outputs": [],
   "source": [
    "# TODO: back up each repo to the commit which we pulled and fuzzed"
   ],
   "metadata": {
    "collapsed": false
   }
  },
  {
   "cell_type": "code",
   "execution_count": 38,
   "outputs": [],
   "source": [],
   "metadata": {
    "collapsed": false
   }
  }
 ],
 "metadata": {
  "kernelspec": {
   "display_name": "Python 3",
   "language": "python",
   "name": "python3"
  },
  "language_info": {
   "codemirror_mode": {
    "name": "ipython",
    "version": 2
   },
   "file_extension": ".py",
   "mimetype": "text/x-python",
   "name": "python",
   "nbconvert_exporter": "python",
   "pygments_lexer": "ipython2",
   "version": "2.7.6"
  }
 },
 "nbformat": 4,
 "nbformat_minor": 0
}
