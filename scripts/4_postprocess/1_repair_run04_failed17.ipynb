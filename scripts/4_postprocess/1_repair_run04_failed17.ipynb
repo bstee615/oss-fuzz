{
 "cells": [
  {
   "cell_type": "markdown",
   "metadata": {},
   "source": [
    "1. PARSE XML FILES\n",
    "2. TURN INTO TREE\n",
    "3. IF FAILS, PARSE AS MANY OF THE ENTRIES AS POSSIBLE"
   ]
  },
  {
   "cell_type": "code",
   "execution_count": 4,
   "metadata": {},
   "outputs": [
    {
     "name": "stdout",
     "output_type": "stream",
     "text": [
      "178 XML files found, 178 unique. duplicates = []\n"
     ]
    }
   ],
   "source": [
    "import traceback\n",
    "import xml.etree.ElementTree as ET\n",
    "from pathlib import Path\n",
    "import re\n",
    "import shutil\n",
    "import os\n",
    "\n",
    "import git\n",
    "\n",
    "repo = git.Repo('.', search_parent_directories=True)\n",
    "os.chdir(repo.working_tree_dir)\n",
    "\n",
    "srcpaths=(\n",
    "    \"/run/media/benjis/basilisk/Files/biggie/oss-fuzz/fuzz_10m_trace_3h/trace_run_3_success_3h/traces-10m/logs-xmls\",\n",
    ")\n",
    "\n",
    "xmls = []\n",
    "for d in srcpaths:\n",
    "    l = list(Path(d).glob(\"*.xml\"))\n",
    "    l = [p for p in l if \".repair.\" not in p.name]\n",
    "    xmls += l\n",
    "print(len(xmls), \"XML files found,\", len(set([f.name for f in xmls])), \"unique. duplicates =\", [f for f in xmls if [g.name for g in xmls].count(f.name) > 1])"
   ]
  },
  {
   "cell_type": "code",
   "execution_count": 5,
   "metadata": {},
   "outputs": [],
   "source": [
    "dstdir=Path(\"postprocessed_xmls\")"
   ]
  },
  {
   "cell_type": "code",
   "execution_count": 19,
   "metadata": {},
   "outputs": [],
   "source": [
    "if dstdir.exists():\n",
    "    shutil.rmtree(dstdir)\n",
    "dstdir.mkdir(exist_ok=True)"
   ]
  },
  {
   "cell_type": "code",
   "execution_count": 20,
   "metadata": {},
   "outputs": [
    {
     "name": "stderr",
     "output_type": "stream",
     "text": [
      "100%|██████████████████████████████████████████████████████████████████████████████████████████████████████████████████████████████████████| 178/178 [1:20:47<00:00, 27.24s/it]\n"
     ]
    },
    {
     "name": "stdout",
     "output_type": "stream",
     "text": [
      "ROUND 1: 150 files failed parsing\n"
     ]
    },
    {
     "data": {
      "text/plain": [
       "4367"
      ]
     },
     "execution_count": 20,
     "metadata": {},
     "output_type": "execute_result"
    }
   ],
   "source": [
    "import tqdm as tqdm\n",
    "\n",
    "successes_1 = []\n",
    "failed_1 = []\n",
    "for fpath in tqdm.tqdm(xmls):\n",
    "    try:\n",
    "        it = ET.iterparse(fpath)\n",
    "        for tag in it:\n",
    "            pass\n",
    "        successes_1.append(fpath)\n",
    "        shutil.copyfile(fpath, dstdir/fpath.name)\n",
    "    except ET.ParseError as ex:\n",
    "        failed_1.append(fpath)\n",
    "\n",
    "print(\"ROUND 1:\", len(failed_1), \"files failed parsing\")\n",
    "(dstdir/\"1_repair_success_1.txt\").write_text(\"\\n\".join(map(str, successes_1)))"
   ]
  },
  {
   "cell_type": "code",
   "execution_count": 10,
   "metadata": {},
   "outputs": [
    {
     "data": {
      "text/plain": [
       "PosixPath('postprocessed_xmls_debug/trace-apache-commons-cli-ParserFuzzer.xml.repair.xml')"
      ]
     },
     "execution_count": 10,
     "metadata": {},
     "output_type": "execute_result"
    }
   ],
   "source": [
    "import tqdm as tqdm\n",
    "\n",
    "fuzzer_start = re.compile(r'''<call[^>]*method=\"[^(\"]+.fuzzerTestOneInput\\([^)]+\\)\"[^>]*''')\n",
    "\n",
    "from xml.dom import minidom\n",
    "from xml.parsers.expat import ExpatError\n",
    "\n",
    "def recover_functions_simple(fpath, dstdir):\n",
    "    repair_path = dstdir/(str(fpath.name) + \".repair.xml\")\n",
    "    if repair_path.exists():\n",
    "        return repair_path\n",
    "    \n",
    "#     with open(fpath) as f:\n",
    "#         num_lines = sum(1 for line in tqdm.tqdm(f, desc=f\"count lines ({fpath.name})\"))\n",
    "    last_fuzzer_start = None\n",
    "    with open(fpath) as f:\n",
    "        i = 0\n",
    "        it = iter(f)\n",
    "        failed_functions = 0\n",
    "        all_functions = 0\n",
    "        with tqdm.tqdm(it, total=None, desc=f\"chop final fuzzer target call ({fpath.name})\") as pbar:\n",
    "            it = pbar\n",
    "            fuzz_functions = []\n",
    "            current_fuzz_function = None\n",
    "            for i, line in enumerate(it):\n",
    "                m = fuzzer_start.search(line)\n",
    "                if m is not None:\n",
    "#                     print(\"MATCH\", m, m.start(), m.span())\n",
    "                    j = m.start()\n",
    "                    last_fuzzer_start = (i, j)\n",
    "#     print(\"LFS\", last_fuzzer_start)\n",
    "    if last_fuzzer_start is None:\n",
    "        print(\"ERROR: last_fuzzer_start is None\", fpath)\n",
    "        return None\n",
    "    \n",
    "    with open(fpath) as f, open(repair_path, \"w\") as outf:\n",
    "        it = iter(f)\n",
    "        with tqdm.tqdm(it, total=last_fuzzer_start[0], desc=f\"write file ({fpath.name})\") as pbar:\n",
    "            it = pbar\n",
    "            for i, line in enumerate(it):\n",
    "#                 print(i)\n",
    "                if i == last_fuzzer_start[0]:\n",
    "#                     print(\"LINE:\")\n",
    "#                     print(line)\n",
    "                    line_chopped = line[:last_fuzzer_start[1]]\n",
    "#                     print(\"CHOPPED:\")\n",
    "#                     print(line_chopped)\n",
    "                    outf.write(line_chopped)\n",
    "                    break\n",
    "                else:\n",
    "                    outf.write(line)\n",
    "            outf.write(\"</trace>\")\n",
    "        \n",
    "    return repair_path\n",
    "\n",
    "xml_file = Path(\"/run/media/benjis/basilisk/Files/biggie/oss-fuzz/fuzz_10m_trace_3h/trace_run_3_success_3h/traces-10m/logs-xmls\")/\"trace-apache-commons-cli-ParserFuzzer.xml\"\n",
    "recover_functions_simple(xml_file, Path(\"postprocessed_xmls_debug\"))"
   ]
  },
  {
   "cell_type": "code",
   "execution_count": 11,
   "metadata": {},
   "outputs": [
    {
     "name": "stdout",
     "output_type": "stream",
     "text": [
      "/run/media/benjis/basilisk/Files/biggie/oss-fuzz/fuzz_10m_trace_3h/trace_run_3_success_3h/traces-10m/logs-xmls/trace-apache-commons-cli-ParserFuzzer.xml -> postprocessed_xmls_debug/trace-apache-commons-cli-ParserFuzzer.xml.repair.xml\n"
     ]
    },
    {
     "name": "stderr",
     "output_type": "stream",
     "text": [
      "check XML parse (trace-apache-commons-cli-ParserFuzzer.xml): 3530913it [00:31, 113565.70it/s]\n"
     ]
    },
    {
     "ename": "ParseError",
     "evalue": "mismatched tag: line 3751875, column 2 (<string>)",
     "output_type": "error",
     "traceback": [
      "Traceback \u001b[0;36m(most recent call last)\u001b[0m:\n",
      "\u001b[0m  File \u001b[1;32m~/.local/lib/python3.11/site-packages/IPython/core/interactiveshell.py:3433\u001b[0m in \u001b[1;35mrun_code\u001b[0m\n    exec(code_obj, self.user_global_ns, self.user_ns)\u001b[0m\n",
      "\u001b[0m  Cell \u001b[1;32mIn[11], line 5\u001b[0m\n    for tag in tqdm.tqdm(it, desc=f\"check XML parse ({fpath.name})\"):\u001b[0m\n",
      "\u001b[0m  File \u001b[1;32m~/.local/lib/python3.11/site-packages/tqdm/std.py:1195\u001b[0m in \u001b[1;35m__iter__\u001b[0m\n    for obj in iterable:\u001b[0m\n",
      "\u001b[0m  File \u001b[1;32m/usr/lib64/python3.11/xml/etree/ElementTree.py:1249\u001b[0m in \u001b[1;35miterator\u001b[0m\n    yield from pullparser.read_events()\u001b[0m\n",
      "\u001b[0m  File \u001b[1;32m/usr/lib64/python3.11/xml/etree/ElementTree.py:1320\u001b[0m in \u001b[1;35mread_events\u001b[0m\n    raise event\u001b[0m\n",
      "\u001b[0;36m  File \u001b[0;32m/usr/lib64/python3.11/xml/etree/ElementTree.py:1292\u001b[0;36m in \u001b[0;35mfeed\u001b[0;36m\n\u001b[0;31m    self._parser.feed(data)\u001b[0;36m\n",
      "\u001b[0;36m  File \u001b[0;32m<string>\u001b[0;36m\u001b[0m\n\u001b[0;31mParseError\u001b[0m\u001b[0;31m:\u001b[0m mismatched tag: line 3751875, column 2\n"
     ]
    }
   ],
   "source": [
    "fpath = Path(\"/run/media/benjis/basilisk/Files/biggie/oss-fuzz/fuzz_10m_trace_3h/trace_run_3_success_3h/traces-10m/logs-xmls\")/\"trace-apache-commons-cli-ParserFuzzer.xml\"\n",
    "repair_path = recover_functions_simple(fpath, Path(\"postprocessed_xmls_debug\"))\n",
    "print(fpath, \"->\", repair_path)\n",
    "it = ET.iterparse(repair_path)\n",
    "for tag in tqdm.tqdm(it, desc=f\"check XML parse ({fpath.name})\"):\n",
    "    pass"
   ]
  },
  {
   "cell_type": "code",
   "execution_count": 12,
   "metadata": {},
   "outputs": [
    {
     "data": {
      "text/plain": [
       "(28, 150)"
      ]
     },
     "execution_count": 12,
     "metadata": {},
     "output_type": "execute_result"
    }
   ],
   "source": [
    "successes_1 = list(map(Path, (dstdir/\"1_repair_success_1.txt\").read_text().split(\"\\n\")))\n",
    "failed_1 = [fpath for fpath in xmls if fpath.name not in [s.name for s in successes_1]]\n",
    "len(successes_1), len(failed_1)"
   ]
  },
  {
   "cell_type": "code",
   "execution_count": 14,
   "metadata": {},
   "outputs": [
    {
     "name": "stderr",
     "output_type": "stream",
     "text": [
      "\n",
      "check XML parse (trace-jackson-dataformat-xml-XmlFuzzer.xml): 1it [00:00, 1807.89it/s]                                                                                                                                | 0/150 [00:00<?, ?it/s]\u001b[A\n",
      "check XML parse (trace-apache-commons-bcel-BcelFuzzer.xml): 81623it [00:00, 173082.51it/s]\n",
      "\n",
      "check XML parse (trace-apache-commons-beanutils-BeanutilsFuzzer.xml): 5569750it [00:48, 115179.30it/s]                                                                                                        | 2/150 [00:00<00:35,  4.17it/s]\u001b[A\n",
      "\n",
      "check XML parse (trace-apache-commons-cli-ParserFuzzer.xml): 3530913it [00:33, 106461.83it/s]                                                                                                                 | 3/150 [00:48<49:42, 20.29s/it]\u001b[A\n",
      "\n",
      "round 2:   3%|█████                                                                                                                                                                                         | 4/150 [01:22<1:01:04, 25.10s/it]\u001b[A"
     ]
    },
    {
     "name": "stdout",
     "output_type": "stream",
     "text": [
      "exception <class 'xml.etree.ElementTree.ParseError'> mismatched tag: line 3751875, column 2 parsing /run/media/benjis/basilisk/Files/biggie/oss-fuzz/fuzz_10m_trace_3h/trace_run_3_success_3h/traces-10m/logs-xmls/trace-apache-commons-cli-ParserFuzzer.xml postprocessed_xmls/trace-apache-commons-cli-ParserFuzzer.xml.repair.xml\n"
     ]
    },
    {
     "name": "stderr",
     "output_type": "stream",
     "text": [
      "check XML parse (trace-apache-commons-codec-BinaryEncodingFuzzer.xml): 3796845it [00:33, 113784.95it/s]\n",
      "\n",
      "check XML parse (trace-apache-commons-collections-CollectionsBidiMapFuzzer.xml): 1it [00:01,  1.18s/it]                                                                                                     | 5/150 [01:55<1:07:36, 27.98s/it]\u001b[A\n",
      "\n",
      "check XML parse (trace-apache-commons-CompressSevenZFuzzer.xml): 846973it [00:05, 167413.97it/s]                                                                                                              | 6/150 [01:56<45:48, 19.09s/it]\u001b[A\n",
      "\n",
      "check XML parse (trace-apache-commons-CompressTarFuzzer.xml): 4873660it [00:38, 126422.80it/s]                                                                                                                | 7/150 [02:01<34:44, 14.58s/it]\u001b[A\n",
      "\n",
      "round 2:   5%|██████████▏                                                                                                                                                                                     | 8/150 [02:40<52:21, 22.13s/it]\u001b[A"
     ]
    },
    {
     "name": "stdout",
     "output_type": "stream",
     "text": [
      "exception <class 'xml.etree.ElementTree.ParseError'> mismatched tag: line 4666420, column 2 parsing /run/media/benjis/basilisk/Files/biggie/oss-fuzz/fuzz_10m_trace_3h/trace_run_3_success_3h/traces-10m/logs-xmls/trace-apache-commons-CompressTarFuzzer.xml postprocessed_xmls/trace-apache-commons-CompressTarFuzzer.xml.repair.xml\n"
     ]
    },
    {
     "name": "stderr",
     "output_type": "stream",
     "text": [
      "check XML parse (trace-apache-commons-CompressZipFuzzer.xml): 4260591it [00:38, 112029.48it/s]\n",
      "\n",
      "check XML parse (trace-apache-commons-configuration-INIConfigurationWriteFuzzer.xml): 18380it [00:01, 12152.43it/s]                                                                                         | 9/150 [03:18<1:03:35, 27.06s/it]\u001b[A\n",
      "\n",
      "round 2:   7%|████████████▋                                                                                                                                                                                  | 10/150 [03:19<44:50, 19.22s/it]\u001b[A"
     ]
    },
    {
     "name": "stdout",
     "output_type": "stream",
     "text": [
      "exception <class 'xml.etree.ElementTree.ParseError'> mismatched tag: line 20056, column 2 parsing /run/media/benjis/basilisk/Files/biggie/oss-fuzz/fuzz_10m_trace_3h/trace_run_3_success_3h/traces-10m/logs-xmls/trace-apache-commons-configuration-INIConfigurationWriteFuzzer.xml postprocessed_xmls/trace-apache-commons-configuration-INIConfigurationWriteFuzzer.xml.repair.xml\n"
     ]
    },
    {
     "name": "stderr",
     "output_type": "stream",
     "text": [
      "check XML parse (trace-apache-commons-configuration-JSONConfigurationReadFuzzer.xml): 1it [00:00, 2681.78it/s]\n",
      "check XML parse (trace-apache-commons-configuration-JSONConfigurationWriteFuzzer.xml): 1it [00:00, 6326.25it/s]\n",
      "check XML parse (trace-apache-commons-configuration-XMLConfigurationLoadFuzzer.xml): 1it [00:00, 2199.43it/s]\n",
      "check XML parse (trace-apache-commons-configuration-XMLConfigurationWriteFuzzer.xml): 1it [00:00, 2796.20it/s]\n",
      "check XML parse (trace-apache-commons-configuration-YAMLConfigurationReadFuzzer.xml): 1it [00:00, 6384.02it/s]\n",
      "check XML parse (trace-apache-commons-configuration-YAMLConfigurationWriteFuzzer.xml): 1it [00:00, 4190.11it/s]\n",
      "check XML parse (trace-apache-commons-ImagingGifFuzzer.xml): 420573it [00:05, 76500.81it/s] \n",
      "\n",
      "check XML parse (trace-apache-commons-ImagingJpegFuzzer.xml): 1444164it [00:12, 119853.76it/s]                                                                                                               | 17/150 [03:25<11:47,  5.32s/it]\u001b[A\n",
      "\n",
      "check XML parse (trace-apache-commons-ImagingPngFuzzer.xml): 2465311it [00:22, 109412.92it/s]                                                                                                                | 18/150 [03:37<13:40,  6.22s/it]\u001b[A\n",
      "\n",
      "check XML parse (trace-apache-commons-ImagingTiffFuzzer.xml): 337829it [00:02, 121677.95it/s]                                                                                                                | 19/150 [03:59<19:16,  8.83s/it]\u001b[A\n",
      "\n",
      "check XML parse (trace-apache-commons-io-InputXmlFuzzer.xml): 5890279it [00:50, 116750.32it/s]                                                                                                               | 20/150 [04:02<16:41,  7.70s/it]\u001b[A\n",
      "\n",
      "check XML parse (trace-apache-commons-configuration-INIConfigurationReadFuzzer.xml): 12735it [00:02, 5491.56it/s]                                                                                            | 21/150 [04:53<35:52, 16.68s/it]\u001b[A\n",
      "\n",
      "round 2:  15%|████████████████████████████                                                                                                                                                                   | 22/150 [04:55<28:31, 13.37s/it]\u001b[A"
     ]
    },
    {
     "name": "stdout",
     "output_type": "stream",
     "text": [
      "exception <class 'xml.etree.ElementTree.ParseError'> mismatched tag: line 14057, column 2 parsing /run/media/benjis/basilisk/Files/biggie/oss-fuzz/fuzz_10m_trace_3h/trace_run_3_success_3h/traces-10m/logs-xmls/trace-apache-commons-configuration-INIConfigurationReadFuzzer.xml postprocessed_xmls/trace-apache-commons-configuration-INIConfigurationReadFuzzer.xml.repair.xml\n"
     ]
    },
    {
     "name": "stderr",
     "output_type": "stream",
     "text": [
      "check XML parse (trace-apache-commons-ImagingBmpFuzzer.xml): 28242it [00:00, 166814.58it/s]\n",
      "\n",
      "check XML parse (trace-apache-commons-jxpath-JXPathFuzzer.xml): 1it [00:00, 87.68it/s]                                                                                                                       | 23/150 [04:55<21:22, 10.10s/it]\u001b[A\n",
      "check XML parse (trace-bc-java-CMSEnvelopedDataParserFuzzer.xml): 1it [00:00, 867.67it/s]\n",
      "check XML parse (trace-dom4j-DOMReaderFuzzer.xml): 1it [00:00, 1520.23it/s]\n",
      "check XML parse (trace-guava-InetAddressesFuzzer.xml): 3656240it [00:28, 127193.66it/s]\n",
      "\n",
      "check XML parse (trace-h2database-CsvReadFuzzer.xml): 8107552it [01:05, 124325.67it/s]                                                                                                                       | 27/150 [05:24<17:12,  8.40s/it]\u001b[A\n",
      "\n",
      "check XML parse (trace-hdrhistogram-LogReaderWriterFuzzer.xml): 23it [00:02,  9.64it/s]                                                                                                                      | 28/150 [06:29<37:04, 18.23s/it]\u001b[A\n",
      "\n",
      "check XML parse (trace-httpcomponents-client-FormBodyPartBuilderBuildFuzzer.xml): 1it [00:00, 1743.99it/s]                                                                                                   | 29/150 [06:32<30:26, 15.09s/it]\u001b[A\n",
      "check XML parse (trace-jackson-core-DataInputFuzzer.xml): 3590764it [00:28, 123866.75it/s]\n",
      "\n",
      "check XML parse (trace-jackson-databind-ConvertValueFuzzer.xml): 1it [00:01,  1.06s/it]                                                                                                                      | 31/150 [07:01<29:30, 14.88s/it]\u001b[A\n",
      "\n",
      "check XML parse (trace-apache-commons-lang-EscapeHtmlFuzzer.xml): 2453255it [00:20, 121379.77it/s]                                                                                                           | 32/150 [07:02<23:40, 12.04s/it]\u001b[A\n",
      "\n",
      "check XML parse (trace-apache-commons-lang-StringEscapeUtilsFuzzer.xml): 3236537it [00:31, 104121.74it/s]                                                                                                    | 33/150 [07:22<27:05, 13.90s/it]\u001b[A\n",
      "\n",
      "check XML parse (trace-apache-felix-dev-JSONParserFuzzer.xml): 710286it [00:08, 81136.00it/s]                                                                                                                | 34/150 [07:53<35:00, 18.10s/it]\u001b[A\n",
      "\n",
      "round 2:  23%|████████████████████████████████████████████▌                                                                                                                                                  | 35/150 [08:02<30:03, 15.68s/it]\u001b[A"
     ]
    },
    {
     "name": "stdout",
     "output_type": "stream",
     "text": [
      "exception <class 'xml.etree.ElementTree.ParseError'> mismatched tag: line 944993, column 2 parsing /run/media/benjis/basilisk/Files/biggie/oss-fuzz/fuzz_10m_trace_3h/trace_run_3_success_3h/traces-10m/logs-xmls/trace-apache-felix-dev-JSONParserFuzzer.xml postprocessed_xmls/trace-apache-felix-dev-JSONParserFuzzer.xml.repair.xml\n"
     ]
    },
    {
     "name": "stderr",
     "output_type": "stream",
     "text": [
      "check XML parse (trace-archaius-core-DynamicPropertyFuzzer.xml): 1it [00:00, 3374.34it/s]\n",
      "check XML parse (trace-aspectj-ASTFuzzer.xml): 48it [00:00, 172.32it/s]\n",
      "\n",
      "check XML parse (trace-bc-java-EncodingFuzzer.xml): 22744924it [02:42, 140107.65it/s]                                                                                                                        | 37/150 [08:02<17:05,  9.07s/it]\u001b[A\n",
      "\n",
      "check XML parse (trace-bc-java-PEMParserFuzzer.xml): 5982737it [00:53, 111730.83it/s]                                                                                                                      | 38/150 [10:44<1:23:36, 44.79s/it]\u001b[A\n",
      "\n",
      "check XML parse (trace-bc-java-X509CertPairParserFuzzer.xml): 14970it [00:01, 7986.65it/s]                                                                                                                 | 39/150 [11:38<1:26:54, 46.97s/it]\u001b[A\n",
      "\n",
      "check XML parse (trace-cglib-EnhancerFuzzer.xml): 1it [00:00, 160.05it/s]                                                                                                                                  | 40/150 [11:40<1:04:22, 35.12s/it]\u001b[A\n",
      "check XML parse (trace-checker-framework-UtilCheckerFuzzer.xml): 5383513it [00:47, 113650.61it/s]\n",
      "\n",
      "round 2:  28%|█████████████████████████████████████████████████████▍                                                                                                                                         | 42/150 [12:27<54:23, 30.22s/it]\u001b[A"
     ]
    },
    {
     "name": "stdout",
     "output_type": "stream",
     "text": [
      "exception <class 'xml.etree.ElementTree.ParseError'> mismatched tag: line 7467990, column 2 parsing /run/media/benjis/basilisk/Files/biggie/oss-fuzz/fuzz_10m_trace_3h/trace_run_3_success_3h/traces-10m/logs-xmls/trace-checker-framework-UtilCheckerFuzzer.xml postprocessed_xmls/trace-checker-framework-UtilCheckerFuzzer.xml.repair.xml\n"
     ]
    },
    {
     "name": "stderr",
     "output_type": "stream",
     "text": [
      "check XML parse (trace-fastjson2-JsonFuzzer.xml): 90778it [00:02, 39796.64it/s]\n",
      "\n",
      "check XML parse (trace-groovy-DurationFuzzer.xml): 25563it [00:00, 157991.90it/s]                                                                                                                            | 43/150 [12:29<42:12, 23.67s/it]\u001b[A\n",
      "\n",
      "check XML parse (trace-groovy-TestFuzzer.xml): 20it [00:00, 2001.62it/s]                                                                                                                                     | 44/150 [12:30<31:23, 17.77s/it]\u001b[A\n"
     ]
    },
    {
     "name": "stdout",
     "output_type": "stream",
     "text": [
      "exception <class 'xml.etree.ElementTree.ParseError'> mismatched tag: line 26, column 2 parsing /run/media/benjis/basilisk/Files/biggie/oss-fuzz/fuzz_10m_trace_3h/trace_run_3_success_3h/traces-10m/logs-xmls/trace-groovy-TestFuzzer.xml postprocessed_xmls/trace-groovy-TestFuzzer.xml.repair.xml\n"
     ]
    },
    {
     "name": "stderr",
     "output_type": "stream",
     "text": [
      "check XML parse (trace-guava-HashingFuzzer.xml): 5069257it [00:35, 144175.67it/s]\n",
      "\n",
      "check XML parse (trace-guava-HostSpecifierFuzzer.xml): 1it [00:01,  1.39s/it]                                                                                                                                | 46/150 [13:05<30:40, 17.69s/it]\u001b[A\n",
      "\n",
      "check XML parse (trace-guava-InternetDomainNameFuzzer.xml): 1it [00:00, 5675.65it/s]                                                                                                                         | 47/150 [13:06<23:56, 13.95s/it]\u001b[A\n",
      "check XML parse (trace-guava-MediaTypeFuzzer.xml): 1it [00:00, 3799.19it/s]\n",
      "check XML parse (trace-guava-UrlEscapersFuzzer.xml): 9128266it [01:10, 129068.04it/s]\n",
      "\n",
      "check XML parse (trace-guice-InjectorFuzzer.xml): 1it [00:03,  3.01s/it]█████▋                                                                                                                               | 50/150 [14:17<31:12, 18.73s/it]\u001b[A\n",
      "\n",
      "check XML parse (trace-h2database-CsvReadBackFuzzer.xml): 7056298it [01:04, 109844.94it/s]                                                                                                                   | 51/150 [14:20<25:56, 15.72s/it]\u001b[A\n",
      "\n",
      "check XML parse (trace-h2database-ServerLoginFuzzer.xml): 3it [00:02,  1.02it/s]▏                                                                                                                            | 52/150 [15:24<42:40, 26.13s/it]\u001b[A\n",
      "\n",
      "round 2:  35%|███████████████████████████████████████████████████████████████████▍                                                                                                                           | 53/150 [15:27<33:27, 20.69s/it]\u001b[A"
     ]
    },
    {
     "name": "stdout",
     "output_type": "stream",
     "text": [
      "exception <class 'xml.etree.ElementTree.ParseError'> mismatched tag: line 20, column 2 parsing /run/media/benjis/basilisk/Files/biggie/oss-fuzz/fuzz_10m_trace_3h/trace_run_3_success_3h/traces-10m/logs-xmls/trace-h2database-ServerLoginFuzzer.xml postprocessed_xmls/trace-h2database-ServerLoginFuzzer.xml.repair.xml\n"
     ]
    },
    {
     "name": "stderr",
     "output_type": "stream",
     "text": [
      "check XML parse (trace-h2database-ShellFuzzer.xml): 3it [00:00, 15867.48it/s]\n"
     ]
    },
    {
     "name": "stdout",
     "output_type": "stream",
     "text": [
      "exception <class 'xml.etree.ElementTree.ParseError'> mismatched tag: line 20, column 2 parsing /run/media/benjis/basilisk/Files/biggie/oss-fuzz/fuzz_10m_trace_3h/trace_run_3_success_3h/traces-10m/logs-xmls/trace-h2database-ShellFuzzer.xml postprocessed_xmls/trace-h2database-ShellFuzzer.xml.repair.xml\n"
     ]
    },
    {
     "name": "stderr",
     "output_type": "stream",
     "text": [
      "check XML parse (trace-h2database-SqlPreparedStatementFuzzer.xml): 3it [00:00, 270.94it/s]\n"
     ]
    },
    {
     "name": "stdout",
     "output_type": "stream",
     "text": [
      "exception <class 'xml.etree.ElementTree.ParseError'> mismatched tag: line 20, column 2 parsing /run/media/benjis/basilisk/Files/biggie/oss-fuzz/fuzz_10m_trace_3h/trace_run_3_success_3h/traces-10m/logs-xmls/trace-h2database-SqlPreparedStatementFuzzer.xml postprocessed_xmls/trace-h2database-SqlPreparedStatementFuzzer.xml.repair.xml\n"
     ]
    },
    {
     "name": "stderr",
     "output_type": "stream",
     "text": [
      "check XML parse (trace-h2database-SqlStatementFuzzer.xml): 3it [00:00, 7543.71it/s]\n"
     ]
    },
    {
     "name": "stdout",
     "output_type": "stream",
     "text": [
      "exception <class 'xml.etree.ElementTree.ParseError'> mismatched tag: line 20, column 2 parsing /run/media/benjis/basilisk/Files/biggie/oss-fuzz/fuzz_10m_trace_3h/trace_run_3_success_3h/traces-10m/logs-xmls/trace-h2database-SqlStatementFuzzer.xml postprocessed_xmls/trace-h2database-SqlStatementFuzzer.xml.repair.xml\n"
     ]
    },
    {
     "name": "stderr",
     "output_type": "stream",
     "text": [
      "check XML parse (trace-hamcrest-HamcrestFuzzer.xml): 1it [00:00, 5562.74it/s]\n",
      "check XML parse (trace-hsqldb-ConnectionOptionsFuzzer.xml): 0it [00:00, ?it/s]\n"
     ]
    },
    {
     "name": "stdout",
     "output_type": "stream",
     "text": [
      "exception <class 'xml.etree.ElementTree.ParseError'> no element found: line 1, column 0 parsing /run/media/benjis/basilisk/Files/biggie/oss-fuzz/fuzz_10m_trace_3h/trace_run_3_success_3h/traces-10m/logs-xmls/trace-hsqldb-ConnectionOptionsFuzzer.xml postprocessed_xmls/trace-hsqldb-ConnectionOptionsFuzzer.xml.repair.xml\n"
     ]
    },
    {
     "name": "stderr",
     "output_type": "stream",
     "text": [
      "chop final fuzzer target call (trace-hsqldb-SqlPreparedStatementFuzzer.xml): 5009it [00:00, 15194.61it/s]\n",
      "\n",
      "round 2:  39%|███████████████████████████████████████████████████████████████████████████▏                                                                                                                   | 59/150 [15:28<10:31,  6.94s/it]\u001b[A"
     ]
    },
    {
     "name": "stdout",
     "output_type": "stream",
     "text": [
      "ERROR: last_fuzzer_start is None /run/media/benjis/basilisk/Files/biggie/oss-fuzz/fuzz_10m_trace_3h/trace_run_3_success_3h/traces-10m/logs-xmls/trace-hsqldb-SqlPreparedStatementFuzzer.xml\n",
      "ERROR /run/media/benjis/basilisk/Files/biggie/oss-fuzz/fuzz_10m_trace_3h/trace_run_3_success_3h/traces-10m/logs-xmls/trace-hsqldb-SqlPreparedStatementFuzzer.xml\n"
     ]
    },
    {
     "name": "stderr",
     "output_type": "stream",
     "text": [
      "chop final fuzzer target call (trace-hsqldb-SqlStatementFuzzer.xml): 5009it [00:00, 19174.01it/s]\n",
      "\n",
      "round 2:  40%|████████████████████████████████████████████████████████████████████████████▍                                                                                                                  | 60/150 [15:28<09:03,  6.04s/it]\u001b[A"
     ]
    },
    {
     "name": "stdout",
     "output_type": "stream",
     "text": [
      "ERROR: last_fuzzer_start is None /run/media/benjis/basilisk/Files/biggie/oss-fuzz/fuzz_10m_trace_3h/trace_run_3_success_3h/traces-10m/logs-xmls/trace-hsqldb-SqlStatementFuzzer.xml\n",
      "ERROR /run/media/benjis/basilisk/Files/biggie/oss-fuzz/fuzz_10m_trace_3h/trace_run_3_success_3h/traces-10m/logs-xmls/trace-hsqldb-SqlStatementFuzzer.xml\n"
     ]
    },
    {
     "name": "stderr",
     "output_type": "stream",
     "text": [
      "chop final fuzzer target call (trace-httpcomponents-client-ByteArrayBodyWriteToFuzzer.xml): 205it [00:00, 3365.20it/s]\n"
     ]
    },
    {
     "name": "stdout",
     "output_type": "stream",
     "text": [
      "ERROR: last_fuzzer_start is None /run/media/benjis/basilisk/Files/biggie/oss-fuzz/fuzz_10m_trace_3h/trace_run_3_success_3h/traces-10m/logs-xmls/trace-httpcomponents-client-ByteArrayBodyWriteToFuzzer.xml\n",
      "ERROR /run/media/benjis/basilisk/Files/biggie/oss-fuzz/fuzz_10m_trace_3h/trace_run_3_success_3h/traces-10m/logs-xmls/trace-httpcomponents-client-ByteArrayBodyWriteToFuzzer.xml\n"
     ]
    },
    {
     "name": "stderr",
     "output_type": "stream",
     "text": [
      "chop final fuzzer target call (trace-httpcomponents-client-FileBodyWriteToFuzzer.xml): 205it [00:00, 2847.74it/s]\n",
      "\n",
      "round 2:  41%|██████████████████████████████████████████████████████████████████████████████▉                                                                                                                | 62/150 [15:28<06:23,  4.36s/it]\u001b[A"
     ]
    },
    {
     "name": "stdout",
     "output_type": "stream",
     "text": [
      "ERROR: last_fuzzer_start is None /run/media/benjis/basilisk/Files/biggie/oss-fuzz/fuzz_10m_trace_3h/trace_run_3_success_3h/traces-10m/logs-xmls/trace-httpcomponents-client-FileBodyWriteToFuzzer.xml\n",
      "ERROR /run/media/benjis/basilisk/Files/biggie/oss-fuzz/fuzz_10m_trace_3h/trace_run_3_success_3h/traces-10m/logs-xmls/trace-httpcomponents-client-FileBodyWriteToFuzzer.xml\n"
     ]
    },
    {
     "name": "stderr",
     "output_type": "stream",
     "text": [
      "chop final fuzzer target call (trace-httpcomponents-client-HttpFuzzer.xml): 1132257it [02:28, 7648.76it/s] \n",
      "write file (trace-httpcomponents-client-HttpFuzzer.xml): 100%|████████████████████████████████████████████████████████████████████████████████████████████████████████████████████████████████████████████████| 1/1 [00:00<00:00, 6721.64it/s]\n",
      "check XML parse (trace-httpcomponents-client-HttpFuzzer.xml): 1it [00:00, 4588.95it/s]\n",
      "\n",
      "chop final fuzzer target call (trace-httpcomponents-client-InputStreamBodyWriteToFuzzer.xml): 205it [00:00, 2904.15it/s]                                                                                     | 63/150 [17:56<41:13, 28.43s/it]\u001b[A\n"
     ]
    },
    {
     "name": "stdout",
     "output_type": "stream",
     "text": [
      "ERROR: last_fuzzer_start is None /run/media/benjis/basilisk/Files/biggie/oss-fuzz/fuzz_10m_trace_3h/trace_run_3_success_3h/traces-10m/logs-xmls/trace-httpcomponents-client-InputStreamBodyWriteToFuzzer.xml\n",
      "ERROR /run/media/benjis/basilisk/Files/biggie/oss-fuzz/fuzz_10m_trace_3h/trace_run_3_success_3h/traces-10m/logs-xmls/trace-httpcomponents-client-InputStreamBodyWriteToFuzzer.xml\n"
     ]
    },
    {
     "name": "stderr",
     "output_type": "stream",
     "text": [
      "chop final fuzzer target call (trace-httpcomponents-client-StringBodyWriteToFuzzer.xml): 205it [00:00, 2787.37it/s]\n",
      "\n",
      "round 2:  43%|██████████████████████████████████████████████████████████████████████████████████▊                                                                                                            | 65/150 [17:56<27:17, 19.26s/it]\u001b[A"
     ]
    },
    {
     "name": "stdout",
     "output_type": "stream",
     "text": [
      "ERROR: last_fuzzer_start is None /run/media/benjis/basilisk/Files/biggie/oss-fuzz/fuzz_10m_trace_3h/trace_run_3_success_3h/traces-10m/logs-xmls/trace-httpcomponents-client-StringBodyWriteToFuzzer.xml\n",
      "ERROR /run/media/benjis/basilisk/Files/biggie/oss-fuzz/fuzz_10m_trace_3h/trace_run_3_success_3h/traces-10m/logs-xmls/trace-httpcomponents-client-StringBodyWriteToFuzzer.xml\n"
     ]
    },
    {
     "name": "stderr",
     "output_type": "stream",
     "text": [
      "chop final fuzzer target call (trace-httpcomponents-core-ClassicHttpRequestFuzzer.xml): 199it [00:00, 3302.82it/s]\n"
     ]
    },
    {
     "name": "stdout",
     "output_type": "stream",
     "text": [
      "ERROR: last_fuzzer_start is None /run/media/benjis/basilisk/Files/biggie/oss-fuzz/fuzz_10m_trace_3h/trace_run_3_success_3h/traces-10m/logs-xmls/trace-httpcomponents-core-ClassicHttpRequestFuzzer.xml\n",
      "ERROR /run/media/benjis/basilisk/Files/biggie/oss-fuzz/fuzz_10m_trace_3h/trace_run_3_success_3h/traces-10m/logs-xmls/trace-httpcomponents-core-ClassicHttpRequestFuzzer.xml\n"
     ]
    },
    {
     "name": "stderr",
     "output_type": "stream",
     "text": [
      "chop final fuzzer target call (trace-jackson-core-JsonFuzzer.xml): 35555it [00:01, 24800.73it/s]\n",
      "write file (trace-jackson-core-JsonFuzzer.xml): 100%|█████████████████████████████████████████████████████████████████████████████████████████████████████████████████████████████████████████████████████████| 1/1 [00:00<00:00, 5419.00it/s]\n",
      "check XML parse (trace-jackson-core-JsonFuzzer.xml): 1it [00:00, 1697.41it/s]\n",
      "\n",
      "chop final fuzzer target call (trace-jackson-core-UTF8GeneratorFuzzer.xml): 2373643it [01:30, 26307.16it/s]                                                                                                  | 67/150 [17:58<18:34, 13.43s/it]\u001b[A\n",
      "write file (trace-jackson-core-UTF8GeneratorFuzzer.xml): 100%|█████████████████████████████████████████████████████████████████████████████████████████████████████████████████████████████████| 2300282/2300282 [00:01<00:00, 1219877.36it/s]\n",
      "check XML parse (trace-jackson-core-UTF8GeneratorFuzzer.xml): 2272380it [00:12, 176418.94it/s]\n",
      "\n",
      "chop final fuzzer target call (trace-jackson-core-WriterBasedJsonGeneratorFuzzer.xml): 2841845it [01:51, 25472.30it/s]                                                                                       | 68/150 [19:43<41:24, 30.30s/it]\u001b[A\n",
      "write file (trace-jackson-core-WriterBasedJsonGeneratorFuzzer.xml): 100%|██████████████████████████████████████████████████████████████████████████████████████████████████████████████████████| 2818708/2818708 [00:02<00:00, 1107220.68it/s]\n",
      "check XML parse (trace-jackson-core-WriterBasedJsonGeneratorFuzzer.xml): 2830240it [00:24, 115109.53it/s]\n",
      "\n",
      "chop final fuzzer target call (trace-jackson-databind-AdaLObjectReader3Fuzzer.xml): 35172it [00:01, 18643.05it/s]                                                                                          | 69/150 [22:02<1:11:24, 52.90s/it]\u001b[A\n",
      "write file (trace-jackson-databind-AdaLObjectReader3Fuzzer.xml): 100%|████████████████████████████████████████████████████████████████████████████████████████████████████████████████████████████████████████| 1/1 [00:00<00:00, 7182.03it/s]\n",
      "check XML parse (trace-jackson-databind-AdaLObjectReader3Fuzzer.xml): 1it [00:00,  1.07it/s]\n",
      "\n",
      "chop final fuzzer target call (trace-jackson-databind-ObjectReader2Fuzzer.xml): 35190it [00:01, 25064.18it/s]                                                                                                | 70/150 [22:05<55:13, 41.42s/it]\u001b[A\n",
      "write file (trace-jackson-databind-ObjectReader2Fuzzer.xml): 100%|████████████████████████████████████████████████████████████████████████████████████████████████████████████████████████████████████████████| 1/1 [00:00<00:00, 7516.67it/s]\n",
      "check XML parse (trace-jackson-databind-ObjectReader2Fuzzer.xml): 1it [00:00, 5540.69it/s]\n",
      "\n",
      "chop final fuzzer target call (trace-jackson-databind-ObjectReaderFuzzer.xml): 35773it [00:01, 22845.94it/s]                                                                                                 | 71/150 [22:06<41:32, 31.56s/it]\u001b[A\n",
      "write file (trace-jackson-databind-ObjectReaderFuzzer.xml): 100%|█████████████████████████████████████████████████████████████████████████████████████████████████████████████████████████████████████████████| 1/1 [00:00<00:00, 9467.95it/s]\n",
      "check XML parse (trace-jackson-databind-ObjectReaderFuzzer.xml): 1it [00:00, 5115.00it/s]\n",
      "\n",
      "chop final fuzzer target call (trace-jackson-databind-ObjectReaderRandomClassFuzzer.xml): 74405it [00:03, 18715.62it/s]                                                                                      | 72/150 [22:08<30:52, 23.75s/it]\u001b[A\n",
      "write file (trace-jackson-databind-ObjectReaderRandomClassFuzzer.xml): 100%|██████████████████████████████████████████████████████████████████████████████████████████████████████████████████████████████████| 1/1 [00:00<00:00, 7281.78it/s]\n",
      "check XML parse (trace-jackson-databind-ObjectReaderRandomClassFuzzer.xml): 1it [00:00, 2978.91it/s]\n",
      "\n",
      "chop final fuzzer target call (trace-jackson-databind-ObjectWriterFuzzer.xml): 35200it [00:00, 35941.14it/s]                                                                                                 | 73/150 [22:12<23:36, 18.40s/it]\u001b[A\n",
      "write file (trace-jackson-databind-ObjectWriterFuzzer.xml): 100%|█████████████████████████████████████████████████████████████████████████████████████████████████████████████████████████████████████████████| 1/1 [00:00<00:00, 4519.72it/s]\n",
      "check XML parse (trace-jackson-databind-ObjectWriterFuzzer.xml): 1it [00:00, 2894.62it/s]\n",
      "\n",
      "chop final fuzzer target call (trace-jackson-databind-ReadTreeFuzzer.xml): 35168it [00:01, 21760.91it/s]████▏                                                                                                | 74/150 [22:13<17:09, 13.55s/it]\u001b[A\n",
      "write file (trace-jackson-databind-ReadTreeFuzzer.xml): 100%|█████████████████████████████████████████████████████████████████████████████████████████████████████████████████████████████████████████████████| 1/1 [00:00<00:00, 6864.65it/s]\n",
      "check XML parse (trace-jackson-databind-ReadTreeFuzzer.xml): 1it [00:00, 4128.25it/s]\n",
      "\n",
      "chop final fuzzer target call (trace-jackson-dataformats-binary-CborFuzzer.xml): 36378it [00:00, 37162.91it/s]                                                                                               | 75/150 [22:15<12:43, 10.17s/it]\u001b[A\n",
      "write file (trace-jackson-dataformats-binary-CborFuzzer.xml): 100%|███████████████████████████████████████████████████████████████████████████████████████████████████████████████████████████████████████████| 1/1 [00:00<00:00, 5223.29it/s]\n",
      "check XML parse (trace-jackson-dataformats-binary-CborFuzzer.xml): 1it [00:00, 4072.14it/s]\n",
      "\n",
      "chop final fuzzer target call (trace-jackson-dataformats-binary-SmileFuzzer.xml): 36798it [00:01, 24758.21it/s]                                                                                              | 76/150 [22:16<09:17,  7.54s/it]\u001b[A\n",
      "write file (trace-jackson-dataformats-binary-SmileFuzzer.xml): 100%|██████████████████████████████████████████████████████████████████████████████████████████████████████████████████████████████████████████| 1/1 [00:00<00:00, 7084.97it/s]\n",
      "check XML parse (trace-jackson-dataformats-binary-SmileFuzzer.xml): 1it [00:00, 2256.22it/s]\n",
      "\n",
      "chop final fuzzer target call (trace-jackson-dataformats-text-CSVFuzzer.xml): 39325it [00:01, 23577.39it/s]█████                                                                                             | 77/150 [22:17<07:02,  5.78s/it]\u001b[A\n",
      "write file (trace-jackson-dataformats-text-CSVFuzzer.xml): 100%|██████████████████████████████████████████████████████████████████████████████████████████████████████████████████████████████████████████████| 1/1 [00:00<00:00, 4490.69it/s]\n",
      "check XML parse (trace-jackson-dataformats-text-CSVFuzzer.xml): 1it [00:00, 1231.08it/s]\n",
      "\n",
      "chop final fuzzer target call (trace-jackson-dataformats-text-PropertiesFuzzer.xml): 35559it [00:01, 17817.65it/s]                                                                                           | 78/150 [22:19<05:29,  4.58s/it]\u001b[A\n",
      "write file (trace-jackson-dataformats-text-PropertiesFuzzer.xml): 100%|███████████████████████████████████████████████████████████████████████████████████████████████████████████████████████████████████████| 1/1 [00:00<00:00, 5289.16it/s]\n",
      "check XML parse (trace-jackson-dataformats-text-PropertiesFuzzer.xml): 1it [00:00, 4124.19it/s]\n",
      "\n",
      "chop final fuzzer target call (trace-jackson-dataformats-text-YAMLFuzzer.xml): 37012it [00:01, 21632.57it/s]██████▌                                                                                          | 79/150 [22:21<04:31,  3.83s/it]\u001b[A\n",
      "write file (trace-jackson-dataformats-text-YAMLFuzzer.xml): 100%|█████████████████████████████████████████████████████████████████████████████████████████████████████████████████████████████████████████████| 1/1 [00:00<00:00, 4614.20it/s]\n",
      "check XML parse (trace-jackson-dataformats-text-YAMLFuzzer.xml): 1it [00:00, 3144.16it/s]\n",
      "\n",
      "chop final fuzzer target call (trace-jackson-modules-java8-DatatypeFuzzer.xml): 35183it [00:02, 17267.78it/s]██████▊                                                                                         | 80/150 [22:23<03:44,  3.21s/it]\u001b[A\n"
     ]
    },
    {
     "name": "stderr",
     "output_type": "stream",
     "text": [
      "write file (trace-jackson-modules-java8-DatatypeFuzzer.xml): 100%|████████████████████████████████████████████████████████████████████████████████████████████████████████████████████████████████████████████| 1/1 [00:00<00:00, 3927.25it/s]\n",
      "check XML parse (trace-jackson-modules-java8-DatatypeFuzzer.xml): 1it [00:00, 4563.99it/s]\n",
      "\n",
      "chop final fuzzer target call (trace-jakarta-mail-api-HeaderTokenizerFuzzer.xml): 10924078it [04:53, 37208.01it/s] ██▏                                                                                       | 81/150 [22:25<03:18,  2.87s/it]\u001b[A\n",
      "write file (trace-jakarta-mail-api-HeaderTokenizerFuzzer.xml): 100%|█████████████████████████████████████████████████████████████████████████████████████████████████████████████████████████| 10917225/10917225 [00:08<00:00, 1312973.11it/s]\n",
      "check XML parse (trace-jakarta-mail-api-HeaderTokenizerFuzzer.xml): 8761840it [01:16, 114398.38it/s]\n",
      "\n",
      "chop final fuzzer target call (trace-janino-ExpressionEvaluatorFuzzer.xml): 228it [00:00, 3195.30it/s]██████████████▊                                                                                     | 82/150 [28:43<2:10:26, 115.09s/it]\u001b[A\n",
      "write file (trace-janino-ExpressionEvaluatorFuzzer.xml): 100%|████████████████████████████████████████████████████████████████████████████████████████████████████████████████████████████████████████████████| 1/1 [00:00<00:00, 6105.25it/s]\n",
      "check XML parse (trace-janino-ExpressionEvaluatorFuzzer.xml): 1it [00:03,  3.19s/it]\n",
      "\n",
      "chop final fuzzer target call (trace-javaparser-parseFuzzer.xml): 33320it [00:04, 6966.41it/s] ███████████████████████▌                                                                                    | 83/150 [28:47<1:31:12, 81.68s/it]\u001b[A\n",
      "write file (trace-javaparser-parseFuzzer.xml): 100%|██████████████████████████████████████████████████████████████████████████████████████████████████████████████████████████████████████████████████████████| 1/1 [00:00<00:00, 7256.58it/s]\n",
      "check XML parse (trace-javaparser-parseFuzzer.xml): 1it [00:00, 5011.12it/s]\n",
      "\n",
      "chop final fuzzer target call (trace-javassist-ClassFuzzer.xml): 1751967it [00:49, 35570.61it/s]███████████████████████▊                                                                                   | 84/150 [28:52<1:04:34, 58.70s/it]\u001b[A\n",
      "write file (trace-javassist-ClassFuzzer.xml): 100%|████████████████████████████████████████████████████████████████████████████████████████████████████████████████████████████████████████████| 1749694/1749694 [00:01<00:00, 1519558.13it/s]\n",
      "check XML parse (trace-javassist-ClassFuzzer.xml): 1654802it [00:08, 199151.17it/s]\n",
      "\n",
      "chop final fuzzer target call (trace-jaxb-DataTypeConverterFuzzer.xml): 8030it [00:00, 118972.43it/s]████████████████████                                                                                  | 85/150 [29:50<1:03:36, 58.72s/it]\u001b[A\n",
      "write file (trace-jaxb-DataTypeConverterFuzzer.xml): 100%|████████████████████████████████████████████████████████████████████████████████████████████████████████████████████████████████████████████| 6327/6327 [00:00<00:00, 477651.49it/s]\n",
      "check XML parse (trace-jaxb-DataTypeConverterFuzzer.xml): 6268it [00:00, 15096.62it/s]\n",
      "\n",
      "round 2:  57%|█████████████████████████████████████████████████████████████████████████████████████████████████████████████▌                                                                                 | 86/150 [29:51<44:01, 41.27s/it]\u001b[A"
     ]
    },
    {
     "name": "stdout",
     "output_type": "stream",
     "text": [
      "exception <class 'xml.etree.ElementTree.ParseError'> mismatched tag: line 6328, column 2 parsing /run/media/benjis/basilisk/Files/biggie/oss-fuzz/fuzz_10m_trace_3h/trace_run_3_success_3h/traces-10m/logs-xmls/trace-jaxb-DataTypeConverterFuzzer.xml postprocessed_xmls/trace-jaxb-DataTypeConverterFuzzer.xml.repair.xml\n"
     ]
    },
    {
     "name": "stderr",
     "output_type": "stream",
     "text": [
      "chop final fuzzer target call (trace-jersey-HttpHeaderReaderFuzzer.xml): 42384it [00:01, 36157.34it/s]\n",
      "write file (trace-jersey-HttpHeaderReaderFuzzer.xml): 100%|█████████████████████████████████████████████████████████████████████████████████████████████████████████████████████████████████████████| 40684/40684 [00:00<00:00, 472959.82it/s]\n",
      "check XML parse (trace-jersey-HttpHeaderReaderFuzzer.xml): 37645it [00:00, 155721.48it/s]\n",
      "\n",
      "chop final fuzzer target call (trace-jettison-JsonFuzzer.xml): 39830it [00:01, 26204.43it/s]████████████████████████████████▊                                                                                | 87/150 [29:52<30:49, 29.36s/it]\u001b[A\n",
      "write file (trace-jettison-JsonFuzzer.xml): 100%|███████████████████████████████████████████████████████████████████████████████████████████████████████████████████████████████████████████████████| 38503/38503 [00:00<00:00, 664100.43it/s]\n",
      "check XML parse (trace-jettison-JsonFuzzer.xml): 31257it [00:00, 171437.52it/s]\n",
      "\n",
      "chop final fuzzer target call (trace-jimfs-FileSystemFuzzer.xml): 551it [00:00, 4039.27it/s]██████████████████████████████████                                                                               | 88/150 [29:54<21:47, 21.10s/it]\u001b[A\n",
      "write file (trace-jimfs-FileSystemFuzzer.xml): 100%|██████████████████████████████████████████████████████████████████████████████████████████████████████████████████████████████████████████████████████████| 1/1 [00:00<00:00, 6096.37it/s]\n",
      "check XML parse (trace-jimfs-FileSystemFuzzer.xml): 1it [00:00, 47.57it/s]\n",
      "\n",
      "chop final fuzzer target call (trace-jsign-AuthenticodeCabSignerFuzzer.xml): 178137it [00:07, 22430.15it/s]████████████████████▎                                                                             | 89/150 [29:54<15:04, 14.83s/it]\u001b[A\n",
      "write file (trace-jsign-AuthenticodeCabSignerFuzzer.xml): 100%|███████████████████████████████████████████████████████████████████████████████████████████████████████████████████████████████████| 172206/172206 [00:00<00:00, 864241.10it/s]\n",
      "check XML parse (trace-jsign-AuthenticodeCabSignerFuzzer.xml): 84418it [00:00, 159796.60it/s]\n",
      "\n",
      "chop final fuzzer target call (trace-jsign-AuthenticodeExeSignerFuzzer.xml): 250352it [00:08, 31133.15it/s]█████████████████████▌                                                                            | 90/150 [30:03<13:00, 13.01s/it]\u001b[A\n",
      "write file (trace-jsign-AuthenticodeExeSignerFuzzer.xml): 100%|██████████████████████████████████████████████████████████████████████████████████████████████████████████████████████████████████| 244891/244891 [00:00<00:00, 1012443.58it/s]\n",
      "check XML parse (trace-jsign-AuthenticodeExeSignerFuzzer.xml): 127326it [00:00, 161719.86it/s]\n",
      "\n",
      "chop final fuzzer target call (trace-jsign-AuthenticodeMsiSignerFuzzer.xml): 1172007it [00:34, 34330.58it/s]█████████████████████▊                                                                           | 91/150 [30:12<11:39, 11.85s/it]\u001b[A\n",
      "write file (trace-jsign-AuthenticodeMsiSignerFuzzer.xml): 100%|███████████████████████████████████████████████████████████████████████████████████████████████████████████████████████████████████| 213351/213351 [00:00<00:00, 861445.22it/s]\n",
      "check XML parse (trace-jsign-AuthenticodeMsiSignerFuzzer.xml): 127777it [00:00, 158651.70it/s]\n",
      "\n",
      "chop final fuzzer target call (trace-json-java-JsonJavaFuzzer.xml): 40046572it [13:01, 51217.15it/s] ██████████████████████████████▏                                                                         | 92/150 [30:48<18:13, 18.86s/it]\u001b[A\n",
      "write file (trace-json-java-JsonJavaFuzzer.xml): 100%|█████████████████████████████████████████████████████████████████████████████████████████████████████████████████████████████████████████| 40034613/40034613 [16:50<00:00, 39614.10it/s]\n",
      "check XML parse (trace-json-java-JsonJavaFuzzer.xml): 16739540it [02:20, 118792.65it/s]\n",
      "\n",
      "round 2:  62%|███████████████████████████████████████████████████████████████████████████████████████████████████████████████████▎                                                                      | 93/150 [1:03:01<9:23:33, 593.22s/it]\u001b[A"
     ]
    },
    {
     "name": "stdout",
     "output_type": "stream",
     "text": [
      "exception <class 'xml.etree.ElementTree.ParseError'> mismatched tag: line 40034614, column 2 parsing /run/media/benjis/basilisk/Files/biggie/oss-fuzz/fuzz_10m_trace_3h/trace_run_3_success_3h/traces-10m/logs-xmls/trace-json-java-JsonJavaFuzzer.xml postprocessed_xmls/trace-json-java-JsonJavaFuzzer.xml.repair.xml\n"
     ]
    },
    {
     "name": "stderr",
     "output_type": "stream",
     "text": [
      "chop final fuzzer target call (trace-json-sanitizer-DenylistFuzzer.xml): 15256392it [04:58, 51059.70it/s] \n",
      "write file (trace-json-sanitizer-DenylistFuzzer.xml): 100%|██████████████████████████████████████████████████████████████████████████████████████████████████████████████████████████████████| 15255395/15255395 [00:12<00:00, 1197004.03it/s]\n",
      "check XML parse (trace-json-sanitizer-DenylistFuzzer.xml): 14532621it [01:42, 142230.69it/s]\n",
      "\n",
      "chop final fuzzer target call (trace-json-sanitizer-ValidJsonFuzzer.xml): 15984it [00:00, 31329.26it/s]███████████████████████████▌                                                                     | 94/150 [1:09:55<8:23:32, 539.51s/it]\u001b[A\n",
      "write file (trace-json-sanitizer-ValidJsonFuzzer.xml): 100%|██████████████████████████████████████████████████████████████████████████████████████████████████████████████████████████████████████████| 3599/3599 [00:00<00:00, 463244.95it/s]\n",
      "check XML parse (trace-json-sanitizer-ValidJsonFuzzer.xml): 3536it [00:04, 767.03it/s]\n",
      "\n",
      "chop final fuzzer target call (trace-jsoup-HtmlFuzzer.xml): 40it [00:00, 1507.64it/s]██████████████████████████████████████████████▊                                                                    | 95/150 [1:10:01<5:47:38, 379.24s/it]\u001b[A\n",
      "write file (trace-jsoup-HtmlFuzzer.xml): 100%|████████████████████████████████████████████████████████████████████████████████████████████████████████████████████████████████████████████████████████████████| 1/1 [00:00<00:00, 2619.80it/s]\n",
      "check XML parse (trace-jsoup-HtmlFuzzer.xml): 1it [00:00, 147.94it/s]\n",
      "\n",
      "chop final fuzzer target call (trace-jsoup-XmlFuzzer.xml): 3926it [00:00, 10181.75it/s]██████████████████████████████████████████████                                                                   | 96/150 [1:10:01<3:58:57, 265.51s/it]\u001b[A\n",
      "write file (trace-jsoup-XmlFuzzer.xml): 100%|█████████████████████████████████████████████████████████████████████████████████████████████████████████████████████████████████████████████████████████████████| 1/1 [00:00<00:00, 4739.33it/s]\n",
      "check XML parse (trace-jsoup-XmlFuzzer.xml): 1it [00:00, 3498.17it/s]\n",
      "\n",
      "chop final fuzzer target call (trace-junrar-JunrarFuzzer.xml): 1988647it [00:35, 55819.34it/s] ███████████████████████████████████████▎                                                                 | 97/150 [1:10:01<2:44:18, 186.01s/it]\u001b[A\n",
      "write file (trace-junrar-JunrarFuzzer.xml): 100%|██████████████████████████████████████████████████████████████████████████████████████████████████████████████████████████████████████████████| 1976742/1976742 [00:01<00:00, 1563766.45it/s]\n",
      "check XML parse (trace-junrar-JunrarFuzzer.xml): 1311837it [00:12, 104254.20it/s]\n",
      "\n",
      "chop final fuzzer target call (trace-kryo-DeserializeCollectionsFuzzer.xml): 547981it [00:13, 40779.58it/s]████████████████████████████▌                                                                | 98/150 [1:10:51<2:05:43, 145.06s/it]\u001b[A\n",
      "write file (trace-kryo-DeserializeCollectionsFuzzer.xml): 100%|███████████████████████████████████████████████████████████████████████████████████████████████████████████████████████████████████████████████| 1/1 [00:00<00:00, 5698.78it/s]\n",
      "check XML parse (trace-kryo-DeserializeCollectionsFuzzer.xml): 1it [00:00,  2.76it/s]\n",
      "\n",
      "chop final fuzzer target call (trace-kryo-DeserializeStringFuzzer.xml): 547669it [00:09, 60541.48it/s] █████████████████████████████████▊                                                               | 99/150 [1:11:05<1:29:50, 105.71s/it]\u001b[A\n",
      "write file (trace-kryo-DeserializeStringFuzzer.xml): 100%|████████████████████████████████████████████████████████████████████████████████████████████████████████████████████████████████████████████████████| 1/1 [00:00<00:00, 6260.16it/s]\n",
      "check XML parse (trace-kryo-DeserializeStringFuzzer.xml): 1it [00:00, 2074.33it/s]\n",
      "\n",
      "chop final fuzzer target call (trace-log4j2-Log4jFuzzer.xml): 110436it [00:02, 53070.15it/s]██████████████████████████████████████████████                                                              | 100/150 [1:11:14<1:03:57, 76.74s/it]\u001b[A\n",
      "\n",
      "round 2:  67%|██████████████████████████████████████████████████████████████████████████████████████████████████████████████████████████████▌                                                             | 101/150 [1:11:16<44:23, 54.36s/it]\u001b[A"
     ]
    },
    {
     "name": "stdout",
     "output_type": "stream",
     "text": [
      "ERROR: last_fuzzer_start is None /run/media/benjis/basilisk/Files/biggie/oss-fuzz/fuzz_10m_trace_3h/trace_run_3_success_3h/traces-10m/logs-xmls/trace-log4j2-Log4jFuzzer.xml\n",
      "ERROR /run/media/benjis/basilisk/Files/biggie/oss-fuzz/fuzz_10m_trace_3h/trace_run_3_success_3h/traces-10m/logs-xmls/trace-log4j2-Log4jFuzzer.xml\n"
     ]
    },
    {
     "name": "stderr",
     "output_type": "stream",
     "text": [
      "chop final fuzzer target call (trace-log4j2-Log4jSlf4jFuzzer.xml): 516572it [00:16, 30707.57it/s]\n",
      "\n",
      "round 2:  68%|███████████████████████████████████████████████████████████████████████████████████████████████████████████████████████████████▊                                                            | 102/150 [1:11:33<34:29, 43.11s/it]\u001b[A"
     ]
    },
    {
     "name": "stdout",
     "output_type": "stream",
     "text": [
      "ERROR: last_fuzzer_start is None /run/media/benjis/basilisk/Files/biggie/oss-fuzz/fuzz_10m_trace_3h/trace_run_3_success_3h/traces-10m/logs-xmls/trace-log4j2-Log4jSlf4jFuzzer.xml\n",
      "ERROR /run/media/benjis/basilisk/Files/biggie/oss-fuzz/fuzz_10m_trace_3h/trace_run_3_success_3h/traces-10m/logs-xmls/trace-log4j2-Log4jSlf4jFuzzer.xml\n"
     ]
    },
    {
     "name": "stderr",
     "output_type": "stream",
     "text": [
      "chop final fuzzer target call (trace-logback-JoranFuzzer.xml): 202152it [00:05, 39593.78it/s]\n",
      "write file (trace-logback-JoranFuzzer.xml): 100%|███████████████████████████████████████████████████████████████████████████████████████████████████████████████████████████████████████████████████| 20092/20092 [00:00<00:00, 610772.57it/s]\n",
      "check XML parse (trace-logback-JoranFuzzer.xml): 19396it [00:00, 146679.00it/s]\n",
      "\n",
      "chop final fuzzer target call (trace-maven-MojoDescriptorFuzzer.xml): 173it [00:00, 2858.79it/s]███████████████████████████████████████████████                                                           | 103/150 [1:11:38<24:53, 31.78s/it]\u001b[A\n",
      "write file (trace-maven-MojoDescriptorFuzzer.xml): 100%|██████████████████████████████████████████████████████████████████████████████████████████████████████████████████████████████████████████████████████| 1/1 [00:00<00:00, 7397.36it/s]\n",
      "check XML parse (trace-maven-MojoDescriptorFuzzer.xml): 1it [00:00, 87.09it/s]\n",
      "\n",
      "chop final fuzzer target call (trace-maven-ProjectArtifactMetadataFuzzer.xml): 217236it [00:04, 50091.83it/s]███████████████████████████████████▎                                                         | 104/150 [1:11:38<17:04, 22.28s/it]\u001b[A\n",
      "write file (trace-maven-ProjectArtifactMetadataFuzzer.xml): 100%|█████████████████████████████████████████████████████████████████████████████████████████████████████████████████████████████████| 214289/214289 [00:00<00:00, 935187.92it/s]\n",
      "check XML parse (trace-maven-ProjectArtifactMetadataFuzzer.xml): 193074it [00:01, 183994.69it/s]\n",
      "\n",
      "chop final fuzzer target call (trace-okhttp-RequestFuzzer.xml): 1482it [00:00, 15167.20it/s]█████████████████████████████████████████████████████▌                                                        | 105/150 [1:11:44<12:58, 17.30s/it]\u001b[A\n",
      "write file (trace-okhttp-RequestFuzzer.xml): 100%|████████████████████████████████████████████████████████████████████████████████████████████████████████████████████████████████████████████████████████████| 1/1 [00:00<00:00, 5190.97it/s]\n",
      "check XML parse (trace-okhttp-RequestFuzzer.xml): 1it [00:00, 12.96it/s]\n",
      "\n",
      "chop final fuzzer target call (trace-osgi-CoreVersionRangeFuzzer.xml): 6106567it [02:01, 50190.31it/s] ███████████████████████████████████████████▊                                                       | 106/150 [1:11:44<08:56, 12.19s/it]\u001b[A\n",
      "write file (trace-osgi-CoreVersionRangeFuzzer.xml): 100%|███████████████████████████████████████████████████████████████████████████████████████████████████████████████████████████████████████| 6103930/6103930 [00:31<00:00, 192398.18it/s]\n",
      "check XML parse (trace-osgi-CoreVersionRangeFuzzer.xml): 6042904it [00:47, 126968.98it/s]\n",
      "\n",
      "chop final fuzzer target call (trace-plexus-utils-MXParserFuzzer.xml): 12810339it [05:49, 36702.56it/s]█████████████████████████████████████████████                                                      | 107/150 [1:15:05<49:20, 68.86s/it]\u001b[A\n",
      "write file (trace-plexus-utils-MXParserFuzzer.xml): 100%|██████████████████████████████████████████████████████████████████████████████████████████████████████████████████████████████████████| 12780474/12780474 [06:15<00:00, 34051.63it/s]\n",
      "check XML parse (trace-plexus-utils-MXParserFuzzer.xml): 13135572it [01:49, 119837.35it/s]\n",
      "\n",
      "chop final fuzzer target call (trace-plexus-utils-XmlStreamReaderFuzzer.xml): 7781767it [01:37, 79431.94it/s] █████████████████████████████████████▏                                                   | 108/150 [1:28:59<3:28:55, 298.45s/it]\u001b[A\n",
      "write file (trace-plexus-utils-XmlStreamReaderFuzzer.xml): 100%|███████████████████████████████████████████████████████████████████████████████████████████████████████████████████████████████| 7780347/7780347 [00:04<00:00, 1812742.28it/s]\n",
      "check XML parse (trace-plexus-utils-XmlStreamReaderFuzzer.xml): 3284384it [00:30, 106598.90it/s]\n",
      "\n",
      "round 2:  73%|██████████████████████████████████████████████████████████████████████████████████████████████████████████████████████████████████████▍                                                  | 109/150 [1:31:13<2:50:08, 248.99s/it]\u001b[A"
     ]
    },
    {
     "name": "stdout",
     "output_type": "stream",
     "text": [
      "exception <class 'xml.etree.ElementTree.ParseError'> mismatched tag: line 7780348, column 2 parsing /run/media/benjis/basilisk/Files/biggie/oss-fuzz/fuzz_10m_trace_3h/trace_run_3_success_3h/traces-10m/logs-xmls/trace-plexus-utils-XmlStreamReaderFuzzer.xml postprocessed_xmls/trace-plexus-utils-XmlStreamReaderFuzzer.xml.repair.xml\n"
     ]
    },
    {
     "name": "stderr",
     "output_type": "stream",
     "text": [
      "chop final fuzzer target call (trace-reload4j-LoggerFuzzer.xml): 2862536it [01:09, 41240.06it/s] \n",
      "write file (trace-reload4j-LoggerFuzzer.xml): 100%|████████████████████████████████████████████████████████████████████████████████████████████████████████████████████████████████████████████| 2745471/2745471 [00:01<00:00, 1385881.25it/s]\n",
      "check XML parse (trace-reload4j-LoggerFuzzer.xml): 2683626it [00:18, 145216.95it/s]\n",
      "\n",
      "chop final fuzzer target call (trace-retrofit-PathTraversalFuzzer.xml): 368it [00:00, 5806.66it/s]███████████████████████████████████████████████████▋                                                 | 110/150 [1:32:43<2:14:12, 201.31s/it]\u001b[A\n",
      "write file (trace-retrofit-PathTraversalFuzzer.xml): 100%|████████████████████████████████████████████████████████████████████████████████████████████████████████████████████████████████████████████████████| 1/1 [00:00<00:00, 4777.11it/s]\n",
      "check XML parse (trace-retrofit-PathTraversalFuzzer.xml): 1it [00:00,  1.36it/s]\n",
      "\n",
      "chop final fuzzer target call (trace-retrofit-RequestFuzzer.xml): 262it [00:00, 4067.63it/s]██████████████████████████████████████████████████████████▉                                                | 111/150 [1:32:44<1:31:45, 141.17s/it]\u001b[A\n",
      "write file (trace-retrofit-RequestFuzzer.xml): 100%|██████████████████████████████████████████████████████████████████████████████████████████████████████████████████████████████████████████████████████████| 1/1 [00:00<00:00, 4092.00it/s]\n",
      "check XML parse (trace-retrofit-RequestFuzzer.xml): 1it [00:00, 730.33it/s]\n",
      "\n",
      "chop final fuzzer target call (trace-servo-core-MonitorConfigFuzzer.xml): 1009it [00:00, 15209.48it/s]██████████████████████████████████████████████████▉                                               | 112/150 [1:32:44<1:02:37, 98.88s/it]\u001b[A\n",
      "write file (trace-servo-core-MonitorConfigFuzzer.xml): 100%|████████████████████████████████████████████████████████████████████████████████████████████████████████████████████████████████████████████| 278/278 [00:00<00:00, 507625.82it/s]\n",
      "check XML parse (trace-servo-core-MonitorConfigFuzzer.xml): 40it [00:00, 34379.54it/s]\n",
      "\n",
      "chop final fuzzer target call (trace-spring-boot-BasicJsonParserFuzzer.xml): 2384860it [00:49, 48661.30it/s] ██████████████████████████████████████████████▋                                              | 113/150 [1:32:44<42:42, 69.26s/it]\u001b[A\n",
      "write file (trace-spring-boot-BasicJsonParserFuzzer.xml): 100%|████████████████████████████████████████████████████████████████████████████████████████████████████████████████████████████████| 2380181/2380181 [00:01<00:00, 1300542.90it/s]\n",
      "check XML parse (trace-spring-boot-BasicJsonParserFuzzer.xml): 2207321it [00:17, 129756.44it/s]\n",
      "\n",
      "chop final fuzzer target call (trace-spring-boot-JsonMarshallerFuzzer.xml): 656it [00:00, 9061.30it/s]██████████████████████████████████████████████████████▉                                             | 114/150 [1:33:52<41:19, 68.87s/it]\u001b[A\n",
      "write file (trace-spring-boot-JsonMarshallerFuzzer.xml): 100%|████████████████████████████████████████████████████████████████████████████████████████████████████████████████████████████████████████████████| 1/1 [00:00<00:00, 6000.43it/s]\n",
      "check XML parse (trace-spring-boot-JsonMarshallerFuzzer.xml): 1it [00:00,  1.73it/s]\n",
      "\n",
      "chop final fuzzer target call (trace-spring-boot-TokenFuzzer.xml): 1152it [00:00, 17136.97it/s]███████████████████████████████████████████████████████████████▏                                           | 115/150 [1:33:53<28:14, 48.42s/it]\u001b[A\n",
      "write file (trace-spring-boot-TokenFuzzer.xml): 100%|███████████████████████████████████████████████████████████████████████████████████████████████████████████████████████████████████████████████████| 671/671 [00:00<00:00, 409721.65it/s]\n",
      "check XML parse (trace-spring-boot-TokenFuzzer.xml): 474it [00:00, 70705.60it/s]\n",
      "\n",
      "chop final fuzzer target call (trace-spring-cloud-commons-EncryptionIntegrationFuzzer.xml): 1627721it [00:36, 44696.48it/s] ███████████████████████████████████▍                                          | 116/150 [1:33:53<19:13, 33.94s/it]\u001b[A\n",
      "write file (trace-spring-cloud-commons-EncryptionIntegrationFuzzer.xml): 100%|██████████████████████████████████████████████████████████████████████████████████████████████████████████████████████████| 233/233 [00:00<00:00, 347907.74it/s]\n",
      "check XML parse (trace-spring-cloud-commons-EncryptionIntegrationFuzzer.xml): 34it [00:00, 17268.87it/s]\n",
      "\n",
      "chop final fuzzer target call (trace-spring-data-keyvalue-KeyValueTemplateFuzzer.xml): 1074it [00:00, 8657.46it/s]██████████████████████████████████████████████▋                                         | 117/150 [1:34:29<19:05, 34.70s/it]\u001b[A\n",
      "write file (trace-spring-data-keyvalue-KeyValueTemplateFuzzer.xml): 100%|█████████████████████████████████████████████████████████████████████████████████████████████████████████████████████████████████████| 1/1 [00:00<00:00, 6052.39it/s]\n",
      "check XML parse (trace-spring-data-keyvalue-KeyValueTemplateFuzzer.xml): 1it [00:00, 1273.70it/s]\n",
      "\n",
      "chop final fuzzer target call (trace-spring-data-redis-GenericJackson2JsonRedisSerializerFuzzer.xml): 35207it [00:01, 18116.23it/s]██████████████████████████████▉                                        | 118/150 [1:34:30<12:59, 24.35s/it]\u001b[A\n",
      "write file (trace-spring-data-redis-GenericJackson2JsonRedisSerializerFuzzer.xml): 100%|██████████████████████████████████████████████████████████████████████████████████████████████████████████████████████| 1/1 [00:00<00:00, 7096.96it/s]\n",
      "check XML parse (trace-spring-data-redis-GenericJackson2JsonRedisSerializerFuzzer.xml): 1it [00:00, 5899.16it/s]\n",
      "\n",
      "chop final fuzzer target call (trace-spring-integration-SimpleJsonSerializerFuzzer.xml): 1039it [00:00, 4749.55it/s]███████████████████████████████████████████████▏                                      | 119/150 [1:34:32<09:06, 17.64s/it]\u001b[A\n",
      "write file (trace-spring-integration-SimpleJsonSerializerFuzzer.xml): 100%|███████████████████████████████████████████████████████████████████████████████████████████████████████████████████████████████████| 1/1 [00:00<00:00, 7244.05it/s]\n",
      "check XML parse (trace-spring-integration-SimpleJsonSerializerFuzzer.xml): 1it [00:00, 5084.00it/s]\n",
      "\n",
      "chop final fuzzer target call (trace-spring-retry-PatternMatcher_match_Fuzzer.xml): 9420483it [02:59, 52367.24it/s] ████████████████████████████████████████████████▍                                     | 120/150 [1:34:32<06:12, 12.43s/it]\u001b[A\n",
      "write file (trace-spring-retry-PatternMatcher_match_Fuzzer.xml): 100%|█████████████████████████████████████████████████████████████████████████████████████████████████████████████████████████| 9418046/9418046 [00:07<00:00, 1336416.01it/s]\n",
      "check XML parse (trace-spring-retry-PatternMatcher_match_Fuzzer.xml): 8545604it [00:59, 142813.55it/s]\n",
      "\n",
      "chop final fuzzer target call (trace-spring-security-BCryptPasswordEncoderFuzzer.xml): 13978714it [11:08, 20910.43it/s] █████████████████████████████████████████████▋                                    | 121/150 [1:38:39<40:00, 82.76s/it]\u001b[A\n",
      "write file (trace-spring-security-BCryptPasswordEncoderFuzzer.xml): 100%|██████████████████████████████████████████████████████████████████████████████████████████████████████████████████████████████| 6714/6714 [00:00<00:00, 17604.46it/s]\n",
      "check XML parse (trace-spring-security-BCryptPasswordEncoderFuzzer.xml): 6025it [00:02, 2314.95it/s]\n",
      "\n",
      "chop final fuzzer target call (trace-spring-security-BindAuthenticatorFuzzer.xml): 445291it [00:15, 28870.81it/s]███████████████████████████████████████████████████▍                                  | 122/150 [1:49:50<2:01:03, 259.42s/it]\u001b[A\n",
      "write file (trace-spring-security-BindAuthenticatorFuzzer.xml): 100%|███████████████████████████████████████████████████████████████████████████████████████████████████████████████████████████████████| 248/248 [00:00<00:00, 507161.09it/s]\n",
      "check XML parse (trace-spring-security-BindAuthenticatorFuzzer.xml): 49it [00:00, 5847.13it/s]\n",
      "\n",
      "chop final fuzzer target call (trace-spring-security-NimbusJwtEncoderFuzzer.xml): 3786it [00:00, 22175.38it/s]███████████████████████████████████████████████████████▋                                 | 123/150 [1:50:06<1:23:49, 186.26s/it]\u001b[A\n"
     ]
    },
    {
     "name": "stderr",
     "output_type": "stream",
     "text": [
      "write file (trace-spring-security-NimbusJwtEncoderFuzzer.xml): 100%|██████████████████████████████████████████████████████████████████████████████████████████████████████████████████████████████████████████| 1/1 [00:00<00:00, 2103.46it/s]\n",
      "check XML parse (trace-spring-security-NimbusJwtEncoderFuzzer.xml): 1it [00:00, 836.52it/s]\n",
      "\n",
      "chop final fuzzer target call (trace-spring-security-StrictHttpFirewallFuzzer.xml): 781018it [00:24, 32147.25it/s]██████████████████████████████████████████████████████▌                                | 124/150 [1:50:06<56:32, 130.48s/it]\u001b[A\n",
      "write file (trace-spring-security-StrictHttpFirewallFuzzer.xml): 100%|████████████████████████████████████████████████████████████████████████████████████████████████████████████████████████████| 735459/735459 [00:00<00:00, 914130.16it/s]\n",
      "check XML parse (trace-spring-security-StrictHttpFirewallFuzzer.xml): 692437it [00:03, 173939.86it/s]\n",
      "\n",
      "chop final fuzzer target call (trace-spring-shell-BashCompletionsFuzzer.xml): 35030it [00:00, 68699.22it/s]██████████████████████████████████████████████████████████████▊                               | 125/150 [1:50:35<41:41, 100.08s/it]\u001b[A\n",
      "write file (trace-spring-shell-BashCompletionsFuzzer.xml): 100%|██████████████████████████████████████████████████████████████████████████████████████████████████████████████████████████████████████████████| 1/1 [00:00<00:00, 4593.98it/s]\n",
      "check XML parse (trace-spring-shell-BashCompletionsFuzzer.xml): 1it [00:00,  4.64it/s]\n",
      "\n",
      "chop final fuzzer target call (trace-spring-shell-CommandParserFuzzer.xml): 1371it [00:00, 12213.36it/s]███████████████████████████████████████████████████████████████████▉                              | 126/150 [1:50:36<28:07, 70.31s/it]\u001b[A\n",
      "write file (trace-spring-shell-CommandParserFuzzer.xml): 100%|████████████████████████████████████████████████████████████████████████████████████████████████████████████████████████████████████████████████| 1/1 [00:00<00:00, 5874.38it/s]\n",
      "check XML parse (trace-spring-shell-CommandParserFuzzer.xml): 1it [00:00, 3705.22it/s]\n",
      "\n",
      "chop final fuzzer target call (trace-jackson-dataformats-text-TOMLFuzzer.xml): 35961it [00:00, 36793.82it/s]█████████████████████████████████████████████████████████████████▏                            | 127/150 [1:50:37<18:53, 49.28s/it]\u001b[A\n",
      "write file (trace-jackson-dataformats-text-TOMLFuzzer.xml): 100%|█████████████████████████████████████████████████████████████████████████████████████████████████████████████████████████████████████████████| 1/1 [00:00<00:00, 4185.93it/s]\n",
      "check XML parse (trace-jackson-dataformats-text-TOMLFuzzer.xml): 1it [00:00, 2020.38it/s]\n",
      "\n",
      "chop final fuzzer target call (trace-jmh-OptionsBuilderFuzzer.xml): 1167101it [00:27, 42566.34it/s]███████████████████████████████████████████████████████████████████████████▍                           | 128/150 [1:50:38<12:45, 34.81s/it]\u001b[A\n",
      "write file (trace-jmh-OptionsBuilderFuzzer.xml): 100%|█████████████████████████████████████████████████████████████████████████████████████████████████████████████████████████████████████████| 1162006/1162006 [00:00<00:00, 1246401.22it/s]\n",
      "check XML parse (trace-jmh-OptionsBuilderFuzzer.xml): 1153037it [00:09, 126930.16it/s]\n",
      "\n",
      "chop final fuzzer target call (trace-json-sanitizer-IdempotenceFuzzer.xml): 15468654it [06:44, 38251.98it/s] ██████████████████████████████████████████████████████████████████▋                          | 129/150 [1:51:15<12:27, 35.62s/it]\u001b[A\n",
      "write file (trace-json-sanitizer-IdempotenceFuzzer.xml): 100%|███████████████████████████████████████████████████████████████████████████████████████████████████████████████████████████████| 15468121/15468121 [00:12<00:00, 1244975.84it/s]\n",
      "check XML parse (trace-json-sanitizer-IdempotenceFuzzer.xml): 15050797it [01:56, 129115.83it/s]\n",
      "\n",
      "chop final fuzzer target call (trace-kryo-DeserializeNumbersFuzzer.xml): 550250it [00:15, 35107.07it/s]███████████████████████████████████████████████████████████████████████▎                        | 130/150 [2:00:09<1:01:39, 184.99s/it]\u001b[A\n",
      "write file (trace-kryo-DeserializeNumbersFuzzer.xml): 100%|███████████████████████████████████████████████████████████████████████████████████████████████████████████████████████████████████████████████████| 1/1 [00:00<00:00, 4568.96it/s]\n",
      "check XML parse (trace-kryo-DeserializeNumbersFuzzer.xml): 1it [00:05,  5.20s/it]\n",
      "\n",
      "chop final fuzzer target call (trace-okhttp-LoggingInterceptorFuzzer.xml): 667it [00:00, 8445.79it/s]████████████████████████████████████████████████████████████████████████████▎                       | 131/150 [2:00:30<43:00, 135.80s/it]\u001b[A\n",
      "write file (trace-okhttp-LoggingInterceptorFuzzer.xml): 100%|█████████████████████████████████████████████████████████████████████████████████████████████████████████████████████████████████████████████████| 1/1 [00:00<00:00, 5275.85it/s]\n",
      "check XML parse (trace-okhttp-LoggingInterceptorFuzzer.xml): 1it [00:00, 3387.97it/s]\n",
      "\n",
      "chop final fuzzer target call (trace-protobuf-java-ProtobufFuzzer.xml): 98it [00:00, 1548.35it/s]██████████████████████████████████████████████████████████████████████████████████▍                      | 132/150 [2:00:30<28:32, 95.12s/it]\u001b[A\n",
      "write file (trace-protobuf-java-ProtobufFuzzer.xml): 100%|████████████████████████████████████████████████████████████████████████████████████████████████████████████████████████████████████████████████████| 1/1 [00:00<00:00, 4681.14it/s]\n",
      "check XML parse (trace-protobuf-java-ProtobufFuzzer.xml): 1it [00:00, 594.77it/s]\n",
      "\n",
      "chop final fuzzer target call (trace-snakeyaml-YamlFuzzer.xml): 37193it [00:01, 20038.42it/s]███████████████████████████████████████████████████████████████████████████████████████▋                     | 133/150 [2:00:30<18:52, 66.63s/it]\u001b[A\n",
      "write file (trace-snakeyaml-YamlFuzzer.xml): 100%|██████████████████████████████████████████████████████████████████████████████████████████████████████████████████████████████████████████████████| 21842/21842 [00:00<00:00, 399022.56it/s]\n",
      "check XML parse (trace-snakeyaml-YamlFuzzer.xml): 21362it [00:00, 148551.06it/s]\n",
      "\n",
      "chop final fuzzer target call (trace-spring-data-jpa-QueryUtilsFuzzer.xml): 1661it [00:00, 21542.24it/s]█████████████████████████████████████████████████████████████████████████████▉                    | 134/150 [2:00:32<12:36, 47.28s/it]\u001b[A\n",
      "write file (trace-spring-data-jpa-QueryUtilsFuzzer.xml): 100%|████████████████████████████████████████████████████████████████████████████████████████████████████████████████████████████████████████| 1207/1207 [00:00<00:00, 273206.96it/s]\n",
      "check XML parse (trace-spring-data-jpa-QueryUtilsFuzzer.xml): 670it [00:00, 27447.49it/s]\n",
      "\n",
      "chop final fuzzer target call (trace-spring-shell-TableFuzzer.xml): 13540it [00:00, 17529.93it/s]██████████████████████████████████████████████████████████████████████████████████████▏                  | 135/150 [2:00:32<08:17, 33.15s/it]\u001b[A\n",
      "write file (trace-spring-shell-TableFuzzer.xml): 100%|████████████████████████████████████████████████████████████████████████████████████████████████████████████████████████████████████████████████████████| 1/1 [00:00<00:00, 7096.96it/s]\n",
      "check XML parse (trace-spring-shell-TableFuzzer.xml): 1it [00:00, 370.06it/s]\n",
      "\n",
      "chop final fuzzer target call (trace-tomcat-FileHandlerFuzzer.xml): 81004it [00:01, 46918.72it/s]███████████████████████████████████████████████████████████████████████████████████████▍                 | 136/150 [2:00:33<05:28, 23.46s/it]\u001b[A\n",
      "write file (trace-tomcat-FileHandlerFuzzer.xml): 100%|██████████████████████████████████████████████████████████████████████████████████████████████████████████████████████████████████████████████| 67106/67106 [00:00<00:00, 697731.92it/s]\n",
      "check XML parse (trace-tomcat-FileHandlerFuzzer.xml): 27331it [00:00, 179494.78it/s]\n",
      "\n",
      "round 2:  91%|███████████████████████████████████████████████████████████████████████████████████████████████████████████████████████████████████████████████████████████████████████████▋                | 137/150 [2:00:35<03:41, 17.04s/it]\u001b[A"
     ]
    },
    {
     "name": "stdout",
     "output_type": "stream",
     "text": [
      "exception <class 'xml.etree.ElementTree.ParseError'> mismatched tag: line 28379, column 2 parsing /run/media/benjis/basilisk/Files/biggie/oss-fuzz/fuzz_10m_trace_3h/trace_run_3_success_3h/traces-10m/logs-xmls/trace-tomcat-FileHandlerFuzzer.xml postprocessed_xmls/trace-tomcat-FileHandlerFuzzer.xml.repair.xml\n"
     ]
    },
    {
     "name": "stderr",
     "output_type": "stream",
     "text": [
      "chop final fuzzer target call (trace-stringtemplate4-StringFuzzer.xml): 2285it [00:00, 15654.38it/s]\n",
      "write file (trace-stringtemplate4-StringFuzzer.xml): 100%|████████████████████████████████████████████████████████████████████████████████████████████████████████████████████████████████████████████████████| 1/1 [00:00<00:00, 5223.29it/s]\n",
      "check XML parse (trace-stringtemplate4-StringFuzzer.xml): 1it [00:00, 2092.97it/s]\n",
      "\n",
      "chop final fuzzer target call (trace-tomcat-ConnectorSendFileFuzzer.xml): 16670it [00:00, 23209.52it/s]███████████████████████████████████████████████████████████████████████████████████▉               | 138/150 [2:00:35<02:23, 11.99s/it]\u001b[A\n",
      "\n",
      "round 2:  93%|██████████████████████████████████████████████████████████████████████████████████████████████████████████████████████████████████████████████████████████████████████████████▏             | 139/150 [2:00:36<01:34,  8.61s/it]\u001b[A"
     ]
    },
    {
     "name": "stdout",
     "output_type": "stream",
     "text": [
      "ERROR: last_fuzzer_start is None /run/media/benjis/basilisk/Files/biggie/oss-fuzz/fuzz_10m_trace_3h/trace_run_3_success_3h/traces-10m/logs-xmls/trace-tomcat-ConnectorSendFileFuzzer.xml\n",
      "ERROR /run/media/benjis/basilisk/Files/biggie/oss-fuzz/fuzz_10m_trace_3h/trace_run_3_success_3h/traces-10m/logs-xmls/trace-tomcat-ConnectorSendFileFuzzer.xml\n"
     ]
    },
    {
     "name": "stderr",
     "output_type": "stream",
     "text": [
      "chop final fuzzer target call (trace-tomcat-DecodeFuzzer.xml): 6383205it [02:30, 42436.21it/s] \n",
      "write file (trace-tomcat-DecodeFuzzer.xml): 100%|███████████████████████████████████████████████████████████████████████████████████████████████████████████████████████████████████████████████| 6380052/6380052 [00:07<00:00, 846347.57it/s]\n",
      "check XML parse (trace-tomcat-DecodeFuzzer.xml): 6177101it [00:45, 136522.37it/s]\n",
      "\n",
      "chop final fuzzer target call (trace-tomcat-ELEvaluationFuzzer.xml): 1103655it [00:12, 84989.29it/s]█████████████████████████████████████████████████████████████████████████████████████████▍            | 140/150 [2:03:59<11:10, 67.02s/it]\u001b[A\n",
      "write file (trace-tomcat-ELEvaluationFuzzer.xml): 100%|███████████████████████████████████████████████████████████████████████████████████████████████████████████████████████████████████████████████████████| 1/1 [00:00<00:00, 6114.15it/s]\n",
      "check XML parse (trace-tomcat-ELEvaluationFuzzer.xml): 1it [00:02,  2.05s/it]\n",
      "\n",
      "chop final fuzzer target call (trace-tomcat-EnDecodeFuzzer.xml): 6396046it [01:20, 79430.83it/s] █████████████████████████████████████████████████████████████████████████████████████████████▋           | 141/150 [2:04:14<07:42, 51.44s/it]\u001b[A\n",
      "write file (trace-tomcat-EnDecodeFuzzer.xml): 100%|████████████████████████████████████████████████████████████████████████████████████████████████████████████████████████████████████████████| 6342856/6342856 [00:05<00:00, 1206127.32it/s]\n",
      "check XML parse (trace-tomcat-EnDecodeFuzzer.xml): 5790347it [00:49, 118139.81it/s]\n",
      "\n",
      "chop final fuzzer target call (trace-tomcat-Http11ProcessorDefaultServletFuzzer.xml): 16665it [00:00, 70429.18it/s]████████████████████████████████████████████████████████████████████████████▉          | 142/150 [2:06:29<10:11, 76.46s/it]\u001b[A\n",
      "\n",
      "round 2:  95%|███████████████████████████████████████████████████████████████████████████████████████████████████████████████████████████████████████████████████████████████████████████████████▏        | 143/150 [2:06:30<06:15, 53.61s/it]\u001b[A"
     ]
    },
    {
     "name": "stdout",
     "output_type": "stream",
     "text": [
      "ERROR: last_fuzzer_start is None /run/media/benjis/basilisk/Files/biggie/oss-fuzz/fuzz_10m_trace_3h/trace_run_3_success_3h/traces-10m/logs-xmls/trace-tomcat-Http11ProcessorDefaultServletFuzzer.xml\n",
      "ERROR /run/media/benjis/basilisk/Files/biggie/oss-fuzz/fuzz_10m_trace_3h/trace_run_3_success_3h/traces-10m/logs-xmls/trace-tomcat-Http11ProcessorDefaultServletFuzzer.xml\n"
     ]
    },
    {
     "name": "stderr",
     "output_type": "stream",
     "text": [
      "chop final fuzzer target call (trace-tomcat-JNDIRealmFuzzer.xml): 445346it [00:07, 61266.46it/s]\n",
      "write file (trace-tomcat-JNDIRealmFuzzer.xml): 100%|████████████████████████████████████████████████████████████████████████████████████████████████████████████████████████████████████████████████████| 297/297 [00:00<00:00, 343738.49it/s]\n",
      "check XML parse (trace-tomcat-JNDIRealmFuzzer.xml): 94it [00:01, 51.82it/s]\n",
      "\n",
      "chop final fuzzer target call (trace-tomcat-RestCsrfPreventionFilterFuzzer.xml): 635it [00:00, 12178.69it/s]██████████████████████████████████████████████████████████████████████████████████████▍       | 144/150 [2:06:39<04:01, 40.27s/it]\u001b[A\n"
     ]
    },
    {
     "name": "stdout",
     "output_type": "stream",
     "text": [
      "ERROR: last_fuzzer_start is None /run/media/benjis/basilisk/Files/biggie/oss-fuzz/fuzz_10m_trace_3h/trace_run_3_success_3h/traces-10m/logs-xmls/trace-tomcat-RestCsrfPreventionFilterFuzzer.xml\n",
      "ERROR /run/media/benjis/basilisk/Files/biggie/oss-fuzz/fuzz_10m_trace_3h/trace_run_3_success_3h/traces-10m/logs-xmls/trace-tomcat-RestCsrfPreventionFilterFuzzer.xml\n"
     ]
    },
    {
     "name": "stderr",
     "output_type": "stream",
     "text": [
      "chop final fuzzer target call (trace-tomcat-SsiExpressionParseTreeFuzzer.xml): 5511216it [00:56, 98109.80it/s] \n",
      "write file (trace-tomcat-SsiExpressionParseTreeFuzzer.xml): 100%|██████████████████████████████████████████████████████████████████████████████████████████████████████████████████████████████| 5508613/5508613 [00:04<00:00, 1299841.02it/s]\n",
      "check XML parse (trace-tomcat-SsiExpressionParseTreeFuzzer.xml): 5115094it [00:45, 112286.52it/s]\n",
      "\n",
      "round 2:  97%|██████████████████████████████████████████████████████████████████████████████████████████████████████████████████████████████████████████████████████████████████████████████████████▉     | 146/150 [2:08:25<03:04, 46.17s/it]\u001b[A"
     ]
    },
    {
     "name": "stdout",
     "output_type": "stream",
     "text": [
      "exception <class 'xml.etree.ElementTree.ParseError'> mismatched tag: line 5508614, column 2 parsing /run/media/benjis/basilisk/Files/biggie/oss-fuzz/fuzz_10m_trace_3h/trace_run_3_success_3h/traces-10m/logs-xmls/trace-tomcat-SsiExpressionParseTreeFuzzer.xml postprocessed_xmls/trace-tomcat-SsiExpressionParseTreeFuzzer.xml.repair.xml\n"
     ]
    },
    {
     "name": "stderr",
     "output_type": "stream",
     "text": [
      "chop final fuzzer target call (trace-tomcat-WsPingPongFuzzer.xml): 9292it [00:00, 69459.79it/s]\n",
      "\n",
      "round 2:  98%|████████████████████████████████████████████████████████████████████████████████████████████████████████████████████████████████████████████████████████████████████████████████████████▏   | 147/150 [2:08:25<01:44, 34.76s/it]\u001b[A"
     ]
    },
    {
     "name": "stdout",
     "output_type": "stream",
     "text": [
      "ERROR: last_fuzzer_start is None /run/media/benjis/basilisk/Files/biggie/oss-fuzz/fuzz_10m_trace_3h/trace_run_3_success_3h/traces-10m/logs-xmls/trace-tomcat-WsPingPongFuzzer.xml\n",
      "ERROR /run/media/benjis/basilisk/Files/biggie/oss-fuzz/fuzz_10m_trace_3h/trace_run_3_success_3h/traces-10m/logs-xmls/trace-tomcat-WsPingPongFuzzer.xml\n"
     ]
    },
    {
     "name": "stderr",
     "output_type": "stream",
     "text": [
      "chop final fuzzer target call (trace-woodstox-XmlFuzzer.xml): 20417it [00:00, 73734.63it/s]\n",
      "write file (trace-woodstox-XmlFuzzer.xml): 100%|██████████████████████████████████████████████████████████████████████████████████████████████████████████████████████████████████████████████████████████████| 1/1 [00:00<00:00, 2400.86it/s]\n",
      "check XML parse (trace-woodstox-XmlFuzzer.xml): 1it [00:00, 151.16it/s]\n",
      "\n",
      "chop final fuzzer target call (trace-xstream-XmlFuzzer.xml): 123255it [00:01, 62364.05it/s]████████████████████████████████████████████████████████████████████████████████████████████████████████████▍  | 148/150 [2:08:27<00:52, 26.14s/it]\u001b[A\n",
      "write file (trace-xstream-XmlFuzzer.xml): 100%|██████████████████████████████████████████████████████████████████████████████████████████████████████████████████████████████████████████████████████████████| 1/1 [00:00<00:00, 10979.85it/s]\n",
      "check XML parse (trace-xstream-XmlFuzzer.xml): 1it [00:00, 3930.93it/s]\n",
      "\n",
      "chop final fuzzer target call (trace-zip4j-Zip4jFuzzer.xml): 4133899it [00:46, 88202.45it/s] ███████████████████████████████████████████████████████████████████████████████████████████████████████████▋ | 149/150 [2:08:29<00:19, 19.59s/it]\u001b[A\n",
      "write file (trace-zip4j-Zip4jFuzzer.xml): 100%|████████████████████████████████████████████████████████████████████████████████████████████████████████████████████████████████████████████████| 4126366/4126366 [00:03<00:00, 1333352.14it/s]\n",
      "check XML parse (trace-zip4j-Zip4jFuzzer.xml): 3913753it [00:29, 134412.51it/s]\n",
      "\n",
      "round 2: 100%|████████████████████████████████████████████████████████████████████████████████████████████████████████████████████████████████████████████████████████████████████████████████████████████| 150/150 [2:09:48<00:00, 51.92s/it]\u001b[A"
     ]
    },
    {
     "name": "stdout",
     "output_type": "stream",
     "text": [
      "ROUND 2: 17 files failed parsing\n"
     ]
    },
    {
     "name": "stderr",
     "output_type": "stream",
     "text": [
      "\n"
     ]
    },
    {
     "data": {
      "text/plain": [
       "8704"
      ]
     },
     "execution_count": 14,
     "metadata": {},
     "output_type": "execute_result"
    }
   ],
   "source": [
    "import tqdm\n",
    "successes_2 = []\n",
    "failed_2 = []\n",
    "for fpath in tqdm.tqdm(failed_1, position=1, desc=\"round 2\"):\n",
    "    repair_path = recover_functions_simple(fpath, dstdir)\n",
    "    if repair_path is None:\n",
    "        print(\"ERROR\", fpath)\n",
    "        continue\n",
    "    try:\n",
    "        it = ET.iterparse(repair_path)\n",
    "        for tag in tqdm.tqdm(it, desc=f\"check XML parse ({fpath.name})\"):\n",
    "            pass\n",
    "        successes_2.append(repair_path)\n",
    "        # shutil.copyfile(repair_path, dstdir/repair_path.name)\n",
    "    except ET.ParseError as ex:\n",
    "        print(\"exception\", type(ex), ex, \"parsing\", fpath, repair_path)\n",
    "        failed_2.append(repair_path)\n",
    "\n",
    "print(\"ROUND 2:\", len(failed_2), \"files failed parsing\")\n",
    "(dstdir/\"1_repair_success_2.txt\").write_text(\"\\n\".join(map(str, successes_2)))"
   ]
  },
  {
   "cell_type": "code",
   "execution_count": 15,
   "metadata": {
    "jupyter": {
     "outputs_hidden": false
    }
   },
   "outputs": [],
   "source": [
    "all_files = successes_1 + successes_2"
   ]
  },
  {
   "cell_type": "code",
   "execution_count": 16,
   "metadata": {
    "jupyter": {
     "outputs_hidden": false
    }
   },
   "outputs": [],
   "source": [
    "with open(dstdir/\"1_repair_success_all.txt\", \"w\") as f:\n",
    "    f.write(\"\\n\".join(map(str, all_files)))"
   ]
  }
 ],
 "metadata": {
  "kernelspec": {
   "display_name": "Python 3 (ipykernel)",
   "language": "python",
   "name": "python3"
  },
  "language_info": {
   "codemirror_mode": {
    "name": "ipython",
    "version": 3
   },
   "file_extension": ".py",
   "mimetype": "text/x-python",
   "name": "python",
   "nbconvert_exporter": "python",
   "pygments_lexer": "ipython3",
   "version": "3.11.0"
  },
  "vscode": {
   "interpreter": {
    "hash": "5ede1a196b76944c8f4443c0dcb7a1f7267d958f23434ac7797fa7d09f7c5ffd"
   }
  }
 },
 "nbformat": 4,
 "nbformat_minor": 4
}
