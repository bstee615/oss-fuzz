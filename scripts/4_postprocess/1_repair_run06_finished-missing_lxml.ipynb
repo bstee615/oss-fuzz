{
 "cells": [
  {
   "cell_type": "markdown",
   "metadata": {},
   "source": [
    "1. PARSE XML FILES\n",
    "2. TURN INTO TREE\n",
    "3. IF FAILS, PARSE AS MANY OF THE ENTRIES AS POSSIBLE"
   ]
  },
  {
   "cell_type": "code",
   "execution_count": 12,
   "metadata": {},
   "outputs": [
    {
     "name": "stdout",
     "output_type": "stream",
     "text": [
      "185 XML files found, 185 unique. duplicates = []\n"
     ]
    }
   ],
   "source": [
    "import traceback\n",
    "import xml.etree.ElementTree as ET\n",
    "from pathlib import Path\n",
    "import re\n",
    "import shutil\n",
    "import os\n",
    "\n",
    "import git\n",
    "\n",
    "repo = git.Repo('.', search_parent_directories=True)\n",
    "os.chdir(repo.working_tree_dir)\n",
    "\n",
    "srcpaths=(\n",
    "    \"first_run_xmls\",\n",
    ")\n",
    "\n",
    "xmls = []\n",
    "for d in srcpaths:\n",
    "    l = list(Path(d).rglob(\"*.xml\"))\n",
    "    l = [p for p in l if \".repair.\" not in p.name]\n",
    "    xmls += l\n",
    "print(len(xmls), \"XML files found,\", len(set([f.name for f in xmls])), \"unique. duplicates =\", [f for f in xmls if [g.name for g in xmls].count(f.name) > 1])"
   ]
  },
  {
   "cell_type": "code",
   "execution_count": 13,
   "metadata": {},
   "outputs": [],
   "source": [
    "dstdir=Path(\"first_run_xmls-lxml\")"
   ]
  },
  {
   "cell_type": "code",
   "execution_count": 14,
   "metadata": {},
   "outputs": [],
   "source": [
    "if dstdir.exists():\n",
    "    shutil.rmtree(dstdir)\n",
    "dstdir.mkdir(exist_ok=True)"
   ]
  },
  {
   "cell_type": "code",
   "execution_count": 16,
   "metadata": {},
   "outputs": [
    {
     "name": "stderr",
     "output_type": "stream",
     "text": [
      " 10%|▉         | 18/185 [05:14<1:00:21, 21.69s/it, success=2, failed=16]"
     ]
    }
   ],
   "source": [
    "import tqdm as tqdm\n",
    "from lxml import etree as ET2\n",
    "\n",
    "successes_1 = []\n",
    "failed_1 = []\n",
    "with tqdm.tqdm(xmls) as pbar:\n",
    "    for fpath in pbar:\n",
    "        try:\n",
    "            tree = ET2.parse(fpath)\n",
    "            successes_1.append(fpath)\n",
    "            tree.write(dstdir/(fpath.name), pretty_print=True)\n",
    "        except ET2.XMLSyntaxError as ex:\n",
    "            failed_1.append(fpath)\n",
    "        except ET.ParseError as ex:\n",
    "            failed_1.append(fpath)\n",
    "        pbar.set_postfix({\n",
    "            \"success\": len(successes_1),\n",
    "            \"failed\": len(failed_1),\n",
    "        })\n",
    "\n",
    "print(\"ROUND 1:\", len(failed_1), \"files failed parsing\")\n",
    "(dstdir/\"1_repair_success_1.txt\").write_text(\"\\n\".join(map(str, successes_1)))"
   ]
  },
  {
   "cell_type": "code",
   "execution_count": null,
   "metadata": {},
   "outputs": [],
   "source": [
    "\n",
    "from lxml import etree as ET2\n",
    "parser = ET2.XMLParser(recover=True)\n",
    "\n",
    "successes_2 = []\n",
    "failed_2 = []\n",
    "with tqdm.tqdm(failed_1) as pbar:\n",
    "    for fpath in pbar:\n",
    "        try:\n",
    "            tree = ET2.parse(fpath, parser=parser)\n",
    "            successes_2.append(fpath)\n",
    "            tree.write(dstdir/(fpath.name + \".repair.xml\"), pretty_print=True)\n",
    "        except ET2.XMLSyntaxError as ex:\n",
    "            failed_2.append(fpath)\n",
    "        pbar.set_postfix({\n",
    "            \"success\": len(successes_2),\n",
    "            \"failed\": len(failed_2),\n",
    "        })\n",
    "\n",
    "print(\"ROUND 2:\", len(failed_2), \"files failed parsing\")\n",
    "(dstdir/\"1_repair_success_2.txt\").write_text(\"\\n\".join(map(str, successes_2)))"
   ]
  }
 ],
 "metadata": {
  "kernelspec": {
   "display_name": "Python 3 (ipykernel)",
   "language": "python",
   "name": "python3"
  },
  "language_info": {
   "codemirror_mode": {
    "name": "ipython",
    "version": 3
   },
   "file_extension": ".py",
   "mimetype": "text/x-python",
   "name": "python",
   "nbconvert_exporter": "python",
   "pygments_lexer": "ipython3",
   "version": "3.11.0"
  },
  "vscode": {
   "interpreter": {
    "hash": "5ede1a196b76944c8f4443c0dcb7a1f7267d958f23434ac7797fa7d09f7c5ffd"
   }
  }
 },
 "nbformat": 4,
 "nbformat_minor": 4
}
