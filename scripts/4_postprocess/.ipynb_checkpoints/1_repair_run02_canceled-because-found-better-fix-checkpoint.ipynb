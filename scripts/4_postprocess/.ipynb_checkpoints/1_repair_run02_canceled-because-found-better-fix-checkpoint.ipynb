{
 "cells": [
  {
   "cell_type": "markdown",
   "metadata": {},
   "source": [
    "1. PARSE XML FILES\n",
    "2. TURN INTO TREE\n",
    "3. IF FAILS, PARSE AS MANY OF THE ENTRIES AS POSSIBLE"
   ]
  },
  {
   "cell_type": "code",
   "execution_count": 1,
   "metadata": {},
   "outputs": [
    {
     "name": "stdout",
     "output_type": "stream",
     "text": [
      "178 XML files found, 178 unique. duplicates = []\n"
     ]
    }
   ],
   "source": [
    "import traceback\n",
    "import xml.etree.ElementTree as ET\n",
    "from pathlib import Path\n",
    "import re\n",
    "import shutil\n",
    "import os\n",
    "\n",
    "import git\n",
    "\n",
    "repo = git.Repo('.', search_parent_directories=True)\n",
    "os.chdir(repo.working_tree_dir)\n",
    "\n",
    "srcpaths=(\n",
    "    \"/run/media/benjis/basilisk/Files/biggie/oss-fuzz/fuzz_10m_trace_3h/trace_run_3_success_3h/traces-10m/logs-xmls\",\n",
    ")\n",
    "\n",
    "xmls = []\n",
    "for d in srcpaths:\n",
    "    l = list(Path(d).glob(\"*.xml\"))\n",
    "    l = [p for p in l if \".repair.\" not in p.name]\n",
    "    xmls += l\n",
    "print(len(xmls), \"XML files found,\", len(set([f.name for f in xmls])), \"unique. duplicates =\", [f for f in xmls if [g.name for g in xmls].count(f.name) > 1])"
   ]
  },
  {
   "cell_type": "code",
   "execution_count": 2,
   "metadata": {},
   "outputs": [],
   "source": [
    "dstdir=Path(\"postprocessed_xmls\")"
   ]
  },
  {
   "cell_type": "code",
   "execution_count": 19,
   "metadata": {},
   "outputs": [],
   "source": [
    "if dstdir.exists():\n",
    "    shutil.rmtree(dstdir)\n",
    "dstdir.mkdir(exist_ok=True)"
   ]
  },
  {
   "cell_type": "code",
   "execution_count": 20,
   "metadata": {},
   "outputs": [
    {
     "name": "stderr",
     "output_type": "stream",
     "text": [
      "100%|██████████████████████████████████████████████████████████████████████████████████████████████████████████████████████████████████████| 178/178 [1:20:47<00:00, 27.24s/it]\n"
     ]
    },
    {
     "name": "stdout",
     "output_type": "stream",
     "text": [
      "ROUND 1: 150 files failed parsing\n"
     ]
    },
    {
     "data": {
      "text/plain": [
       "4367"
      ]
     },
     "execution_count": 20,
     "metadata": {},
     "output_type": "execute_result"
    }
   ],
   "source": [
    "import tqdm as tqdm\n",
    "\n",
    "successes_1 = []\n",
    "failed_1 = []\n",
    "for fpath in tqdm.tqdm(xmls):\n",
    "    try:\n",
    "        it = ET.iterparse(fpath)\n",
    "        for tag in it:\n",
    "            pass\n",
    "        successes_1.append(fpath)\n",
    "        shutil.copyfile(fpath, dstdir/fpath.name)\n",
    "    except ET.ParseError as ex:\n",
    "        failed_1.append(fpath)\n",
    "\n",
    "print(\"ROUND 1:\", len(failed_1), \"files failed parsing\")\n",
    "(dstdir/\"1_repair_success_1.txt\").write_text(\"\\n\".join(map(str, successes_1)))"
   ]
  },
  {
   "cell_type": "code",
   "execution_count": 12,
   "metadata": {},
   "outputs": [],
   "source": [
    "import tqdm as tqdm\n",
    "\n",
    "fuzzer_start = re.compile(r'''<call[^>]*method=\"[^.\"]+.fuzzerTestOneInput\\([^)]+\\)\"[^>]*''')\n",
    "fuzzer_almost_end = re.compile(r'''<tracepoint[^>]+>''')\n",
    "method_re = re.compile(r'''method=\"[^.\"]+.fuzzerTestOneInput\\([^)]+\\)\"''')\n",
    "exit_re = re.compile(r'''type=\"exit\"''')\n",
    "fuzzer_real_end = re.compile(r'''</call>''')\n",
    "\n",
    "\n",
    "from xml.dom import minidom\n",
    "from xml.parsers.expat import ExpatError\n",
    "\n",
    "def prettify(rough_string):\n",
    "    \"\"\"Return a pretty-printed XML string for the Element.\n",
    "    \"\"\"\n",
    "    reparsed = minidom.parseString(rough_string)\n",
    "    \n",
    "    return reparsed.toprettyxml(indent=\"  \")\n",
    "\n",
    "def recover_functions(fpath):\n",
    "    with open(fpath) as f:\n",
    "        num_lines = sum(1 for line in tqdm.tqdm(f, desc=f\"count lines ({fpath.name})\"))\n",
    "    with open(fpath) as f:\n",
    "        it = iter(f)\n",
    "        repair_path = dstdir/(str(fpath.name) + \".repair.xml\")\n",
    "        failed_functions = 0\n",
    "        all_functions = 0\n",
    "        with open(repair_path, \"w\") as outf:\n",
    "            with tqdm.tqdm(it, total=num_lines, desc=f\"deconstruct into fuzzer target calls ({fpath.name})\") as pbar:\n",
    "                it = iter(pbar)\n",
    "                fuzz_functions = []\n",
    "                current_fuzz_function = None\n",
    "                try:\n",
    "                    outf.write(next(it))\n",
    "                    while True:\n",
    "                        line = next(it)\n",
    "                        if fuzzer_start.search(line):\n",
    "                            # print(\"start at\", line)\n",
    "                            # start fuzzed function\n",
    "                            current_fuzz_function = []\n",
    "                        if current_fuzz_function is not None:\n",
    "                            current_fuzz_function.append(line)\n",
    "                        m = fuzzer_almost_end.search(line)\n",
    "                        if m:\n",
    "                            tag = m.group(0)\n",
    "                            if method_re.search(tag) and exit_re.search(tag):\n",
    "                                # print(\"end at\", line)\n",
    "                                while True:\n",
    "                                    line = next(it)\n",
    "                                    # print(\"search end\", line)\n",
    "                                    current_fuzz_function.append(line)\n",
    "                                    if fuzzer_real_end.search(line):\n",
    "                                        # cap off fuzzed function\n",
    "                                        # print(\"end\", line)\n",
    "                                        all_functions += 1\n",
    "                                        try:\n",
    "                                            func_xml = \"\".join(current_fuzz_function)\n",
    "                                            # ET.fromstring(func_xml)\n",
    "                                            # print(func_xml)\n",
    "                                            func_xml = \"\".join(prettify(func_xml).splitlines(keepends=True)[1:])\n",
    "                                            outf.write(func_xml + \"\\n\")\n",
    "                                        except (ExpatError, ET.ParseError):\n",
    "                                            failed_functions += 1\n",
    "                                        pbar.set_postfix({\"all\": all_functions, \"failed\": failed_functions})\n",
    "                                        break\n",
    "                except StopIteration:\n",
    "                    pass\n",
    "            outf.write(\"</trace>\")\n",
    "\n",
    "        return repair_path"
   ]
  },
  {
   "cell_type": "code",
   "execution_count": 13,
   "metadata": {},
   "outputs": [
    {
     "data": {
      "text/plain": [
       "(28, 130)"
      ]
     },
     "execution_count": 13,
     "metadata": {},
     "output_type": "execute_result"
    }
   ],
   "source": [
    "successes_1 = list(map(Path, (dstdir/\"1_repair_success_1.txt\").read_text().split(\"\\n\")))\n",
    "failed_1 = [fpath for fpath in xmls if fpath.name not in [s.name for s in successes_1]]\n",
    "failed_1 = failed_1[20:]\n",
    "len(successes_1), len(failed_1)"
   ]
  },
  {
   "cell_type": "code",
   "execution_count": 14,
   "metadata": {},
   "outputs": [
    {
     "name": "stderr",
     "output_type": "stream",
     "text": [
      "\n",
      "count lines (trace-apache-commons-io-InputXmlFuzzer.xml): 6057760it [00:16, 376462.81it/s]                                                                                                                            | 0/130 [00:00<?, ?it/s]\u001b[A\n",
      "deconstruct into fuzzer target calls (trace-apache-commons-io-InputXmlFuzzer.xml): 100%|██████████████████████████████████████████████████████████████████████████████████████| 6057760/6057760 [06:05<00:00, 16585.74it/s, all=331, failed=0]\n",
      "\n",
      "count lines (trace-apache-commons-configuration-INIConfigurationReadFuzzer.xml): 34824it [00:00, 192503.54it/s]                                                                                           | 1/130 [07:21<15:48:50, 441.32s/it]\u001b[A\n",
      "deconstruct into fuzzer target calls (trace-apache-commons-configuration-INIConfigurationReadFuzzer.xml): 100%|████████████████████████████████████████████████████████████████████| 34824/34824 [00:15<00:00, 2191.34it/s, all=17, failed=16]\n",
      "\n",
      "count lines (trace-apache-commons-ImagingBmpFuzzer.xml): 37354it [00:00, 97864.20it/s]                                                                                                                     | 2/130 [07:40<6:51:23, 192.84s/it]\u001b[A\n",
      "deconstruct into fuzzer target calls (trace-apache-commons-ImagingBmpFuzzer.xml): 100%|█████████████████████████████████████████████████████████████████████████████████████████████| 37354/37354 [00:00<00:00, 41135.18it/s, all=7, failed=0]\n",
      "\n",
      "count lines (trace-apache-commons-jxpath-JXPathFuzzer.xml): 363459it [00:01, 298810.71it/s]                                                                                                                | 3/130 [07:41<3:43:12, 105.46s/it]\u001b[A\n",
      "deconstruct into fuzzer target calls (trace-apache-commons-jxpath-JXPathFuzzer.xml): 100%|████████████████████████████████████████████████████████████████████████████████████████████████████████| 363459/363459 [00:00<00:00, 848504.73it/s]\n",
      "\n",
      "count lines (trace-bc-java-CMSEnvelopedDataParserFuzzer.xml): 448430it [00:02, 212533.98it/s]                                                                                                               | 4/130 [07:43<2:15:25, 64.49s/it]\u001b[A\n",
      "deconstruct into fuzzer target calls (trace-bc-java-CMSEnvelopedDataParserFuzzer.xml): 100%|██████████████████████████████████████████████████████████████████████████████████████████████████████| 448430/448430 [00:00<00:00, 684080.67it/s]\n",
      "\n",
      "count lines (trace-dom4j-DOMReaderFuzzer.xml): 355335it [00:01, 280958.32it/s]                                                                                                                              | 5/130 [07:46<1:28:00, 42.25s/it]\u001b[A\n",
      "deconstruct into fuzzer target calls (trace-dom4j-DOMReaderFuzzer.xml): 100%|█████████████████████████████████████████████████████████████████████████████████████████████████████████████████████| 355335/355335 [00:00<00:00, 903064.30it/s]\n",
      "\n",
      "count lines (trace-guava-InetAddressesFuzzer.xml): 3915727it [00:09, 420465.04it/s]                                                                                                                           | 6/130 [07:47<58:48, 28.46s/it]\u001b[A\n",
      "deconstruct into fuzzer target calls (trace-guava-InetAddressesFuzzer.xml): 100%|█████████████████████████████████████████████████████████████████████████████████████████████| 3915727/3915727 [03:46<00:00, 17272.21it/s, all=388, failed=0]\n",
      "\n",
      "count lines (trace-h2database-CsvReadFuzzer.xml): 8423941it [00:19, 421666.69it/s]                                                                                                                         | 7/130 [12:16<3:39:28, 107.06s/it]\u001b[A\n",
      "deconstruct into fuzzer target calls (trace-h2database-CsvReadFuzzer.xml): 100%|██████████████████████████████████████████████████████████████████████████████████████████████| 8423941/8423941 [09:17<00:00, 15115.60it/s, all=671, failed=0]\n",
      "\n",
      "count lines (trace-hdrhistogram-LogReaderWriterFuzzer.xml): 4502it [00:00, 81955.70it/s]                                                                                                                   | 8/130 [23:17<9:36:18, 283.43s/it]\u001b[A\n",
      "deconstruct into fuzzer target calls (trace-hdrhistogram-LogReaderWriterFuzzer.xml): 100%|███████████████████████████████████████████████████████████████████████████████████████████| 4502/4502 [00:00<00:00, 308935.52it/s, all=2, failed=0]\n",
      "\n",
      "count lines (trace-httpcomponents-client-FormBodyPartBuilderBuildFuzzer.xml): 307it [00:00, 5098.94it/s]                                                                                                   | 9/130 [23:21<6:35:06, 195.92s/it]\u001b[A\n",
      "deconstruct into fuzzer target calls (trace-httpcomponents-client-FormBodyPartBuilderBuildFuzzer.xml): 100%|████████████████████████████████████████████████████████████████████████████████████████████| 307/307 [00:00<00:00, 208391.54it/s]\n",
      "count lines (trace-jackson-core-DataInputFuzzer.xml): 4329144it [00:11, 389707.62it/s]\n",
      "deconstruct into fuzzer target calls (trace-jackson-core-DataInputFuzzer.xml): 100%|██████████████████████████████████████████████████████████████████████████████████████████| 4329144/4329144 [03:35<00:00, 20107.54it/s, all=646, failed=0]\n",
      "\n",
      "count lines (trace-jackson-databind-ConvertValueFuzzer.xml): 35170it [00:00, 194684.83it/s]                                                                                                               | 11/130 [27:39<5:26:13, 164.48s/it]\u001b[A\n",
      "deconstruct into fuzzer target calls (trace-jackson-databind-ConvertValueFuzzer.xml): 100%|█████████████████████████████████████████████████████████████████████████████████████████████████████████| 35170/35170 [00:00<00:00, 469280.63it/s]\n",
      "\n",
      "count lines (trace-apache-commons-lang-EscapeHtmlFuzzer.xml): 2625508it [00:07, 367858.68it/s]                                                                                                            | 12/130 [27:41<4:02:53, 123.51s/it]\u001b[A\n",
      "deconstruct into fuzzer target calls (trace-apache-commons-lang-EscapeHtmlFuzzer.xml): 100%|█████████████████████████████████████████████████████████████████████████████████| 2625508/2625508 [02:18<00:00, 18933.37it/s, all=1090, failed=0]\n",
      "\n",
      "count lines (trace-apache-commons-lang-StringEscapeUtilsFuzzer.xml): 3851083it [00:08, 461386.76it/s]                                                                                                     | 13/130 [30:31<4:24:53, 135.84s/it]\u001b[A\n",
      "deconstruct into fuzzer target calls (trace-apache-commons-lang-StringEscapeUtilsFuzzer.xml): 100%|██████████████████████████████████████████████████████████████████████████| 3851083/3851083 [03:47<00:00, 16936.54it/s, all=1138, failed=0]\n",
      "\n",
      "count lines (trace-apache-felix-dev-JSONParserFuzzer.xml): 945145it [00:02, 471150.11it/s]                                                                                                                | 14/130 [34:57<5:31:33, 171.50s/it]\u001b[A\n",
      "deconstruct into fuzzer target calls (trace-apache-felix-dev-JSONParserFuzzer.xml): 100%|██████████████████████████████████████████████████████████████████████████████████████| 945145/945145 [00:47<00:00, 20028.76it/s, all=1841, failed=9]\n",
      "\n",
      "count lines (trace-archaius-core-DynamicPropertyFuzzer.xml): 8584it [00:00, 25402.63it/s]                                                                                                                 | 15/130 [35:54<4:26:55, 139.27s/it]\u001b[A\n",
      "deconstruct into fuzzer target calls (trace-archaius-core-DynamicPropertyFuzzer.xml): 100%|███████████████████████████████████████████████████████████████████████████████████████████████████████████| 8584/8584 [00:00<00:00, 345912.01it/s]\n",
      "\n",
      "count lines (trace-aspectj-ASTFuzzer.xml): 107140it [00:00, 311714.16it/s]                                                                                                                                 | 16/130 [35:55<3:09:05, 99.52s/it]\u001b[A\n",
      "deconstruct into fuzzer target calls (trace-aspectj-ASTFuzzer.xml): 100%|█████████████████████████████████████████████████████████████████████████████████████████████████████████████████████████| 107140/107140 [00:00<00:00, 841748.86it/s]\n",
      "\n"
     ]
    },
    {
     "name": "stderr",
     "output_type": "stream",
     "text": [
      "count lines (trace-bc-java-EncodingFuzzer.xml): 22398561it [01:21, 275152.84it/s]                                                                                                                          | 17/130 [35:55<2:13:12, 70.73s/it]\u001b[A\n",
      "deconstruct into fuzzer target calls (trace-bc-java-EncodingFuzzer.xml): 100%|██████████████████████████████████████████████████████████████████████████████████████████████| 22398561/22398561 [24:02<00:00, 15526.80it/s, all=241, failed=0]\n",
      "round 2:  13%|████████████████████████▎                                                                                                                                                                 | 17/130 [1:02:54<6:58:10, 222.04s/it]\n"
     ]
    },
    {
     "ename": "KeyboardInterrupt",
     "evalue": "",
     "output_type": "error",
     "traceback": [
      "\u001b[0;31m---------------------------------------------------------------------------\u001b[0m",
      "\u001b[0;31mKeyboardInterrupt\u001b[0m                         Traceback (most recent call last)",
      "Cell \u001b[0;32mIn[14], line 8\u001b[0m\n\u001b[1;32m      6\u001b[0m \u001b[38;5;28;01mtry\u001b[39;00m:\n\u001b[1;32m      7\u001b[0m     it \u001b[38;5;241m=\u001b[39m ET\u001b[38;5;241m.\u001b[39miterparse(repair_path)\n\u001b[0;32m----> 8\u001b[0m     \u001b[38;5;28;01mfor\u001b[39;00m tag \u001b[38;5;129;01min\u001b[39;00m it:\n\u001b[1;32m      9\u001b[0m         \u001b[38;5;28;01mpass\u001b[39;00m\n\u001b[1;32m     10\u001b[0m     successes_2\u001b[38;5;241m.\u001b[39mappend(repair_path)\n",
      "File \u001b[0;32m/usr/lib64/python3.11/xml/etree/ElementTree.py:1254\u001b[0m, in \u001b[0;36miterparse.<locals>.iterator\u001b[0;34m(source)\u001b[0m\n\u001b[1;32m   1252\u001b[0m     \u001b[38;5;28;01mif\u001b[39;00m \u001b[38;5;129;01mnot\u001b[39;00m data:\n\u001b[1;32m   1253\u001b[0m         \u001b[38;5;28;01mbreak\u001b[39;00m\n\u001b[0;32m-> 1254\u001b[0m     \u001b[43mpullparser\u001b[49m\u001b[38;5;241;43m.\u001b[39;49m\u001b[43mfeed\u001b[49m\u001b[43m(\u001b[49m\u001b[43mdata\u001b[49m\u001b[43m)\u001b[49m\n\u001b[1;32m   1255\u001b[0m root \u001b[38;5;241m=\u001b[39m pullparser\u001b[38;5;241m.\u001b[39m_close_and_return_root()\n\u001b[1;32m   1256\u001b[0m \u001b[38;5;28;01myield from\u001b[39;00m pullparser\u001b[38;5;241m.\u001b[39mread_events()\n",
      "File \u001b[0;32m/usr/lib64/python3.11/xml/etree/ElementTree.py:1292\u001b[0m, in \u001b[0;36mXMLPullParser.feed\u001b[0;34m(self, data)\u001b[0m\n\u001b[1;32m   1290\u001b[0m \u001b[38;5;28;01mif\u001b[39;00m data:\n\u001b[1;32m   1291\u001b[0m     \u001b[38;5;28;01mtry\u001b[39;00m:\n\u001b[0;32m-> 1292\u001b[0m         \u001b[38;5;28mself\u001b[39m\u001b[38;5;241m.\u001b[39m_parser\u001b[38;5;241m.\u001b[39mfeed(data)\n\u001b[1;32m   1293\u001b[0m     \u001b[38;5;28;01mexcept\u001b[39;00m \u001b[38;5;167;01mSyntaxError\u001b[39;00m \u001b[38;5;28;01mas\u001b[39;00m exc:\n\u001b[1;32m   1294\u001b[0m         \u001b[38;5;28mself\u001b[39m\u001b[38;5;241m.\u001b[39m_events_queue\u001b[38;5;241m.\u001b[39mappend(exc)\n",
      "\u001b[0;31mKeyboardInterrupt\u001b[0m: "
     ]
    }
   ],
   "source": [
    "import tqdm\n",
    "successes_2 = []\n",
    "failed_2 = []\n",
    "for fpath in tqdm.tqdm(failed_1, position=1, desc=\"round 2\"):\n",
    "    repair_path = recover_functions(fpath)\n",
    "    try:\n",
    "        it = ET.iterparse(repair_path)\n",
    "        for tag in it:\n",
    "            pass\n",
    "        successes_2.append(repair_path)\n",
    "        # shutil.copyfile(repair_path, dstdir/repair_path.name)\n",
    "    except ET.ParseError as ex:\n",
    "        print(\"exception\", type(ex), ex, \"parsing\", fpath)\n",
    "        failed_2.append(repair_path)\n",
    "\n",
    "print(\"ROUND 2:\", len(failed_2), \"files failed parsing\")\n",
    "(dstdir/\"1_repair_success_2_part2.txt\").write_text(\"\\n\".join(map(str, successes_2)))"
   ]
  },
  {
   "cell_type": "code",
   "execution_count": null,
   "metadata": {
    "jupyter": {
     "outputs_hidden": false
    }
   },
   "outputs": [],
   "source": [
    "all_files = successes_1 + successes_2"
   ]
  },
  {
   "cell_type": "code",
   "execution_count": null,
   "metadata": {
    "jupyter": {
     "outputs_hidden": false
    }
   },
   "outputs": [],
   "source": [
    "with open(dstdir/\"1_repair_success_all.txt\", \"w\") as f:\n",
    "    f.write(\"\\n\".join(map(str, all_files)))"
   ]
  },
  {
   "cell_type": "code",
   "execution_count": null,
   "metadata": {},
   "outputs": [],
   "source": []
  }
 ],
 "metadata": {
  "kernelspec": {
   "display_name": "Python 3 (ipykernel)",
   "language": "python",
   "name": "python3"
  },
  "language_info": {
   "codemirror_mode": {
    "name": "ipython",
    "version": 3
   },
   "file_extension": ".py",
   "mimetype": "text/x-python",
   "name": "python",
   "nbconvert_exporter": "python",
   "pygments_lexer": "ipython3",
   "version": "3.11.0"
  },
  "vscode": {
   "interpreter": {
    "hash": "5ede1a196b76944c8f4443c0dcb7a1f7267d958f23434ac7797fa7d09f7c5ffd"
   }
  }
 },
 "nbformat": 4,
 "nbformat_minor": 4
}
