{
 "cells": [
  {
   "cell_type": "markdown",
   "metadata": {},
   "source": [
    "1. PARSE XML FILES\n",
    "2. TURN INTO TREE\n",
    "3. IF FAILS, PARSE AS MANY OF THE ENTRIES AS POSSIBLE"
   ]
  },
  {
   "cell_type": "code",
   "execution_count": 1,
   "metadata": {},
   "outputs": [
    {
     "name": "stdout",
     "output_type": "stream",
     "text": [
      "178 XML files found, 178 unique. duplicates = []\n"
     ]
    }
   ],
   "source": [
    "import traceback\n",
    "import xml.etree.ElementTree as ET\n",
    "from pathlib import Path\n",
    "import re\n",
    "import shutil\n",
    "import os\n",
    "\n",
    "import git\n",
    "\n",
    "repo = git.Repo('.', search_parent_directories=True)\n",
    "os.chdir(repo.working_tree_dir)\n",
    "\n",
    "srcpaths=(\n",
    "    \"/media/benjis/basilisk/Files/biggie/oss-fuzz/fuzz_10m_trace_3h/trace_run_3_success_3h/traces-10m/logs-xmls/\",\n",
    ")\n",
    "\n",
    "xmls = []\n",
    "    l = list(Path(d).glob(\"*.xml\"))\n",
    "    l = [p for p in l if \".repair.\" not in p.name]\n",
    "    xmls += l\n",
    "print(len(xmls), \"XML files found,\", len(set([f.name for f in xmls])), \"unique. duplicates =\", [f for f in xmls if [g.name for g in xmls].count(f.name) > 1])"
   ]
  },
  {
   "cell_type": "code",
   "execution_count": 2,
   "metadata": {},
   "outputs": [],
   "source": [
    "dstdir=Path(\"postprocessed_xmls\")\n",
    "if dstdir.exists():\n",
    "    shutil.rmtree(dstdir)\n",
    "dstdir.mkdir(exist_ok=True)"
   ]
  },
  {
   "cell_type": "code",
   "execution_count": 3,
   "metadata": {},
   "outputs": [
    {
     "name": "stderr",
     "output_type": "stream",
     "text": [
      "100%|████████████████████████████████████████████████████████████████████████████████████████████████████████████████████████████████████████████████████████████████████████████| 178/178 [33:11<00:00, 11.19s/it]\n"
     ]
    },
    {
     "name": "stdout",
     "output_type": "stream",
     "text": [
      "ROUND 1: 150 files failed parsing\n"
     ]
    },
    {
     "data": {
      "text/plain": [
       "4255"
      ]
     },
     "execution_count": 3,
     "metadata": {},
     "output_type": "execute_result"
    }
   ],
   "source": [
    "import tqdm as tqdm\n",
    "\n",
    "successes_1 = []\n",
    "failed_1 = []\n",
    "for fpath in tqdm.tqdm(xmls):\n",
    "    try:\n",
    "        it = ET.iterparse(fpath)\n",
    "        for tag in it:\n",
    "            pass\n",
    "        successes_1.append(fpath)\n",
    "        shutil.copyfile(fpath, dstdir/fpath.name)\n",
    "    except ET.ParseError as ex:\n",
    "        failed_1.append(fpath)\n",
    "\n",
    "print(\"ROUND 1:\", len(failed_1), \"files failed parsing\")\n",
    "(dstdir/\"1_repair_success_1.txt\").write_text(\"\\n\".join(map(str, successes_1)))"
   ]
  },
  {
   "cell_type": "code",
   "execution_count": 4,
   "metadata": {},
   "outputs": [],
   "source": [
    "import tqdm as tqdm\n",
    "\n",
    "fuzzer_start = re.compile(r'''<call[^>]*method=\"[^.\"]+.fuzzerTestOneInput\\([^)]+\\)\"[^>]*''')\n",
    "fuzzer_almost_end = re.compile(r'''<tracepoint[^>]+>''')\n",
    "method_re = re.compile(r'''method=\"[^.\"]+.fuzzerTestOneInput\\([^)]+\\)\"''')\n",
    "exit_re = re.compile(r'''type=\"exit\"''')\n",
    "fuzzer_real_end = re.compile(r'''</call>''')\n",
    "\n",
    "\n",
    "from xml.dom import minidom\n",
    "from xml.parsers.expat import ExpatError\n",
    "\n",
    "def prettify(rough_string):\n",
    "    \"\"\"Return a pretty-printed XML string for the Element.\n",
    "    \"\"\"\n",
    "    reparsed = minidom.parseString(rough_string)\n",
    "    \n",
    "    return reparsed.toprettyxml(indent=\"  \")\n",
    "\n",
    "def recover_functions(fpath):\n",
    "    with open(fpath) as f:\n",
    "        xmlstring = f.read()\n",
    "    xmllines = xmlstring.splitlines(keepends=True)\n",
    "    it = iter(xmllines)\n",
    "    repair_path = dstdir/(str(fpath.name) + \".repair.xml\")\n",
    "    failed_functions = 0\n",
    "    all_functions = 0\n",
    "    with open(repair_path, \"w\") as outf:\n",
    "        with tqdm.tqdm(it, total=len(xmllines), desc=\"deconstruct into fuzzer target calls\") as pbar:\n",
    "            it = iter(pbar)\n",
    "            fuzz_functions = []\n",
    "            current_fuzz_function = None\n",
    "            try:\n",
    "                outf.write(next(it))\n",
    "                while True:\n",
    "                    line = next(it)\n",
    "                    if fuzzer_start.search(line):\n",
    "                        # print(\"start at\", line)\n",
    "                        # start fuzzed function\n",
    "                        current_fuzz_function = []\n",
    "                    if current_fuzz_function is not None:\n",
    "                        current_fuzz_function.append(line)\n",
    "                    m = fuzzer_almost_end.search(line)\n",
    "                    if m:\n",
    "                        tag = m.group(0)\n",
    "                        if method_re.search(tag) and exit_re.search(tag):\n",
    "                            # print(\"end at\", line)\n",
    "                            while True:\n",
    "                                line = next(it)\n",
    "                                # print(\"search end\", line)\n",
    "                                current_fuzz_function.append(line)\n",
    "                                if fuzzer_real_end.search(line):\n",
    "                                    # cap off fuzzed function\n",
    "                                    # print(\"end\", line)\n",
    "                                    all_functions += 1\n",
    "                                    try:\n",
    "                                        func_xml = \"\".join(current_fuzz_function)\n",
    "                                        # ET.fromstring(func_xml)\n",
    "                                        # print(func_xml)\n",
    "                                        func_xml = \"\".join(prettify(func_xml).splitlines(keepends=True)[1:])\n",
    "                                        outf.write(func_xml + \"\\n\")\n",
    "                                    except (ExpatError, ET.ParseError):\n",
    "                                        failed_functions += 1\n",
    "                                    pbar.set_postfix({\"all\": all_functions, \"failed\": failed_functions})\n",
    "                                    break\n",
    "            except StopIteration:\n",
    "                pass\n",
    "        outf.write(\"</trace>\")\n",
    "\n",
    "    return repair_path"
   ]
  },
  {
   "cell_type": "code",
   "execution_count": null,
   "metadata": {},
   "outputs": [
    {
     "name": "stderr",
     "output_type": "stream",
     "text": [
      "\n",
      "deconstruct into fuzzer target calls: 100%|█████████████████████████████████████████████████████████████████████████████████████████████████████████████████████████████| 83662/83662 [00:00<00:00, 1073120.18it/s]\u001b[A\n",
      "\n",
      "deconstruct into fuzzer target calls: 100%|█████████████████████████████████████████████████████████████████████████████████████████████████████████████████████████| 5651425/5651425 [00:04<00:00, 1208133.57it/s]\u001b[A\n",
      "\n",
      "deconstruct into fuzzer target calls: 100%|███████████████████████████████████████████████████████████████████████████████████████████████████████| 3756964/3756964 [04:45<00:00, 13137.51it/s, all=721, failed=14]\u001b[A\n",
      "\n",
      "deconstruct into fuzzer target calls: 100%|████████████████████████████████████████████████████████████████████████████████████████████████████████| 3744975/3744975 [04:25<00:00, 14128.51it/s, all=128, failed=0]\u001b[A\n",
      "\n",
      "deconstruct into fuzzer target calls: 100%|█████████████████████████████████████████████████████████████████████████████████████████████████████████████████████████████████████| 14/14 [00:00<00:00, 54120.05it/s]\u001b[A\n",
      "\n",
      "deconstruct into fuzzer target calls: 100%|██████████████████████████████████████████████████████████████████████████████████████████████████████████| 881221/881221 [00:51<00:00, 17221.89it/s, all=337, failed=0]\u001b[A\n",
      "\n",
      "deconstruct into fuzzer target calls: 100%|████████████████████████████████████████████████████████████████████████████████████████████████████████| 4705799/4705799 [05:33<00:00, 14097.65it/s, all=139, failed=8]\u001b[A\n",
      "\n",
      "deconstruct into fuzzer target calls: 100%|████████████████████████████████████████████████████████████████████████████████████████████████████████| 4267637/4267637 [05:14<00:00, 13570.04it/s, all=228, failed=0]\u001b[A\n",
      "\n",
      "deconstruct into fuzzer target calls: 100%|█████████████████████████████████████████████████████████████████████████████████████████████████████████████| 34824/34824 [00:12<00:00, 2719.30it/s, all=17, failed=16]\u001b[A\n",
      "\n",
      "deconstruct into fuzzer target calls: 100%|█████████████████████████████████████████████████████████████████████████████████████████████████████████████| 42805/42805 [00:13<00:00, 3063.76it/s, all=17, failed=16]\u001b[A\n",
      "\n",
      "deconstruct into fuzzer target calls: 100%|████████████████████████████████████████████████████████████████████████████████████████████████████████████████████████████████| 9675/9675 [00:00<00:00, 494105.44it/s]\u001b[A\n",
      "\n",
      "deconstruct into fuzzer target calls: 100%|████████████████████████████████████████████████████████████████████████████████████████████████████████████████████████████████| 9675/9675 [00:00<00:00, 301317.18it/s]\u001b[A\n",
      "deconstruct into fuzzer target calls: 100%|████████████████████████████████████████████████████████████████████████████████████████████████████████████████████████████████| 9750/9750 [00:00<00:00, 408899.66it/s]\n",
      "\n",
      "deconstruct into fuzzer target calls: 100%|████████████████████████████████████████████████████████████████████████████████████████████████████████████████████████████████| 9750/9750 [00:00<00:00, 964332.87it/s]\u001b[A\n",
      "deconstruct into fuzzer target calls: 100%|████████████████████████████████████████████████████████████████████████████████████████████████████████████████████████████████| 9660/9660 [00:00<00:00, 371044.78it/s]\n",
      "\n",
      "deconstruct into fuzzer target calls: 100%|████████████████████████████████████████████████████████████████████████████████████████████████████████████████████████████████| 9660/9660 [00:00<00:00, 411812.30it/s]\u001b[A\n",
      "deconstruct into fuzzer target calls: 100%|███████████████████████████████████████████████████████████████████████████████████████████████████████████| 467463/467463 [00:26<00:00, 17729.51it/s, all=72, failed=0]\n",
      "\n",
      "deconstruct into fuzzer target calls: 100%|████████████████████████████████████████████████████████████████████████████████████████████████████████| 1513047/1513047 [01:41<00:00, 14861.55it/s, all=507, failed=0]\u001b[A\n",
      "\n",
      "deconstruct into fuzzer target calls: 100%|████████████████████████████████████████████████████████████████████████████████████████████████████████| 2532276/2532276 [02:35<00:00, 16308.94it/s, all=155, failed=0]\u001b[A\n",
      "\n",
      "deconstruct into fuzzer target calls: 100%|███████████████████████████████████████████████████████████████████████████████████████████████████████████| 374644/374644 [00:21<00:00, 17154.97it/s, all=18, failed=0]\u001b[A\n",
      "\n",
      "deconstruct into fuzzer target calls: 100%|████████████████████████████████████████████████████████████████████████████████████████████████████████| 6057760/6057760 [07:07<00:00, 14174.71it/s, all=331, failed=0]\u001b[A\n",
      "\n",
      "deconstruct into fuzzer target calls: 100%|██████████████████████████████████████████████████████████████████████████████████████████████████████████████| 37354/37354 [00:01<00:00, 33420.29it/s, all=7, failed=0]\u001b[A\n",
      "\n",
      "deconstruct into fuzzer target calls: 100%|███████████████████████████████████████████████████████████████████████████████████████████████████████████████████████████| 363459/363459 [00:00<00:00, 1108170.11it/s]\u001b[A\n",
      "\n",
      "deconstruct into fuzzer target calls: 100%|████████████████████████████████████████████████████████████████████████████████████████████████████████████████████████████| 448430/448430 [00:00<00:00, 979771.03it/s]\u001b[A\n",
      "\n",
      "deconstruct into fuzzer target calls: 100%|███████████████████████████████████████████████████████████████████████████████████████████████████████████████████████████| 355335/355335 [00:00<00:00, 1114859.36it/s]\u001b[A\n",
      "\n",
      "deconstruct into fuzzer target calls: 100%|████████████████████████████████████████████████████████████████████████████████████████████████████████| 8423941/8423941 [13:21<00:00, 10514.07it/s, all=671, failed=0]\u001b[A\n",
      "\n",
      "deconstruct into fuzzer target calls: 100%|███████████████████████████████████████████████████████████████████████████████████████████████████████████████| 4502/4502 [00:00<00:00, 300585.11it/s, all=2, failed=0]\u001b[A\n",
      "\n",
      "deconstruct into fuzzer target calls: 100%|████████████████████████████████████████████████████████████████████████████████████████████████████████| 4329144/4329144 [04:54<00:00, 14718.50it/s, all=646, failed=0]\u001b[A\n",
      "\n",
      "deconstruct into fuzzer target calls: 100%|██████████████████████████████████████████████████████████████████████████████████████████████████████████████████████████████| 35170/35170 [00:00<00:00, 513074.97it/s]\u001b[A\n",
      "\n",
      "deconstruct into fuzzer target calls: 100%|███████████████████████████████████████████████████████████████████████████████████████████████████████| 2625508/2625508 [02:51<00:00, 15272.96it/s, all=1090, failed=0]\u001b[A\n",
      "\n",
      "deconstruct into fuzzer target calls: 100%|███████████████████████████████████████████████████████████████████████████████████████████████████████| 3853327/3853327 [03:57<00:00, 16233.83it/s, all=1138, failed=0]\u001b[A\n",
      "\n",
      "deconstruct into fuzzer target calls: 100%|█████████████████████████████████████████████████████████████████████████████████████████████████████████| 947169/947169 [00:47<00:00, 19934.44it/s, all=1841, failed=9]\u001b[A\n",
      "\n",
      "deconstruct into fuzzer target calls: 100%|████████████████████████████████████████████████████████████████████████████████████████████████████████████████████████████████| 8584/8584 [00:00<00:00, 475751.28it/s]\u001b[A\n",
      "\n",
      "deconstruct into fuzzer target calls: 100%|███████████████████████████████████████████████████████████████████████████████████████████████████████████████████████████| 107140/107140 [00:00<00:00, 1120427.58it/s]\u001b[A\n",
      "\n",
      "deconstruct into fuzzer target calls: 100%|██████████████████████████████████████████████████████████████████████████████████████████████████████| 22398561/22398561 [34:29<00:00, 10820.75it/s, all=241, failed=0]\u001b[A\n",
      "\n",
      "round 2:  23%|████████████████████████████████████▊                                                                                                                         | 35/150 [1:49:17<24:34:20, 769.22s/it]\u001b[A"
     ]
    }
   ],
   "source": [
    "successes_2 = []\n",
    "failed_2 = []\n",
    "for fpath in tqdm.tqdm(failed_1, position=1, desc=\"round 2\"):\n",
    "    repair_path = recover_functions(fpath)\n",
    "    try:\n",
    "        root = ET.parse(repair_path).getroot()\n",
    "        successes_2.append(repair_path)\n",
    "        # shutil.copyfile(repair_path, dstdir/repair_path.name)\n",
    "    except ET.ParseError as ex:\n",
    "        print(\"exception\", type(ex), ex, \"parsing\", fpath)\n",
    "        failed_2.append(repair_path)\n",
    "\n",
    "print(\"ROUND 2:\", len(failed_2), \"files failed parsing\")\n",
    "(dstdir/\"1_repair_success_2_part2.txt\").write_text(\"\\n\".join(map(str, successes_2)))"
   ]
  },
  {
   "cell_type": "code",
   "execution_count": null,
   "metadata": {
    "collapsed": false,
    "jupyter": {
     "outputs_hidden": false
    }
   },
   "outputs": [],
   "source": [
    "all_files = successes_1 + successes_2"
   ]
  },
  {
   "cell_type": "code",
   "execution_count": null,
   "metadata": {
    "collapsed": false,
    "jupyter": {
     "outputs_hidden": false
    }
   },
   "outputs": [],
   "source": [
    "with open(dstdir/\"1_repair_success_all.txt\", \"w\") as f:\n",
    "    f.write(\"\\n\".join(map(str, all_files)))"
   ]
  },
  {
   "cell_type": "code",
   "execution_count": null,
   "metadata": {},
   "outputs": [],
   "source": []
  }
 ],
 "metadata": {
  "kernelspec": {
   "display_name": "oss-fuzz",
   "language": "python",
   "name": "oss-fuzz"
  },
  "language_info": {
   "codemirror_mode": {
    "name": "ipython",
    "version": 3
   },
   "file_extension": ".py",
   "mimetype": "text/x-python",
   "name": "python",
   "nbconvert_exporter": "python",
   "pygments_lexer": "ipython3",
   "version": "3.8.16"
  },
  "vscode": {
   "interpreter": {
    "hash": "5ede1a196b76944c8f4443c0dcb7a1f7267d958f23434ac7797fa7d09f7c5ffd"
   }
  }
 },
 "nbformat": 4,
 "nbformat_minor": 4
}
