{
 "cells": [
  {
   "cell_type": "markdown",
   "metadata": {},
   "source": [
    "1. PARSE XML FILES\n",
    "2. TURN INTO TREE\n",
    "3. IF FAILS, PARSE AS MANY OF THE ENTRIES AS POSSIBLE"
   ]
  },
  {
   "cell_type": "code",
   "execution_count": 41,
   "metadata": {},
   "outputs": [
    {
     "name": "stdout",
     "output_type": "stream",
     "text": [
      "234 XML files found, 185 unique. duplicates = [PosixPath('/run/media/benjis/MAGI/basilisk-backup/Files/biggie/oss-fuzz/fuzz_10m_trace_3h/trace_run_3_success_3h/traces-10m/logs-xmls/trace-apache-commons-configuration-JSONConfigurationWriteFuzzer.xml'), PosixPath('/run/media/benjis/MAGI/basilisk-backup/Files/biggie/oss-fuzz/fuzz_10m_trace_3h/trace_run_3_success_3h/traces-10m/logs-xmls/trace-kryo-DeserializeNumbersFuzzer.xml'), PosixPath('/run/media/benjis/MAGI/basilisk-backup/Files/biggie/oss-fuzz/fuzz_10m_trace_3h/trace_run_3_success_3h/traces-10m/logs-xmls/trace-httpcomponents-client-HttpFuzzer.xml'), PosixPath('/run/media/benjis/MAGI/basilisk-backup/Files/biggie/oss-fuzz/fuzz_10m_trace_3h/trace_run_3_success_3h/traces-10m/logs-xmls/trace-guava-MediaTypeFuzzer.xml'), PosixPath('/run/media/benjis/MAGI/basilisk-backup/Files/biggie/oss-fuzz/fuzz_10m_trace_3h/trace_run_3_success_3h/traces-10m/logs-xmls/trace-protobuf-java-ProtobufFuzzer.xml'), PosixPath('/run/media/benjis/MAGI/basilisk-backup/Files/biggie/oss-fuzz/fuzz_10m_trace_3h/trace_run_3_success_3h/traces-10m/logs-xmls/trace-hamcrest-HamcrestFuzzer.xml'), PosixPath('/run/media/benjis/MAGI/basilisk-backup/Files/biggie/oss-fuzz/fuzz_10m_trace_3h/trace_run_3_success_3h/traces-10m/logs-xmls/trace-cglib-EnhancerFuzzer.xml'), PosixPath('/run/media/benjis/MAGI/basilisk-backup/Files/biggie/oss-fuzz/fuzz_10m_trace_3h/trace_run_3_success_3h/traces-10m/logs-xmls/trace-jaxb-DataTypeConverterFuzzer.xml'), PosixPath('/run/media/benjis/MAGI/basilisk-backup/Files/biggie/oss-fuzz/fuzz_10m_trace_3h/trace_run_3_success_3h/traces-10m/logs-xmls/trace-okhttp-RequestFuzzer.xml'), PosixPath('/run/media/benjis/MAGI/basilisk-backup/Files/biggie/oss-fuzz/fuzz_10m_trace_3h/trace_run_3_success_3h/traces-10m/logs-xmls/trace-jackson-core-JsonFuzzer.xml'), PosixPath('/run/media/benjis/MAGI/basilisk-backup/Files/biggie/oss-fuzz/fuzz_10m_trace_3h/trace_run_3_success_3h/traces-10m/logs-xmls/trace-apache-commons-configuration-XMLConfigurationWriteFuzzer.xml'), PosixPath('/run/media/benjis/MAGI/basilisk-backup/Files/biggie/oss-fuzz/fuzz_10m_trace_3h/trace_run_3_success_3h/traces-10m/logs-xmls/trace-h2database-SqlStatementFuzzer.xml'), PosixPath('/run/media/benjis/MAGI/basilisk-backup/Files/biggie/oss-fuzz/fuzz_10m_trace_3h/trace_run_3_success_3h/traces-10m/logs-xmls/trace-jackson-dataformat-xml-XmlFuzzer.xml'), PosixPath('/run/media/benjis/MAGI/basilisk-backup/Files/biggie/oss-fuzz/fuzz_10m_trace_3h/trace_run_3_success_3h/traces-10m/logs-xmls/trace-maven-MojoDescriptorFuzzer.xml'), PosixPath('/run/media/benjis/MAGI/basilisk-backup/Files/biggie/oss-fuzz/fuzz_10m_trace_3h/trace_run_3_success_3h/traces-10m/logs-xmls/trace-h2database-ShellFuzzer.xml'), PosixPath('/run/media/benjis/MAGI/basilisk-backup/Files/biggie/oss-fuzz/fuzz_10m_trace_3h/trace_run_3_success_3h/traces-10m/logs-xmls/trace-jackson-dataformats-binary-SmileFuzzer.xml'), PosixPath('/run/media/benjis/MAGI/basilisk-backup/Files/biggie/oss-fuzz/fuzz_10m_trace_3h/trace_run_3_success_3h/traces-10m/logs-xmls/trace-jackson-dataformats-text-PropertiesFuzzer.xml'), PosixPath('/run/media/benjis/MAGI/basilisk-backup/Files/biggie/oss-fuzz/fuzz_10m_trace_3h/trace_run_3_success_3h/traces-10m/logs-xmls/trace-woodstox-XmlFuzzer.xml'), PosixPath('/run/media/benjis/MAGI/basilisk-backup/Files/biggie/oss-fuzz/fuzz_10m_trace_3h/trace_run_3_success_3h/traces-10m/logs-xmls/trace-archaius-core-DynamicPropertyFuzzer.xml'), PosixPath('/run/media/benjis/MAGI/basilisk-backup/Files/biggie/oss-fuzz/fuzz_10m_trace_3h/trace_run_3_success_3h/traces-10m/logs-xmls/trace-jackson-dataformats-text-YAMLFuzzer.xml'), PosixPath('/run/media/benjis/MAGI/basilisk-backup/Files/biggie/oss-fuzz/fuzz_10m_trace_3h/trace_run_3_success_3h/traces-10m/logs-xmls/trace-dom4j-DOMReaderFuzzer.xml'), PosixPath('/run/media/benjis/MAGI/basilisk-backup/Files/biggie/oss-fuzz/fuzz_10m_trace_3h/trace_run_3_success_3h/traces-10m/logs-xmls/trace-h2database-SqlPreparedStatementFuzzer.xml'), PosixPath('/run/media/benjis/MAGI/basilisk-backup/Files/biggie/oss-fuzz/fuzz_10m_trace_3h/trace_run_3_success_3h/traces-10m/logs-xmls/trace-jackson-dataformats-text-CSVFuzzer.xml'), PosixPath('/run/media/benjis/MAGI/basilisk-backup/Files/biggie/oss-fuzz/fuzz_10m_trace_3h/trace_run_3_success_3h/traces-10m/logs-xmls/trace-xstream-XmlFuzzer.xml'), PosixPath('/run/media/benjis/MAGI/basilisk-backup/Files/biggie/oss-fuzz/fuzz_10m_trace_3h/trace_run_3_success_3h/traces-10m/logs-xmls/trace-jsoup-XmlFuzzer.xml'), PosixPath('/run/media/benjis/MAGI/basilisk-backup/Files/biggie/oss-fuzz/fuzz_10m_trace_3h/trace_run_3_success_3h/traces-10m/logs-xmls/trace-stringtemplate4-StringFuzzer.xml'), PosixPath('/run/media/benjis/MAGI/basilisk-backup/Files/biggie/oss-fuzz/fuzz_10m_trace_3h/trace_run_3_success_3h/traces-10m/logs-xmls/trace-jackson-dataformats-text-TOMLFuzzer.xml'), PosixPath('/run/media/benjis/MAGI/basilisk-backup/Files/biggie/oss-fuzz/fuzz_10m_trace_3h/trace_run_3_success_3h/traces-10m/logs-xmls/trace-okhttp-LoggingInterceptorFuzzer.xml'), PosixPath('/run/media/benjis/MAGI/basilisk-backup/Files/biggie/oss-fuzz/fuzz_10m_trace_3h/trace_run_3_success_3h/traces-10m/logs-xmls/trace-apache-commons-collections-CollectionsBidiMapFuzzer.xml'), PosixPath('/run/media/benjis/MAGI/basilisk-backup/Files/biggie/oss-fuzz/fuzz_10m_trace_3h/trace_run_3_success_3h/traces-10m/logs-xmls/trace-kryo-DeserializeStringFuzzer.xml'), PosixPath('/run/media/benjis/MAGI/basilisk-backup/Files/biggie/oss-fuzz/fuzz_10m_trace_3h/trace_run_3_success_3h/traces-10m/logs-xmls/trace-guava-HostSpecifierFuzzer.xml'), PosixPath('/run/media/benjis/MAGI/basilisk-backup/Files/biggie/oss-fuzz/fuzz_10m_trace_3h/trace_run_3_success_3h/traces-10m/logs-xmls/trace-jimfs-FileSystemFuzzer.xml'), PosixPath('/run/media/benjis/MAGI/basilisk-backup/Files/biggie/oss-fuzz/fuzz_10m_trace_3h/trace_run_3_success_3h/traces-10m/logs-xmls/trace-httpcomponents-client-FormBodyPartBuilderBuildFuzzer.xml'), PosixPath('/run/media/benjis/MAGI/basilisk-backup/Files/biggie/oss-fuzz/fuzz_10m_trace_3h/trace_run_3_success_3h/traces-10m/logs-xmls/trace-groovy-TestFuzzer.xml'), PosixPath('/run/media/benjis/MAGI/basilisk-backup/Files/biggie/oss-fuzz/fuzz_10m_trace_3h/trace_run_3_success_3h/traces-10m/logs-xmls/trace-h2database-ServerLoginFuzzer.xml'), PosixPath('/run/media/benjis/MAGI/basilisk-backup/Files/biggie/oss-fuzz/fuzz_10m_trace_3h/trace_run_3_success_3h/traces-10m/logs-xmls/trace-javaparser-parseFuzzer.xml'), PosixPath('/run/media/benjis/MAGI/basilisk-backup/Files/biggie/oss-fuzz/fuzz_10m_trace_3h/trace_run_3_success_3h/traces-10m/logs-xmls/trace-apache-commons-jxpath-JXPathFuzzer.xml'), PosixPath('/run/media/benjis/MAGI/basilisk-backup/Files/biggie/oss-fuzz/fuzz_10m_trace_3h/trace_run_3_success_3h/traces-10m/logs-xmls/trace-apache-commons-configuration-YAMLConfigurationReadFuzzer.xml'), PosixPath('/run/media/benjis/MAGI/basilisk-backup/Files/biggie/oss-fuzz/fuzz_10m_trace_3h/trace_run_3_success_3h/traces-10m/logs-xmls/trace-apache-commons-configuration-YAMLConfigurationWriteFuzzer.xml'), PosixPath('/run/media/benjis/MAGI/basilisk-backup/Files/biggie/oss-fuzz/fuzz_10m_trace_3h/trace_run_3_success_3h/traces-10m/logs-xmls/trace-bc-java-CMSEnvelopedDataParserFuzzer.xml'), PosixPath('/run/media/benjis/MAGI/basilisk-backup/Files/biggie/oss-fuzz/fuzz_10m_trace_3h/trace_run_3_success_3h/traces-10m/logs-xmls/trace-jackson-dataformats-binary-CborFuzzer.xml'), PosixPath('/run/media/benjis/MAGI/basilisk-backup/Files/biggie/oss-fuzz/fuzz_10m_trace_3h/trace_run_3_success_3h/traces-10m/logs-xmls/trace-kryo-DeserializeCollectionsFuzzer.xml'), PosixPath('/run/media/benjis/MAGI/basilisk-backup/Files/biggie/oss-fuzz/fuzz_10m_trace_3h/trace_run_3_success_3h/traces-10m/logs-xmls/trace-jsoup-HtmlFuzzer.xml'), PosixPath('/run/media/benjis/MAGI/basilisk-backup/Files/biggie/oss-fuzz/fuzz_10m_trace_3h/trace_run_3_success_3h/traces-10m/logs-xmls/trace-guava-InternetDomainNameFuzzer.xml'), PosixPath('/run/media/benjis/MAGI/basilisk-backup/Files/biggie/oss-fuzz/fuzz_10m_trace_3h/trace_run_3_success_3h/traces-10m/logs-xmls/trace-guice-InjectorFuzzer.xml'), PosixPath('/run/media/benjis/MAGI/basilisk-backup/Files/biggie/oss-fuzz/fuzz_10m_trace_3h/trace_run_3_success_3h/traces-10m/logs-xmls/trace-jackson-modules-java8-DatatypeFuzzer.xml'), PosixPath('/run/media/benjis/MAGI/basilisk-backup/Files/biggie/oss-fuzz/fuzz_10m_trace_3h/trace_run_3_success_3h/traces-10m/logs-xmls/trace-apache-commons-configuration-JSONConfigurationReadFuzzer.xml'), PosixPath('/run/media/benjis/MAGI/basilisk-backup/Files/biggie/oss-fuzz/fuzz_10m_trace_3h/trace_run_3_success_3h/traces-10m/logs-xmls/trace-janino-ExpressionEvaluatorFuzzer.xml'), PosixPath('/run/media/benjis/MAGI/basilisk-backup/Files/biggie/oss-fuzz/fuzz_10m_trace_3h/trace_run_3_success_3h/traces-10m/logs-xmls/trace-apache-commons-configuration-XMLConfigurationLoadFuzzer.xml'), PosixPath('traces-10m/logs-xmls/trace-apache-commons-collections-CollectionsBidiMapFuzzer.xml'), PosixPath('traces-10m/logs-xmls/trace-apache-commons-configuration-JSONConfigurationReadFuzzer.xml'), PosixPath('traces-10m/logs-xmls/trace-apache-commons-configuration-XMLConfigurationLoadFuzzer.xml'), PosixPath('traces-10m/logs-xmls/trace-apache-commons-configuration-XMLConfigurationWriteFuzzer.xml'), PosixPath('traces-10m/logs-xmls/trace-apache-commons-configuration-YAMLConfigurationReadFuzzer.xml'), PosixPath('traces-10m/logs-xmls/trace-apache-commons-configuration-JSONConfigurationWriteFuzzer.xml'), PosixPath('traces-10m/logs-xmls/trace-apache-commons-configuration-YAMLConfigurationWriteFuzzer.xml'), PosixPath('traces-10m/logs-xmls/trace-apache-commons-jxpath-JXPathFuzzer.xml'), PosixPath('traces-10m/logs-xmls/trace-archaius-core-DynamicPropertyFuzzer.xml'), PosixPath('traces-10m/logs-xmls/trace-bc-java-CMSEnvelopedDataParserFuzzer.xml'), PosixPath('traces-10m/logs-xmls/trace-cglib-EnhancerFuzzer.xml'), PosixPath('traces-10m/logs-xmls/trace-dom4j-DOMReaderFuzzer.xml'), PosixPath('traces-10m/logs-xmls/trace-groovy-TestFuzzer.xml'), PosixPath('traces-10m/logs-xmls/trace-guava-HostSpecifierFuzzer.xml'), PosixPath('traces-10m/logs-xmls/trace-guava-InternetDomainNameFuzzer.xml'), PosixPath('traces-10m/logs-xmls/trace-guava-MediaTypeFuzzer.xml'), PosixPath('traces-10m/logs-xmls/trace-guice-InjectorFuzzer.xml'), PosixPath('traces-10m/logs-xmls/trace-h2database-ServerLoginFuzzer.xml'), PosixPath('traces-10m/logs-xmls/trace-h2database-ShellFuzzer.xml'), PosixPath('traces-10m/logs-xmls/trace-h2database-SqlPreparedStatementFuzzer.xml'), PosixPath('traces-10m/logs-xmls/trace-h2database-SqlStatementFuzzer.xml'), PosixPath('traces-10m/logs-xmls/trace-hamcrest-HamcrestFuzzer.xml'), PosixPath('traces-10m/logs-xmls/trace-httpcomponents-client-FormBodyPartBuilderBuildFuzzer.xml'), PosixPath('traces-10m/logs-xmls/trace-httpcomponents-client-HttpFuzzer.xml'), PosixPath('traces-10m/logs-xmls/trace-jackson-core-JsonFuzzer.xml'), PosixPath('traces-10m/logs-xmls/trace-jackson-dataformats-binary-CborFuzzer.xml'), PosixPath('traces-10m/logs-xmls/trace-jackson-dataformats-binary-SmileFuzzer.xml'), PosixPath('traces-10m/logs-xmls/trace-jackson-dataformats-text-CSVFuzzer.xml'), PosixPath('traces-10m/logs-xmls/trace-jackson-dataformats-text-PropertiesFuzzer.xml'), PosixPath('traces-10m/logs-xmls/trace-jackson-dataformats-text-TOMLFuzzer.xml'), PosixPath('traces-10m/logs-xmls/trace-jackson-dataformats-text-YAMLFuzzer.xml'), PosixPath('traces-10m/logs-xmls/trace-jackson-dataformat-xml-XmlFuzzer.xml'), PosixPath('traces-10m/logs-xmls/trace-jackson-modules-java8-DatatypeFuzzer.xml'), PosixPath('traces-10m/logs-xmls/trace-janino-ExpressionEvaluatorFuzzer.xml'), PosixPath('traces-10m/logs-xmls/trace-javaparser-parseFuzzer.xml'), PosixPath('traces-10m/logs-xmls/trace-jaxb-DataTypeConverterFuzzer.xml'), PosixPath('traces-10m/logs-xmls/trace-jimfs-FileSystemFuzzer.xml'), PosixPath('traces-10m/logs-xmls/trace-jsoup-HtmlFuzzer.xml'), PosixPath('traces-10m/logs-xmls/trace-jsoup-XmlFuzzer.xml'), PosixPath('traces-10m/logs-xmls/trace-kryo-DeserializeCollectionsFuzzer.xml'), PosixPath('traces-10m/logs-xmls/trace-kryo-DeserializeNumbersFuzzer.xml'), PosixPath('traces-10m/logs-xmls/trace-kryo-DeserializeStringFuzzer.xml'), PosixPath('traces-10m/logs-xmls/trace-maven-MojoDescriptorFuzzer.xml'), PosixPath('traces-10m/logs-xmls/trace-okhttp-LoggingInterceptorFuzzer.xml'), PosixPath('traces-10m/logs-xmls/trace-okhttp-RequestFuzzer.xml'), PosixPath('traces-10m/logs-xmls/trace-protobuf-java-ProtobufFuzzer.xml'), PosixPath('traces-10m/logs-xmls/trace-stringtemplate4-StringFuzzer.xml'), PosixPath('traces-10m/logs-xmls/trace-woodstox-XmlFuzzer.xml'), PosixPath('traces-10m/logs-xmls/trace-xstream-XmlFuzzer.xml')]\n"
     ]
    }
   ],
   "source": [
    "import traceback\n",
    "import xml.etree.ElementTree as ET\n",
    "from pathlib import Path\n",
    "import re\n",
    "import shutil\n",
    "import os\n",
    "\n",
    "import git\n",
    "\n",
    "repo = git.Repo('.', search_parent_directories=True)\n",
    "os.chdir(repo.working_tree_dir)\n",
    "\n",
    "srcpaths=(\n",
    "    \"first_run_xmls\",\n",
    ")\n",
    "\n",
    "xmls = []\n",
    "for d in srcpaths:\n",
    "    l = list(Path(d).glob(\"*.xml\"))\n",
    "    l = [p for p in l if \".repair.\" not in p.name]\n",
    "    xmls += l\n",
    "print(len(xmls), \"XML files found,\", len(set([f.name for f in xmls])), \"unique. duplicates =\", [f for f in xmls if [g.name for g in xmls].count(f.name) > 1])"
   ]
  },
  {
   "cell_type": "code",
   "execution_count": 36,
   "metadata": {},
   "outputs": [],
   "source": [
    "dstdir=Path(\"first_run_xmls_postprocessed\")"
   ]
  },
  {
   "cell_type": "code",
   "execution_count": 37,
   "metadata": {},
   "outputs": [],
   "source": [
    "if dstdir.exists():\n",
    "    shutil.rmtree(dstdir)\n",
    "dstdir.mkdir(exist_ok=True)"
   ]
  },
  {
   "cell_type": "code",
   "execution_count": 40,
   "metadata": {},
   "outputs": [
    {
     "name": "stderr",
     "output_type": "stream",
     "text": [
      "100%|██████████| 56/56 [03:15<00:00,  3.49s/it, success=56, failed=0]"
     ]
    },
    {
     "name": "stdout",
     "output_type": "stream",
     "text": [
      "ROUND 1: 0 files failed parsing\n"
     ]
    },
    {
     "name": "stderr",
     "output_type": "stream",
     "text": [
      "\n"
     ]
    },
    {
     "data": {
      "text/plain": [
       "3617"
      ]
     },
     "execution_count": 40,
     "metadata": {},
     "output_type": "execute_result"
    }
   ],
   "source": [
    "import tqdm as tqdm\n",
    "# from lxml import etree\n",
    "from lxml import etree as ET2\n",
    "parser = ET2.XMLParser(recover=True)\n",
    "\n",
    "successes_1 = []\n",
    "failed_1 = []\n",
    "with tqdm.tqdm(xmls) as pbar:\n",
    "    for fpath in pbar:\n",
    "        try:\n",
    "            tree = ET2.parse(fpath, parser=parser)\n",
    "            successes_1.append(fpath)\n",
    "            # shutil.copyfile(fpath, dstdir/fpath.name)\n",
    "            tree.write(dstdir/fpath.name, pretty_print=True)\n",
    "        except ET2.XMLSyntaxError as ex:\n",
    "            failed_1.append(fpath)\n",
    "        except ET.ParseError as ex:\n",
    "            failed_1.append(fpath)\n",
    "        pbar.set_postfix({\n",
    "            \"success\": len(successes_1),\n",
    "            \"failed\": len(failed_1),\n",
    "        })\n",
    "\n",
    "print(\"ROUND 1:\", len(failed_1), \"files failed parsing\")\n",
    "(dstdir/\"1_repair_success_1.txt\").write_text(\"\\n\".join(map(str, successes_1)))"
   ]
  },
  {
   "cell_type": "code",
   "execution_count": null,
   "metadata": {},
   "outputs": [],
   "source": [
    "import tqdm as tqdm\n",
    "\n",
    "fuzzer_start = re.compile(r'''<call[^>]*method=\"[^(\"]+.fuzzerTestOneInput\\([^)]+\\)\"[^>]*''')\n",
    "\n",
    "from xml.dom import minidom\n",
    "from xml.parsers.expat import ExpatError\n",
    "\n",
    "def recover_functions_simple(fpath, dstdir):\n",
    "    repair_path = dstdir/(str(fpath.name) + \".repair.xml\")\n",
    "    if repair_path.exists():\n",
    "        return repair_path\n",
    "    \n",
    "#     with open(fpath) as f:\n",
    "#         num_lines = sum(1 for line in tqdm.tqdm(f, desc=f\"count lines ({fpath.name})\"))\n",
    "    last_fuzzer_start = None\n",
    "    with open(fpath) as f:\n",
    "        i = 0\n",
    "        it = iter(f)\n",
    "        failed_functions = 0\n",
    "        all_functions = 0\n",
    "        with tqdm.tqdm(it, total=None, desc=f\"chop final fuzzer target call ({fpath.name})\") as pbar:\n",
    "            it = pbar\n",
    "            fuzz_functions = []\n",
    "            current_fuzz_function = None\n",
    "            for i, line in enumerate(it):\n",
    "                m = fuzzer_start.search(line)\n",
    "                if m is not None:\n",
    "#                     print(\"MATCH\", m, m.start(), m.span())\n",
    "                    j = m.start()\n",
    "                    last_fuzzer_start = (i, j)\n",
    "#     print(\"LFS\", last_fuzzer_start)\n",
    "    if last_fuzzer_start is None:\n",
    "        print(\"ERROR: last_fuzzer_start is None\", fpath)\n",
    "        return None\n",
    "    \n",
    "    with open(fpath) as f, open(repair_path, \"w\") as outf:\n",
    "        it = iter(f)\n",
    "        with tqdm.tqdm(it, total=last_fuzzer_start[0], desc=f\"write file ({fpath.name})\") as pbar:\n",
    "            it = pbar\n",
    "            for i, line in enumerate(it):\n",
    "#                 print(i)\n",
    "                if i == last_fuzzer_start[0]:\n",
    "#                     print(\"LINE:\")\n",
    "#                     print(line)\n",
    "                    line_chopped = line[:last_fuzzer_start[1]]\n",
    "#                     print(\"CHOPPED:\")\n",
    "#                     print(line_chopped)\n",
    "                    outf.write(line_chopped)\n",
    "                    break\n",
    "                else:\n",
    "                    outf.write(line)\n",
    "            outf.write(\"</trace>\")\n",
    "        \n",
    "    return repair_path\n",
    "\n",
    "# xml_file = Path(\"/run/media/benjis/basilisk/Files/biggie/oss-fuzz/fuzz_10m_trace_3h/trace_run_3_success_3h/traces-10m/logs-xmls\")/\"trace-apache-commons-cli-ParserFuzzer.xml\"\n",
    "# recover_functions_simple(xml_file, Path(\"postprocessed_xmls_debug\"))"
   ]
  },
  {
   "cell_type": "code",
   "execution_count": null,
   "metadata": {},
   "outputs": [],
   "source": [
    "# fpath = Path(\"/run/media/benjis/basilisk/Files/biggie/oss-fuzz/fuzz_10m_trace_3h/trace_run_3_success_3h/traces-10m/logs-xmls\")/\"trace-apache-commons-cli-ParserFuzzer.xml\"\n",
    "# repair_path = recover_functions_simple(fpath, Path(\"postprocessed_xmls_debug\"))\n",
    "# print(fpath, \"->\", repair_path)\n",
    "# it = ET.iterparse(repair_path)\n",
    "# for tag in tqdm.tqdm(it, desc=f\"check XML parse ({fpath.name})\"):\n",
    "#     pass"
   ]
  },
  {
   "cell_type": "code",
   "execution_count": null,
   "metadata": {},
   "outputs": [],
   "source": [
    "# successes_1 = list(map(Path, (dstdir/\"1_repair_success_1.txt\").read_text().split(\"\\n\")))\n",
    "# failed_1 = [fpath for fpath in xmls if fpath.name not in [s.name for s in successes_1]]\n",
    "# len(successes_1), len(failed_1)"
   ]
  },
  {
   "cell_type": "code",
   "execution_count": null,
   "metadata": {},
   "outputs": [],
   "source": [
    "import tqdm\n",
    "successes_2 = []\n",
    "failed_2 = []\n",
    "with tqdm.tqdm(failed_1, position=1, desc=\"round 2\") as pbar:\n",
    "    for fpath in pbar:\n",
    "        repair_path = recover_functions_simple(fpath, dstdir)\n",
    "        if repair_path is None:\n",
    "            print(\"ERROR\", fpath)\n",
    "            continue\n",
    "        try:\n",
    "            it = ET.iterparse(repair_path)\n",
    "            for tag in tqdm.tqdm(it, desc=f\"check XML parse ({fpath.name})\"):\n",
    "                pass\n",
    "            successes_2.append(repair_path)\n",
    "            # shutil.copyfile(repair_path, dstdir/repair_path.name)\n",
    "        except ET.ParseError as ex:\n",
    "            print(\"exception\", type(ex), ex, \"parsing\", fpath, repair_path)\n",
    "            failed_2.append(repair_path)\n",
    "        pbar.set_postfix({\n",
    "            \"success\": len(successes_2),\n",
    "            \"failed\": len(failed_2),\n",
    "        })\n",
    "\n",
    "print(\"ROUND 2:\", len(failed_2), \"files failed parsing\")\n",
    "(dstdir/\"1_repair_success_2.txt\").write_text(\"\\n\".join(map(str, successes_2)))"
   ]
  },
  {
   "cell_type": "code",
   "execution_count": 34,
   "metadata": {},
   "outputs": [
    {
     "name": "stdout",
     "output_type": "stream",
     "text": [
      "Got expected error from lxml normal parsing\n",
      "Got expected error from ElementTree normal parsing\n"
     ]
    }
   ],
   "source": [
    "# lxml XMLParser(recover=True) is needed for some gnarly examples.\n",
    "xml = \"/home/benjis/code/bug-benchmarks/oss-fuzz/traces-10m/logs-xmls/trace-apache-commons-configuration-JSONConfigurationReadFuzzer.xml\"\n",
    "\n",
    "from lxml import etree as ET2\n",
    "parser = ET2.XMLParser(recover=True)\n",
    "it = ET2.parse(xml, parser=parser)\n",
    "\n",
    "try:\n",
    "    it = ET2.parse(xml)\n",
    "except ET2.XMLSyntaxError:\n",
    "    print(\"Got expected error from lxml normal parsing\")\n",
    "\n",
    "import xml.etree.ElementTree as ET\n",
    "try:\n",
    "    # from xml.etree import XMLSyntaxError\n",
    "    it = ET.parse(xml)\n",
    "except ET.ParseError:\n",
    "    print(\"Got expected error from ElementTree normal parsing\")"
   ]
  },
  {
   "cell_type": "code",
   "execution_count": 12,
   "metadata": {},
   "outputs": [
    {
     "name": "stderr",
     "output_type": "stream",
     "text": [
      "count lines (trace-okhttp-LoggingInterceptorFuzzer.xml): 30263it [00:00, 572310.72it/s]\n",
      "deconstruct into fuzzer target calls (trace-okhttp-LoggingInterceptorFuzzer.xml): 100%|██████████| 30263/30263 [00:00<00:00, 213367.68it/s]"
     ]
    },
    {
     "name": "stdout",
     "output_type": "stream",
     "text": [
      "start at <call method=\"ossfuzz.LoggingInterceptorFuzzer.fuzzerTestOneInput(com.code_intelligence.jazzer.api.FuzzedDataProvider)\" location=\"ossfuzz.LoggingInterceptorFuzzer:74\" ordinal=\"0\">\n",
      "\n"
     ]
    },
    {
     "name": "stderr",
     "output_type": "stream",
     "text": [
      "\n"
     ]
    },
    {
     "data": {
      "text/plain": [
       "PosixPath('/home/benjis/code/bug-benchmarks/oss-fuzz/processed_xml_debug/trace-okhttp-LoggingInterceptorFuzzer.xml.repair.xml')"
      ]
     },
     "execution_count": 12,
     "metadata": {},
     "output_type": "execute_result"
    }
   ],
   "source": [
    "import tqdm as tqdm\n",
    "import re\n",
    "from pathlib import Path\n",
    "\n",
    "fuzzer_start = re.compile(r'''<call[^>]*method=\"[^(\"]+.fuzzerTestOneInput\\([^)]+\\)\"[^>]*''')\n",
    "fuzzer_almost_end = re.compile(r'''<tracepoint[^>]+>''')\n",
    "method_re = re.compile(r'''method=\"[^(\"]+.fuzzerTestOneInput\\([^)]+\\)\"''')\n",
    "exit_re = re.compile(r'''type=\"exit\"''')\n",
    "fuzzer_real_end = re.compile(r'''</call>''')\n",
    "\n",
    "\n",
    "from xml.dom import minidom\n",
    "from xml.parsers.expat import ExpatError\n",
    "\n",
    "def prettify(rough_string):\n",
    "    \"\"\"Return a pretty-printed XML string for the Element.\n",
    "    \"\"\"\n",
    "    reparsed = minidom.parseString(rough_string)\n",
    "    \n",
    "    return reparsed.toprettyxml(indent=\"  \")\n",
    "\n",
    "def recover_functions(fpath, dstdir):\n",
    "    with open(fpath) as f:\n",
    "        num_lines = sum(1 for line in tqdm.tqdm(f, desc=f\"count lines ({fpath.name})\"))\n",
    "    with open(fpath) as f:\n",
    "        it = iter(f)\n",
    "        repair_path = dstdir/(str(fpath.name) + \".repair.xml\")\n",
    "        failed_functions = 0\n",
    "        all_functions = 0\n",
    "        with open(repair_path, \"w\") as outf:\n",
    "            with tqdm.tqdm(it, total=num_lines, desc=f\"deconstruct into fuzzer target calls ({fpath.name})\") as pbar:\n",
    "                it = iter(pbar)\n",
    "                fuzz_functions = []\n",
    "                current_fuzz_function = None\n",
    "                try:\n",
    "                    outf.write(next(it))\n",
    "                    while True:\n",
    "                        line = next(it)\n",
    "                        if fuzzer_start.search(line):\n",
    "                            print(\"start at\", line)\n",
    "                            # start fuzzed function\n",
    "                            current_fuzz_function = []\n",
    "                        if current_fuzz_function is not None:\n",
    "                            current_fuzz_function.append(line)\n",
    "                        m = fuzzer_almost_end.search(line)\n",
    "                        if m:\n",
    "                            tag = m.group(0)\n",
    "                            if method_re.search(tag) and exit_re.search(tag):\n",
    "                                print(\"end at\", line)\n",
    "                                while True:\n",
    "                                    line = next(it)\n",
    "                                    print(\"search end\", line)\n",
    "                                    current_fuzz_function.append(line)\n",
    "                                    if fuzzer_real_end.search(line):\n",
    "                                        # cap off fuzzed function\n",
    "                                        print(\"end\", line)\n",
    "                                        all_functions += 1\n",
    "                                        try:\n",
    "                                            func_xml = \"\".join(current_fuzz_function)\n",
    "                                            # ET.fromstring(func_xml)\n",
    "                                            print(func_xml)\n",
    "                                            func_xml = \"\".join(prettify(func_xml).splitlines(keepends=True)[1:])\n",
    "                                            outf.write(func_xml + \"\\n\")\n",
    "                                        except (ExpatError, ET.ParseError):\n",
    "                                            failed_functions += 1\n",
    "                                        pbar.set_postfix({\"all\": all_functions, \"failed\": failed_functions})\n",
    "                                        break\n",
    "                except StopIteration:\n",
    "                    pass\n",
    "            outf.write(\"</trace>\")\n",
    "\n",
    "        return repair_path\n",
    "\n",
    "recover_functions(Path(\"/home/benjis/code/bug-benchmarks/oss-fuzz/traces-10m/logs-xmls/trace-okhttp-LoggingInterceptorFuzzer.xml\"), Path(\"/home/benjis/code/bug-benchmarks/oss-fuzz/processed_xml_debug\"))"
   ]
  },
  {
   "cell_type": "code",
   "execution_count": null,
   "metadata": {},
   "outputs": [],
   "source": [
    "\n",
    "import tqdm\n",
    "successes_3 = []\n",
    "failed_3 = []\n",
    "with tqdm.tqdm(failed_2, position=1, desc=\"round 3\") as pbar:\n",
    "    for fpath in pbar:\n",
    "        repair_path = recover_functions(fpath, dstdir)\n",
    "        try:\n",
    "            it = ET.iterparse(repair_path)\n",
    "            for tag in tqdm.tqdm(it, desc=f\"check XML parse ({fpath.name})\"):\n",
    "                pass\n",
    "            successes_3.append(repair_path)\n",
    "        except ET.ParseError as ex:\n",
    "            print(\"exception\", type(ex), ex, \"parsing\", fpath)\n",
    "            failed_3.append(repair_path)\n",
    "        pbar.set_postfix({\n",
    "            \"success\": len(successes_3),\n",
    "            \"failed\": len(failed_3),\n",
    "        })\n",
    "\n",
    "print(\"ROUND 3:\", len(failed_3), \"files failed parsing\")\n",
    "(dstdir/\"1_repair_success_3.txt\").write_text(\"\\n\".join(map(str, successes_3)))\n",
    "failed_3"
   ]
  },
  {
   "cell_type": "code",
   "execution_count": null,
   "metadata": {
    "jupyter": {
     "outputs_hidden": false
    }
   },
   "outputs": [],
   "source": [
    "all_files = successes_1 + successes_2 + successes_3"
   ]
  },
  {
   "cell_type": "code",
   "execution_count": null,
   "metadata": {
    "jupyter": {
     "outputs_hidden": false
    }
   },
   "outputs": [],
   "source": [
    "with open(dstdir/\"1_repair_success_all.txt\", \"w\") as f:\n",
    "    f.write(\"\\n\".join(map(str, all_files)))"
   ]
  }
 ],
 "metadata": {
  "kernelspec": {
   "display_name": "Python 3 (ipykernel)",
   "language": "python",
   "name": "python3"
  },
  "language_info": {
   "codemirror_mode": {
    "name": "ipython",
    "version": 3
   },
   "file_extension": ".py",
   "mimetype": "text/x-python",
   "name": "python",
   "nbconvert_exporter": "python",
   "pygments_lexer": "ipython3",
   "version": "3.11.0 (main, Oct 24 2022, 00:00:00) [GCC 12.2.1 20220819 (Red Hat 12.2.1-2)]"
  },
  "vscode": {
   "interpreter": {
    "hash": "5ede1a196b76944c8f4443c0dcb7a1f7267d958f23434ac7797fa7d09f7c5ffd"
   }
  }
 },
 "nbformat": 4,
 "nbformat_minor": 4
}
