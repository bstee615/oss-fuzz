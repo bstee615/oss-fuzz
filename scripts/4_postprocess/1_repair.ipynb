{
 "cells": [
  {
   "cell_type": "markdown",
   "metadata": {},
   "source": [
    "1. PARSE XML FILES\n",
    "2. TURN INTO TREE\n",
    "3. IF FAILS, PARSE AS MANY OF THE ENTRIES AS POSSIBLE"
   ]
  },
  {
   "cell_type": "code",
   "execution_count": 2,
   "metadata": {},
   "outputs": [
    {
     "name": "stdout",
     "output_type": "stream",
     "text": [
      "185 XML files found, 185 unique. duplicates = []\n"
     ]
    }
   ],
   "source": [
    "import traceback\n",
    "import xml.etree.ElementTree as ET\n",
    "from lxml import etree as ET2\n",
    "from pathlib import Path\n",
    "import re\n",
    "import shutil\n",
    "import os\n",
    "\n",
    "import git\n",
    "\n",
    "repo = git.Repo('.', search_parent_directories=True)\n",
    "os.chdir(repo.working_tree_dir)\n",
    "\n",
    "srcpaths=(\n",
    "    \"first_run_xmls/logs-xmls\",\n",
    ")\n",
    "\n",
    "xmls = []\n",
    "for d in srcpaths:\n",
    "    l = list(Path(d).glob(\"*.xml\"))\n",
    "    l = [p for p in l if \".repair.\" not in p.name]\n",
    "    xmls += l\n",
    "print(len(xmls), \"XML files found,\", len(set([f.name for f in xmls])), \"unique. duplicates =\", [f for f in xmls if [g.name for g in xmls].count(f.name) > 1])"
   ]
  },
  {
   "cell_type": "code",
   "execution_count": 6,
   "metadata": {},
   "outputs": [],
   "source": [
    "dstdir=Path(\"postprocessed-xmls-lxml\")"
   ]
  },
  {
   "cell_type": "code",
   "execution_count": 7,
   "metadata": {},
   "outputs": [],
   "source": [
    "if dstdir.exists():\n",
    "    shutil.rmtree(dstdir)\n",
    "dstdir.mkdir(exist_ok=True)"
   ]
  },
  {
   "cell_type": "code",
   "execution_count": 15,
   "metadata": {},
   "outputs": [
    {
     "name": "stderr",
     "output_type": "stream",
     "text": [
      "  0%|          | 0/185 [00:08<?, ?it/s]\n"
     ]
    },
    {
     "ename": "KeyboardInterrupt",
     "evalue": "",
     "output_type": "error",
     "traceback": [
      "\u001b[0;31m---------------------------------------------------------------------------\u001b[0m",
      "\u001b[0;31mKeyboardInterrupt\u001b[0m                         Traceback (most recent call last)",
      "Cell \u001b[0;32mIn[15], line 19\u001b[0m\n\u001b[1;32m     17\u001b[0m         \u001b[39mif\u001b[39;00m c\u001b[39m.\u001b[39mtag \u001b[39m==\u001b[39m \u001b[39m\"\u001b[39m\u001b[39mcall\u001b[39m\u001b[39m\"\u001b[39m:\n\u001b[1;32m     18\u001b[0m             n\u001b[39m.\u001b[39mremove(c)\n\u001b[0;32m---> 19\u001b[0m     \u001b[39mprint\u001b[39m(ET\u001b[39m.\u001b[39;49mtostring(n), file\u001b[39m=\u001b[39mof)\n\u001b[1;32m     20\u001b[0m     \u001b[39mdel\u001b[39;00m n\n\u001b[1;32m     21\u001b[0m successes_1\u001b[39m.\u001b[39mappend(fpath)\n",
      "File \u001b[0;32m/usr/lib64/python3.11/xml/etree/ElementTree.py:1098\u001b[0m, in \u001b[0;36mtostring\u001b[0;34m(element, encoding, method, xml_declaration, default_namespace, short_empty_elements)\u001b[0m\n\u001b[1;32m   1084\u001b[0m \u001b[39m\"\"\"Generate string representation of XML element.\u001b[39;00m\n\u001b[1;32m   1085\u001b[0m \n\u001b[1;32m   1086\u001b[0m \u001b[39mAll subelements are included.  If encoding is \"unicode\", a string\u001b[39;00m\n\u001b[0;32m   (...)\u001b[0m\n\u001b[1;32m   1095\u001b[0m \n\u001b[1;32m   1096\u001b[0m \u001b[39m\"\"\"\u001b[39;00m\n\u001b[1;32m   1097\u001b[0m stream \u001b[39m=\u001b[39m io\u001b[39m.\u001b[39mStringIO() \u001b[39mif\u001b[39;00m encoding \u001b[39m==\u001b[39m \u001b[39m'\u001b[39m\u001b[39municode\u001b[39m\u001b[39m'\u001b[39m \u001b[39melse\u001b[39;00m io\u001b[39m.\u001b[39mBytesIO()\n\u001b[0;32m-> 1098\u001b[0m ElementTree(element)\u001b[39m.\u001b[39;49mwrite(stream, encoding,\n\u001b[1;32m   1099\u001b[0m                            xml_declaration\u001b[39m=\u001b[39;49mxml_declaration,\n\u001b[1;32m   1100\u001b[0m                            default_namespace\u001b[39m=\u001b[39;49mdefault_namespace,\n\u001b[1;32m   1101\u001b[0m                            method\u001b[39m=\u001b[39;49mmethod,\n\u001b[1;32m   1102\u001b[0m                            short_empty_elements\u001b[39m=\u001b[39;49mshort_empty_elements)\n\u001b[1;32m   1103\u001b[0m \u001b[39mreturn\u001b[39;00m stream\u001b[39m.\u001b[39mgetvalue()\n",
      "File \u001b[0;32m/usr/lib64/python3.11/xml/etree/ElementTree.py:743\u001b[0m, in \u001b[0;36mElementTree.write\u001b[0;34m(self, file_or_filename, encoding, xml_declaration, default_namespace, method, short_empty_elements)\u001b[0m\n\u001b[1;32m    741\u001b[0m qnames, namespaces \u001b[39m=\u001b[39m _namespaces(\u001b[39mself\u001b[39m\u001b[39m.\u001b[39m_root, default_namespace)\n\u001b[1;32m    742\u001b[0m serialize \u001b[39m=\u001b[39m _serialize[method]\n\u001b[0;32m--> 743\u001b[0m serialize(write, \u001b[39mself\u001b[39;49m\u001b[39m.\u001b[39;49m_root, qnames, namespaces,\n\u001b[1;32m    744\u001b[0m           short_empty_elements\u001b[39m=\u001b[39;49mshort_empty_elements)\n",
      "File \u001b[0;32m/usr/lib64/python3.11/xml/etree/ElementTree.py:906\u001b[0m, in \u001b[0;36m_serialize_xml\u001b[0;34m(write, elem, qnames, namespaces, short_empty_elements, **kwargs)\u001b[0m\n\u001b[1;32m    904\u001b[0m         write(_escape_cdata(text))\n\u001b[1;32m    905\u001b[0m     \u001b[39mfor\u001b[39;00m e \u001b[39min\u001b[39;00m elem:\n\u001b[0;32m--> 906\u001b[0m         _serialize_xml(write, e, qnames, \u001b[39mNone\u001b[39;49;00m,\n\u001b[1;32m    907\u001b[0m                        short_empty_elements\u001b[39m=\u001b[39;49mshort_empty_elements)\n\u001b[1;32m    908\u001b[0m     write(\u001b[39m\"\u001b[39m\u001b[39m</\u001b[39m\u001b[39m\"\u001b[39m \u001b[39m+\u001b[39m tag \u001b[39m+\u001b[39m \u001b[39m\"\u001b[39m\u001b[39m>\u001b[39m\u001b[39m\"\u001b[39m)\n\u001b[1;32m    909\u001b[0m \u001b[39melse\u001b[39;00m:\n",
      "File \u001b[0;32m/usr/lib64/python3.11/xml/etree/ElementTree.py:906\u001b[0m, in \u001b[0;36m_serialize_xml\u001b[0;34m(write, elem, qnames, namespaces, short_empty_elements, **kwargs)\u001b[0m\n\u001b[1;32m    904\u001b[0m         write(_escape_cdata(text))\n\u001b[1;32m    905\u001b[0m     \u001b[39mfor\u001b[39;00m e \u001b[39min\u001b[39;00m elem:\n\u001b[0;32m--> 906\u001b[0m         _serialize_xml(write, e, qnames, \u001b[39mNone\u001b[39;49;00m,\n\u001b[1;32m    907\u001b[0m                        short_empty_elements\u001b[39m=\u001b[39;49mshort_empty_elements)\n\u001b[1;32m    908\u001b[0m     write(\u001b[39m\"\u001b[39m\u001b[39m</\u001b[39m\u001b[39m\"\u001b[39m \u001b[39m+\u001b[39m tag \u001b[39m+\u001b[39m \u001b[39m\"\u001b[39m\u001b[39m>\u001b[39m\u001b[39m\"\u001b[39m)\n\u001b[1;32m    909\u001b[0m \u001b[39melse\u001b[39;00m:\n",
      "File \u001b[0;32m/usr/lib64/python3.11/xml/etree/ElementTree.py:900\u001b[0m, in \u001b[0;36m_serialize_xml\u001b[0;34m(write, elem, qnames, namespaces, short_empty_elements, **kwargs)\u001b[0m\n\u001b[1;32m    898\u001b[0m         \u001b[39melse\u001b[39;00m:\n\u001b[1;32m    899\u001b[0m             v \u001b[39m=\u001b[39m _escape_attrib(v)\n\u001b[0;32m--> 900\u001b[0m         write(\u001b[39m\"\u001b[39m\u001b[39m \u001b[39m\u001b[39m%s\u001b[39;00m\u001b[39m=\u001b[39m\u001b[39m\\\"\u001b[39;00m\u001b[39m%s\u001b[39;00m\u001b[39m\\\"\u001b[39;00m\u001b[39m\"\u001b[39m \u001b[39m%\u001b[39m (qnames[k], v))\n\u001b[1;32m    901\u001b[0m \u001b[39mif\u001b[39;00m text \u001b[39mor\u001b[39;00m \u001b[39mlen\u001b[39m(elem) \u001b[39mor\u001b[39;00m \u001b[39mnot\u001b[39;00m short_empty_elements:\n\u001b[1;32m    902\u001b[0m     write(\u001b[39m\"\u001b[39m\u001b[39m>\u001b[39m\u001b[39m\"\u001b[39m)\n",
      "\u001b[0;31mKeyboardInterrupt\u001b[0m: "
     ]
    }
   ],
   "source": [
    "import tqdm as tqdm\n",
    "import copy\n",
    "from multiprocessing import Pool\n",
    "\n",
    "def convert_file(fpath, dstdir):\n",
    "    with open(dstdir/fpath.name, \"w\") as of:\n",
    "        print(\"<repaired-trace>\", file=of)\n",
    "        try:\n",
    "            it = ET2.iterparse(fpath)\n",
    "            it = (n for _, n in it if n.tag == \"call\")\n",
    "            for n in it:\n",
    "                n = copy.deepcopy(n)\n",
    "                n.attrib[\"xml\"] = str(fpath)\n",
    "                for c in n:\n",
    "                    if c.tag == \"call\":\n",
    "                        n.remove(c)\n",
    "                print(ET2.tostring(n), file=of)\n",
    "                del n\n",
    "            return \"success\"\n",
    "        except ET.ParseError as ex:\n",
    "            return \"failure\"\n",
    "        except ET2.XMLSyntaxError as ex:\n",
    "            return \"failure\"\n",
    "        finally:\n",
    "            print(\"</repaired-trace>\", file=of)\n",
    "\n",
    "successes_1 = []\n",
    "failed_1 = []\n",
    "with Pool(8) as pool:\n",
    "    with tqdm.tqdm(pool.imap(convert_file, xmls, dstdir=dstdir)) as pbar:\n",
    "        for fpath in pbar:\n",
    "            successes_1.append(fpath)\n",
    "            failed_1.append(fpath)\n",
    "            pbar.set_postfix({\n",
    "                \"success\": len(successes_1),\n",
    "                \"failed\": len(failed_1),\n",
    "            })\n",
    "\n",
    "print(\"ROUND 1:\", len(failed_1), \"files failed parsing\")\n",
    "(dstdir/\"1_repair_success_1.txt\").write_text(\"\\n\".join(map(str, successes_1)))"
   ]
  }
 ],
 "metadata": {
  "kernelspec": {
   "display_name": "Python 3 (ipykernel)",
   "language": "python",
   "name": "python3"
  },
  "language_info": {
   "codemirror_mode": {
    "name": "ipython",
    "version": 3
   },
   "file_extension": ".py",
   "mimetype": "text/x-python",
   "name": "python",
   "nbconvert_exporter": "python",
   "pygments_lexer": "ipython3",
   "version": "3.11.0"
  },
  "vscode": {
   "interpreter": {
    "hash": "5ede1a196b76944c8f4443c0dcb7a1f7267d958f23434ac7797fa7d09f7c5ffd"
   }
  }
 },
 "nbformat": 4,
 "nbformat_minor": 4
}
