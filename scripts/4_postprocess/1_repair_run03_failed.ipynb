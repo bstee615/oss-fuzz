{
 "cells": [
  {
   "cell_type": "markdown",
   "metadata": {},
   "source": [
    "1. PARSE XML FILES\n",
    "2. TURN INTO TREE\n",
    "3. IF FAILS, PARSE AS MANY OF THE ENTRIES AS POSSIBLE"
   ]
  },
  {
   "cell_type": "code",
   "execution_count": 4,
   "metadata": {},
   "outputs": [
    {
     "name": "stdout",
     "output_type": "stream",
     "text": [
      "178 XML files found, 178 unique. duplicates = []\n"
     ]
    }
   ],
   "source": [
    "import traceback\n",
    "import xml.etree.ElementTree as ET\n",
    "from pathlib import Path\n",
    "import re\n",
    "import shutil\n",
    "import os\n",
    "\n",
    "import git\n",
    "\n",
    "repo = git.Repo('.', search_parent_directories=True)\n",
    "os.chdir(repo.working_tree_dir)\n",
    "\n",
    "srcpaths=(\n",
    "    \"/run/media/benjis/basilisk/Files/biggie/oss-fuzz/fuzz_10m_trace_3h/trace_run_3_success_3h/traces-10m/logs-xmls\",\n",
    ")\n",
    "\n",
    "xmls = []\n",
    "for d in srcpaths:\n",
    "    l = list(Path(d).glob(\"*.xml\"))\n",
    "    l = [p for p in l if \".repair.\" not in p.name]\n",
    "    xmls += l\n",
    "print(len(xmls), \"XML files found,\", len(set([f.name for f in xmls])), \"unique. duplicates =\", [f for f in xmls if [g.name for g in xmls].count(f.name) > 1])"
   ]
  },
  {
   "cell_type": "code",
   "execution_count": 5,
   "metadata": {},
   "outputs": [],
   "source": [
    "dstdir=Path(\"postprocessed_xmls\")"
   ]
  },
  {
   "cell_type": "code",
   "execution_count": 19,
   "metadata": {},
   "outputs": [],
   "source": [
    "if dstdir.exists():\n",
    "    shutil.rmtree(dstdir)\n",
    "dstdir.mkdir(exist_ok=True)"
   ]
  },
  {
   "cell_type": "code",
   "execution_count": 20,
   "metadata": {},
   "outputs": [
    {
     "name": "stderr",
     "output_type": "stream",
     "text": [
      "100%|██████████████████████████████████████████████████████████████████████████████████████████████████████████████████████████████████████| 178/178 [1:20:47<00:00, 27.24s/it]\n"
     ]
    },
    {
     "name": "stdout",
     "output_type": "stream",
     "text": [
      "ROUND 1: 150 files failed parsing\n"
     ]
    },
    {
     "data": {
      "text/plain": [
       "4367"
      ]
     },
     "execution_count": 20,
     "metadata": {},
     "output_type": "execute_result"
    }
   ],
   "source": [
    "import tqdm as tqdm\n",
    "\n",
    "successes_1 = []\n",
    "failed_1 = []\n",
    "for fpath in tqdm.tqdm(xmls):\n",
    "    try:\n",
    "        it = ET.iterparse(fpath)\n",
    "        for tag in it:\n",
    "            pass\n",
    "        successes_1.append(fpath)\n",
    "        shutil.copyfile(fpath, dstdir/fpath.name)\n",
    "    except ET.ParseError as ex:\n",
    "        failed_1.append(fpath)\n",
    "\n",
    "print(\"ROUND 1:\", len(failed_1), \"files failed parsing\")\n",
    "(dstdir/\"1_repair_success_1.txt\").write_text(\"\\n\".join(map(str, successes_1)))"
   ]
  },
  {
   "cell_type": "code",
   "execution_count": 10,
   "metadata": {},
   "outputs": [
    {
     "data": {
      "text/plain": [
       "PosixPath('postprocessed_xmls_debug/trace-apache-commons-cli-ParserFuzzer.xml.repair.xml')"
      ]
     },
     "execution_count": 10,
     "metadata": {},
     "output_type": "execute_result"
    }
   ],
   "source": [
    "import tqdm as tqdm\n",
    "\n",
    "fuzzer_start = re.compile(r'''<call[^>]*method=\"[^(\"]+.fuzzerTestOneInput\\([^)]+\\)\"[^>]*''')\n",
    "\n",
    "from xml.dom import minidom\n",
    "from xml.parsers.expat import ExpatError\n",
    "\n",
    "def recover_functions_simple(fpath, dstdir):\n",
    "    repair_path = dstdir/(str(fpath.name) + \".repair.xml\")\n",
    "    if repair_path.exists():\n",
    "        return repair_path\n",
    "    \n",
    "#     with open(fpath) as f:\n",
    "#         num_lines = sum(1 for line in tqdm.tqdm(f, desc=f\"count lines ({fpath.name})\"))\n",
    "    last_fuzzer_start = None\n",
    "    with open(fpath) as f:\n",
    "        i = 0\n",
    "        it = iter(f)\n",
    "        failed_functions = 0\n",
    "        all_functions = 0\n",
    "        with tqdm.tqdm(it, total=None, desc=f\"chop final fuzzer target call ({fpath.name})\") as pbar:\n",
    "            it = pbar\n",
    "            fuzz_functions = []\n",
    "            current_fuzz_function = None\n",
    "            for i, line in enumerate(it):\n",
    "                m = fuzzer_start.search(line)\n",
    "                if m is not None:\n",
    "#                     print(\"MATCH\", m, m.start(), m.span())\n",
    "                    j = m.start()\n",
    "                    last_fuzzer_start = (i, j)\n",
    "#     print(\"LFS\", last_fuzzer_start)\n",
    "    if last_fuzzer_start is None:\n",
    "        print(\"ERROR: last_fuzzer_start is None\", fpath)\n",
    "        return None\n",
    "    \n",
    "    with open(fpath) as f, open(repair_path, \"w\") as outf:\n",
    "        it = iter(f)\n",
    "        with tqdm.tqdm(it, total=last_fuzzer_start[0], desc=f\"write file ({fpath.name})\") as pbar:\n",
    "            it = pbar\n",
    "            for i, line in enumerate(it):\n",
    "#                 print(i)\n",
    "                if i == last_fuzzer_start[0]:\n",
    "#                     print(\"LINE:\")\n",
    "#                     print(line)\n",
    "                    line_chopped = line[:last_fuzzer_start[1]]\n",
    "#                     print(\"CHOPPED:\")\n",
    "#                     print(line_chopped)\n",
    "                    outf.write(line_chopped)\n",
    "                    break\n",
    "                else:\n",
    "                    outf.write(line)\n",
    "            outf.write(\"</trace>\")\n",
    "        \n",
    "    return repair_path\n",
    "\n",
    "xml_file = Path(\"/run/media/benjis/basilisk/Files/biggie/oss-fuzz/fuzz_10m_trace_3h/trace_run_3_success_3h/traces-10m/logs-xmls\")/\"trace-apache-commons-cli-ParserFuzzer.xml\"\n",
    "recover_functions_simple(xml_file, Path(\"postprocessed_xmls_debug\"))"
   ]
  },
  {
   "cell_type": "code",
   "execution_count": null,
   "metadata": {},
   "outputs": [
    {
     "name": "stdout",
     "output_type": "stream",
     "text": [
      "/run/media/benjis/basilisk/Files/biggie/oss-fuzz/fuzz_10m_trace_3h/trace_run_3_success_3h/traces-10m/logs-xmls/trace-apache-commons-cli-ParserFuzzer.xml -> postprocessed_xmls_debug/trace-apache-commons-cli-ParserFuzzer.xml.repair.xml\n"
     ]
    },
    {
     "name": "stderr",
     "output_type": "stream",
     "text": [
      "check XML parse (trace-apache-commons-cli-ParserFuzzer.xml): 1898417it [00:17, 155880.30it/s]"
     ]
    }
   ],
   "source": [
    "fpath = Path(\"/run/media/benjis/basilisk/Files/biggie/oss-fuzz/fuzz_10m_trace_3h/trace_run_3_success_3h/traces-10m/logs-xmls\")/\"trace-apache-commons-cli-ParserFuzzer.xml\"\n",
    "repair_path = recover_functions_simple(fpath, Path(\"postprocessed_xmls_debug\"))\n",
    "print(fpath, \"->\", repair_path)\n",
    "it = ET.iterparse(repair_path)\n",
    "for tag in tqdm.tqdm(it, desc=f\"check XML parse ({fpath.name})\"):\n",
    "    pass"
   ]
  },
  {
   "cell_type": "code",
   "execution_count": 8,
   "metadata": {},
   "outputs": [
    {
     "data": {
      "text/plain": [
       "(28, 150)"
      ]
     },
     "execution_count": 8,
     "metadata": {},
     "output_type": "execute_result"
    }
   ],
   "source": [
    "successes_1 = list(map(Path, (dstdir/\"1_repair_success_1.txt\").read_text().split(\"\\n\")))\n",
    "failed_1 = [fpath for fpath in xmls if fpath.name not in [s.name for s in successes_1]]\n",
    "len(successes_1), len(failed_1)"
   ]
  },
  {
   "cell_type": "code",
   "execution_count": 9,
   "metadata": {},
   "outputs": [
    {
     "name": "stderr",
     "output_type": "stream",
     "text": [
      "\n",
      "chop final fuzzer target call (trace-jackson-dataformat-xml-XmlFuzzer.xml): 40372it [00:00, 248527.45it/s]                                             | 0/150 [00:00<?, ?it/s]\u001b[A\n",
      "write file (trace-jackson-dataformat-xml-XmlFuzzer.xml): 100%|█████████████████████████████████████████████████████████████████████████████████| 1/1 [00:00<00:00, 7219.11it/s]\n",
      "check XML parse (trace-jackson-dataformat-xml-XmlFuzzer.xml): 1it [00:00, 4048.56it/s]\n",
      "\n",
      "chop final fuzzer target call (trace-apache-commons-bcel-BcelFuzzer.xml): 83662it [00:00, 407728.59it/s]                                       | 1/150 [00:00<01:10,  2.12it/s]\u001b[A\n",
      "write file (trace-apache-commons-bcel-BcelFuzzer.xml): 100%|█████████████████████████████████████████████████████████████████████████| 83212/83212 [00:00<00:00, 805007.01it/s]\n",
      "check XML parse (trace-apache-commons-bcel-BcelFuzzer.xml): 81623it [00:00, 184098.44it/s]\n",
      "\n",
      "chop final fuzzer target call (trace-apache-commons-beanutils-BeanutilsFuzzer.xml): 5651425it [00:13, 412016.00it/s]                           | 2/150 [00:01<01:38,  1.51it/s]\u001b[A\n",
      "write file (trace-apache-commons-beanutils-BeanutilsFuzzer.xml): 100%|██████████████████████████████████████████████████████████| 5649710/5649710 [00:04<00:00, 1188462.54it/s]\n",
      "check XML parse (trace-apache-commons-beanutils-BeanutilsFuzzer.xml): 5569750it [00:43, 128437.46it/s]\n",
      "\n",
      "chop final fuzzer target call (trace-apache-commons-cli-ParserFuzzer.xml): 3756964it [00:02, 1765939.32it/s]                                 | 3/150 [01:03<1:10:05, 28.61s/it]\u001b[A\n",
      "write file (trace-apache-commons-cli-ParserFuzzer.xml): 100%|███████████████████████████████████████████████████████████████████| 3751874/3751874 [00:02<00:00, 1264927.20it/s]\n",
      "check XML parse (trace-apache-commons-cli-ParserFuzzer.xml): 3530913it [00:29, 118943.13it/s]\n",
      "\n",
      "round 2:   3%|███▍                                                                                                                           | 4/150 [01:37<1:15:33, 31.05s/it]\u001b[A"
     ]
    },
    {
     "name": "stdout",
     "output_type": "stream",
     "text": [
      "exception <class 'xml.etree.ElementTree.ParseError'> mismatched tag: line 3751875, column 2 parsing /run/media/benjis/basilisk/Files/biggie/oss-fuzz/fuzz_10m_trace_3h/trace_run_3_success_3h/traces-10m/logs-xmls/trace-apache-commons-cli-ParserFuzzer.xml postprocessed_xmls/trace-apache-commons-cli-ParserFuzzer.xml.repair.xml\n"
     ]
    },
    {
     "name": "stderr",
     "output_type": "stream",
     "text": [
      "chop final fuzzer target call (trace-apache-commons-codec-BinaryEncodingFuzzer.xml): 3744975it [00:10, 346069.65it/s]\n",
      "write file (trace-apache-commons-codec-BinaryEncodingFuzzer.xml): 100%|█████████████████████████████████████████████████████████| 3710705/3710705 [00:03<00:00, 1064691.17it/s]\n",
      "check XML parse (trace-apache-commons-codec-BinaryEncodingFuzzer.xml): 3796845it [00:27, 138965.04it/s]\n",
      "\n",
      "chop final fuzzer target call (trace-apache-commons-collections-CollectionsBidiMapFuzzer.xml): 14it [00:00, 362.07it/s]                      | 5/150 [02:19<1:24:31, 34.98s/it]\u001b[A\n",
      "write file (trace-apache-commons-collections-CollectionsBidiMapFuzzer.xml): 100%|██████████████████████████████████████████████████████████████| 1/1 [00:00<00:00, 3830.41it/s]\n",
      "check XML parse (trace-apache-commons-collections-CollectionsBidiMapFuzzer.xml): 1it [00:01,  1.05s/it]\n",
      "\n",
      "chop final fuzzer target call (trace-apache-commons-CompressSevenZFuzzer.xml): 881221it [00:02, 407108.50it/s]                                 | 6/150 [02:21<56:33, 23.56s/it]\u001b[A\n",
      "write file (trace-apache-commons-CompressSevenZFuzzer.xml): 100%|█████████████████████████████████████████████████████████████████| 870251/870251 [00:00<00:00, 1109655.43it/s]\n",
      "check XML parse (trace-apache-commons-CompressSevenZFuzzer.xml): 846973it [00:04, 190624.93it/s]\n",
      "\n",
      "chop final fuzzer target call (trace-apache-commons-CompressTarFuzzer.xml): 4705799it [00:13, 361812.49it/s]                                   | 7/150 [02:28<43:35, 18.29s/it]\u001b[A\n",
      "write file (trace-apache-commons-CompressTarFuzzer.xml): 100%|███████████████████████████████████████████████████████████████████| 4666419/4666419 [00:04<00:00, 954406.23it/s]\n",
      "check XML parse (trace-apache-commons-CompressTarFuzzer.xml): 4873660it [00:34, 141672.50it/s]\n",
      "\n",
      "round 2:   5%|██████▊                                                                                                                        | 8/150 [03:21<1:08:57, 29.14s/it]\u001b[A"
     ]
    },
    {
     "name": "stdout",
     "output_type": "stream",
     "text": [
      "exception <class 'xml.etree.ElementTree.ParseError'> mismatched tag: line 4666420, column 2 parsing /run/media/benjis/basilisk/Files/biggie/oss-fuzz/fuzz_10m_trace_3h/trace_run_3_success_3h/traces-10m/logs-xmls/trace-apache-commons-CompressTarFuzzer.xml postprocessed_xmls/trace-apache-commons-CompressTarFuzzer.xml.repair.xml\n"
     ]
    },
    {
     "name": "stderr",
     "output_type": "stream",
     "text": [
      "chop final fuzzer target call (trace-apache-commons-CompressZipFuzzer.xml): 4267637it [00:10, 400933.18it/s]\n",
      "write file (trace-apache-commons-CompressZipFuzzer.xml): 100%|██████████████████████████████████████████████████████████████████| 4250755/4250755 [00:03<00:00, 1136968.28it/s]\n",
      "check XML parse (trace-apache-commons-CompressZipFuzzer.xml): 4260591it [00:32, 130518.39it/s]\n",
      "\n",
      "chop final fuzzer target call (trace-apache-commons-configuration-INIConfigurationWriteFuzzer.xml): 42805it [00:00, 267027.36it/s]           | 9/150 [04:08<1:21:51, 34.83s/it]\u001b[A\n",
      "write file (trace-apache-commons-configuration-INIConfigurationWriteFuzzer.xml): 100%|███████████████████████████████████████████████| 20055/20055 [00:00<00:00, 440420.37it/s]\n",
      "check XML parse (trace-apache-commons-configuration-INIConfigurationWriteFuzzer.xml): 18380it [00:01, 15225.79it/s]\n",
      "\n",
      "round 2:   7%|████████▌                                                                                                                       | 10/150 [04:10<57:25, 24.61s/it]\u001b[A"
     ]
    },
    {
     "name": "stdout",
     "output_type": "stream",
     "text": [
      "exception <class 'xml.etree.ElementTree.ParseError'> mismatched tag: line 20056, column 2 parsing /run/media/benjis/basilisk/Files/biggie/oss-fuzz/fuzz_10m_trace_3h/trace_run_3_success_3h/traces-10m/logs-xmls/trace-apache-commons-configuration-INIConfigurationWriteFuzzer.xml postprocessed_xmls/trace-apache-commons-configuration-INIConfigurationWriteFuzzer.xml.repair.xml\n"
     ]
    },
    {
     "name": "stderr",
     "output_type": "stream",
     "text": [
      "chop final fuzzer target call (trace-apache-commons-configuration-JSONConfigurationReadFuzzer.xml): 9675it [00:00, 74127.32it/s]\n",
      "write file (trace-apache-commons-configuration-JSONConfigurationReadFuzzer.xml): 100%|█████████████████████████████████████████████████████████| 1/1 [00:00<00:00, 6721.64it/s]\n",
      "check XML parse (trace-apache-commons-configuration-JSONConfigurationReadFuzzer.xml): 1it [00:00, 2646.25it/s]\n",
      "\n",
      "chop final fuzzer target call (trace-apache-commons-configuration-JSONConfigurationWriteFuzzer.xml): 9675it [00:00, 218152.69it/s]            | 11/150 [04:10<39:40, 17.13s/it]\u001b[A\n",
      "write file (trace-apache-commons-configuration-JSONConfigurationWriteFuzzer.xml): 100%|████████████████████████████████████████████████████████| 1/1 [00:00<00:00, 5440.08it/s]\n",
      "check XML parse (trace-apache-commons-configuration-JSONConfigurationWriteFuzzer.xml): 1it [00:00, 3492.34it/s]\n",
      "chop final fuzzer target call (trace-apache-commons-configuration-XMLConfigurationLoadFuzzer.xml): 9750it [00:00, 231715.06it/s]\n",
      "write file (trace-apache-commons-configuration-XMLConfigurationLoadFuzzer.xml): 100%|██████████████████████████████████████████████████████████| 1/1 [00:00<00:00, 9576.04it/s]\n",
      "check XML parse (trace-apache-commons-configuration-XMLConfigurationLoadFuzzer.xml): 1it [00:00, 916.39it/s]\n",
      "\n",
      "chop final fuzzer target call (trace-apache-commons-configuration-XMLConfigurationWriteFuzzer.xml): 9750it [00:00, 192081.16it/s]             | 13/150 [04:10<20:55,  9.16s/it]\u001b[A\n",
      "write file (trace-apache-commons-configuration-XMLConfigurationWriteFuzzer.xml): 100%|█████████████████████████████████████████████████████████| 1/1 [00:00<00:00, 6820.01it/s]\n",
      "check XML parse (trace-apache-commons-configuration-XMLConfigurationWriteFuzzer.xml): 1it [00:00, 2483.31it/s]\n",
      "chop final fuzzer target call (trace-apache-commons-configuration-YAMLConfigurationReadFuzzer.xml): 9660it [00:00, 208913.93it/s]\n",
      "write file (trace-apache-commons-configuration-YAMLConfigurationReadFuzzer.xml): 100%|████████████████████████████████████████████████████████| 1/1 [00:00<00:00, 10305.42it/s]\n",
      "check XML parse (trace-apache-commons-configuration-YAMLConfigurationReadFuzzer.xml): 1it [00:00, 3744.91it/s]\n",
      "\n",
      "chop final fuzzer target call (trace-apache-commons-configuration-YAMLConfigurationWriteFuzzer.xml): 9660it [00:00, 206761.46it/s]            | 15/150 [04:10<12:26,  5.53s/it]\u001b[A\n",
      "write file (trace-apache-commons-configuration-YAMLConfigurationWriteFuzzer.xml): 100%|███████████████████████████████████████████████████████| 1/1 [00:00<00:00, 10356.31it/s]\n",
      "check XML parse (trace-apache-commons-configuration-YAMLConfigurationWriteFuzzer.xml): 1it [00:00, 1290.95it/s]\n",
      "chop final fuzzer target call (trace-apache-commons-ImagingGifFuzzer.xml): 467463it [00:01, 442300.82it/s]\n",
      "write file (trace-apache-commons-ImagingGifFuzzer.xml): 100%|█████████████████████████████████████████████████████████████████████| 455020/455020 [00:00<00:00, 1233454.58it/s]\n",
      "check XML parse (trace-apache-commons-ImagingGifFuzzer.xml): 420573it [00:04, 85070.07it/s] \n",
      "\n",
      "chop final fuzzer target call (trace-apache-commons-ImagingJpegFuzzer.xml): 1513047it [00:03, 418823.91it/s]                                  | 17/150 [04:17<10:24,  4.69s/it]\u001b[A\n",
      "write file (trace-apache-commons-ImagingJpegFuzzer.xml): 100%|██████████████████████████████████████████████████████████████████| 1509020/1509020 [00:01<00:00, 1014718.54it/s]\n",
      "check XML parse (trace-apache-commons-ImagingJpegFuzzer.xml): 1444164it [00:10, 136145.41it/s]\n",
      "\n",
      "chop final fuzzer target call (trace-apache-commons-ImagingPngFuzzer.xml): 2532276it [00:05, 433571.70it/s]                                   | 18/150 [04:32<15:19,  6.97s/it]\u001b[A\n",
      "write file (trace-apache-commons-ImagingPngFuzzer.xml): 100%|███████████████████████████████████████████████████████████████████| 2507458/2507458 [00:02<00:00, 1187641.57it/s]\n",
      "check XML parse (trace-apache-commons-ImagingPngFuzzer.xml): 2465311it [00:19, 127249.71it/s]\n",
      "\n",
      "chop final fuzzer target call (trace-apache-commons-ImagingTiffFuzzer.xml): 374644it [00:01, 301973.46it/s]                                   | 19/150 [05:00<25:29, 11.67s/it]\u001b[A\n",
      "write file (trace-apache-commons-ImagingTiffFuzzer.xml): 100%|█████████████████████████████████████████████████████████████████████| 352079/352079 [00:00<00:00, 870328.47it/s]\n",
      "check XML parse (trace-apache-commons-ImagingTiffFuzzer.xml): 337829it [00:02, 129671.58it/s]\n",
      "\n",
      "chop final fuzzer target call (trace-apache-commons-io-InputXmlFuzzer.xml): 6057760it [00:18, 330132.14it/s]                                  | 20/150 [05:04<21:30,  9.93s/it]\u001b[A\n",
      "write file (trace-apache-commons-io-InputXmlFuzzer.xml): 100%|███████████████████████████████████████████████████████████████████| 6040866/6040866 [00:06<00:00, 960178.27it/s]\n",
      "check XML parse (trace-apache-commons-io-InputXmlFuzzer.xml): 5890279it [00:47, 124074.13it/s]\n",
      "\n",
      "chop final fuzzer target call (trace-apache-commons-configuration-INIConfigurationReadFuzzer.xml): 34824it [00:00, 74354.92it/s]              | 21/150 [06:17<56:04, 26.08s/it]\u001b[A\n",
      "write file (trace-apache-commons-configuration-INIConfigurationReadFuzzer.xml): 100%|████████████████████████████████████████████████| 14056/14056 [00:00<00:00, 742227.58it/s]\n",
      "check XML parse (trace-apache-commons-configuration-INIConfigurationReadFuzzer.xml): 12735it [00:01, 7077.34it/s]\n",
      "\n",
      "round 2:  15%|██████████████████▊                                                                                                             | 22/150 [06:19<41:55, 19.65s/it]\u001b[A"
     ]
    },
    {
     "name": "stdout",
     "output_type": "stream",
     "text": [
      "exception <class 'xml.etree.ElementTree.ParseError'> mismatched tag: line 14057, column 2 parsing /run/media/benjis/basilisk/Files/biggie/oss-fuzz/fuzz_10m_trace_3h/trace_run_3_success_3h/traces-10m/logs-xmls/trace-apache-commons-configuration-INIConfigurationReadFuzzer.xml postprocessed_xmls/trace-apache-commons-configuration-INIConfigurationReadFuzzer.xml.repair.xml\n"
     ]
    },
    {
     "name": "stderr",
     "output_type": "stream",
     "text": [
      "chop final fuzzer target call (trace-apache-commons-ImagingBmpFuzzer.xml): 37354it [00:00, 255479.42it/s]\n",
      "write file (trace-apache-commons-ImagingBmpFuzzer.xml): 100%|████████████████████████████████████████████████████████████████████████| 30711/30711 [00:00<00:00, 774357.48it/s]\n",
      "check XML parse (trace-apache-commons-ImagingBmpFuzzer.xml): 28242it [00:00, 189784.53it/s]\n",
      "\n",
      "chop final fuzzer target call (trace-apache-commons-jxpath-JXPathFuzzer.xml): 363459it [00:01, 294102.08it/s]                                 | 23/150 [06:19<30:12, 14.27s/it]\u001b[A\n",
      "write file (trace-apache-commons-jxpath-JXPathFuzzer.xml): 100%|███████████████████████████████████████████████████████████████████████████████| 1/1 [00:00<00:00, 7738.57it/s]\n",
      "check XML parse (trace-apache-commons-jxpath-JXPathFuzzer.xml): 1it [00:00, 69.58it/s]\n",
      "\n",
      "chop final fuzzer target call (trace-bc-java-CMSEnvelopedDataParserFuzzer.xml): 448430it [00:02, 211238.05it/s]                               | 24/150 [06:21<22:11, 10.57s/it]\u001b[A\n",
      "write file (trace-bc-java-CMSEnvelopedDataParserFuzzer.xml): 100%|█████████████████████████████████████████████████████████████████████████████| 1/1 [00:00<00:00, 7943.76it/s]\n",
      "check XML parse (trace-bc-java-CMSEnvelopedDataParserFuzzer.xml): 1it [00:00, 4324.02it/s]\n",
      "\n",
      "chop final fuzzer target call (trace-dom4j-DOMReaderFuzzer.xml): 355335it [00:01, 279992.66it/s]                                              | 25/150 [06:23<16:56,  8.13s/it]\u001b[A\n",
      "write file (trace-dom4j-DOMReaderFuzzer.xml): 100%|████████████████████████████████████████████████████████████████████████████████████████████| 1/1 [00:00<00:00, 5974.79it/s]\n",
      "check XML parse (trace-dom4j-DOMReaderFuzzer.xml): 1it [00:00, 6413.31it/s]\n",
      "\n",
      "chop final fuzzer target call (trace-guava-InetAddressesFuzzer.xml): 3915727it [00:09, 420588.65it/s]                                         | 26/150 [06:24<12:40,  6.13s/it]\u001b[A\n",
      "write file (trace-guava-InetAddressesFuzzer.xml): 100%|█████████████████████████████████████████████████████████████████████████| 3908188/3908188 [00:02<00:00, 1439657.85it/s]\n",
      "check XML parse (trace-guava-InetAddressesFuzzer.xml): 3656240it [00:25, 144342.47it/s]\n",
      "\n",
      "chop final fuzzer target call (trace-h2database-CsvReadFuzzer.xml): 8423941it [00:20, 421187.73it/s]                                          | 27/150 [07:01<31:25, 15.33s/it]\u001b[A\n",
      "write file (trace-h2database-CsvReadFuzzer.xml): 100%|██████████████████████████████████████████████████████████████████████████| 8407642/8407642 [00:07<00:00, 1053985.58it/s]\n",
      "check XML parse (trace-h2database-CsvReadFuzzer.xml): 8107552it [00:57, 140762.78it/s]\n",
      "\n",
      "chop final fuzzer target call (trace-hdrhistogram-LogReaderWriterFuzzer.xml): 4502it [00:00, 13686.95it/s]                                  | 28/150 [08:27<1:13:41, 36.25s/it]\u001b[A\n",
      "write file (trace-hdrhistogram-LogReaderWriterFuzzer.xml): 100%|█████████████████████████████████████████████████████████████████████████| 156/156 [00:00<00:00, 237069.36it/s]\n",
      "check XML parse (trace-hdrhistogram-LogReaderWriterFuzzer.xml): 23it [00:02, 10.83it/s]\n",
      "\n",
      "chop final fuzzer target call (trace-httpcomponents-client-FormBodyPartBuilderBuildFuzzer.xml): 307it [00:00, 5350.66it/s]                    | 29/150 [08:30<52:50, 26.20s/it]\u001b[A\n",
      "write file (trace-httpcomponents-client-FormBodyPartBuilderBuildFuzzer.xml): 100%|█████████████████████████████████████████████████████████████| 1/1 [00:00<00:00, 4583.94it/s]\n",
      "check XML parse (trace-httpcomponents-client-FormBodyPartBuilderBuildFuzzer.xml): 1it [00:00, 925.49it/s]\n",
      "chop final fuzzer target call (trace-jackson-core-DataInputFuzzer.xml): 4329144it [00:11, 389238.89it/s]\n",
      "write file (trace-jackson-core-DataInputFuzzer.xml): 100%|██████████████████████████████████████████████████████████████████████| 4324642/4324642 [00:03<00:00, 1304628.60it/s]\n",
      "check XML parse (trace-jackson-core-DataInputFuzzer.xml): 3590764it [00:29, 120043.78it/s]\n",
      "\n",
      "chop final fuzzer target call (trace-jackson-databind-ConvertValueFuzzer.xml): 35170it [00:00, 75232.68it/s]                                  | 31/150 [09:14<48:20, 24.38s/it]\u001b[A\n",
      "write file (trace-jackson-databind-ConvertValueFuzzer.xml): 100%|██████████████████████████████████████████████████████████████████████████████| 1/1 [00:00<00:00, 6026.30it/s]\n",
      "check XML parse (trace-jackson-databind-ConvertValueFuzzer.xml): 1it [00:01,  1.16s/it]\n",
      "\n",
      "chop final fuzzer target call (trace-apache-commons-lang-EscapeHtmlFuzzer.xml): 2625508it [00:07, 365910.56it/s]                              | 32/150 [09:16<36:53, 18.76s/it]\u001b[A\n",
      "write file (trace-apache-commons-lang-EscapeHtmlFuzzer.xml): 100%|███████████████████████████████████████████████████████████████| 2623312/2623312 [00:03<00:00, 695027.73it/s]\n",
      "check XML parse (trace-apache-commons-lang-EscapeHtmlFuzzer.xml): 2453255it [00:23, 106437.17it/s]\n",
      "\n",
      "chop final fuzzer target call (trace-apache-commons-lang-StringEscapeUtilsFuzzer.xml): 3851083it [00:08, 444418.40it/s]                       | 33/150 [09:50<44:20, 22.74s/it]\u001b[A\n",
      "write file (trace-apache-commons-lang-StringEscapeUtilsFuzzer.xml): 100%|███████████████████████████████████████████████████████| 3850058/3850058 [00:03<00:00, 1067071.47it/s]\n",
      "check XML parse (trace-apache-commons-lang-StringEscapeUtilsFuzzer.xml): 3236537it [00:25, 125358.58it/s]\n",
      "\n",
      "chop final fuzzer target call (trace-apache-felix-dev-JSONParserFuzzer.xml): 945145it [00:02, 398115.73it/s]                                  | 34/150 [10:28<52:01, 26.91s/it]\u001b[A\n",
      "write file (trace-apache-felix-dev-JSONParserFuzzer.xml): 100%|███████████████████████████████████████████████████████████████████| 944992/944992 [00:00<00:00, 1031119.92it/s]\n",
      "check XML parse (trace-apache-felix-dev-JSONParserFuzzer.xml): 710286it [00:07, 92521.93it/s] \n",
      "\n",
      "round 2:  23%|█████████████████████████████▊                                                                                                  | 35/150 [10:39<43:02, 22.46s/it]\u001b[A"
     ]
    },
    {
     "name": "stdout",
     "output_type": "stream",
     "text": [
      "exception <class 'xml.etree.ElementTree.ParseError'> mismatched tag: line 944993, column 2 parsing /run/media/benjis/basilisk/Files/biggie/oss-fuzz/fuzz_10m_trace_3h/trace_run_3_success_3h/traces-10m/logs-xmls/trace-apache-felix-dev-JSONParserFuzzer.xml postprocessed_xmls/trace-apache-felix-dev-JSONParserFuzzer.xml.repair.xml\n"
     ]
    },
    {
     "name": "stderr",
     "output_type": "stream",
     "text": [
      "chop final fuzzer target call (trace-archaius-core-DynamicPropertyFuzzer.xml): 8584it [00:00, 95187.49it/s]\n",
      "write file (trace-archaius-core-DynamicPropertyFuzzer.xml): 100%|██████████████████████████████████████████████████████████████████████████████| 1/1 [00:00<00:00, 3339.41it/s]\n",
      "check XML parse (trace-archaius-core-DynamicPropertyFuzzer.xml): 1it [00:00, 1860.83it/s]\n",
      "\n",
      "chop final fuzzer target call (trace-aspectj-ASTFuzzer.xml): 107140it [00:00, 309259.19it/s]                                                  | 36/150 [10:39<30:42, 16.16s/it]\u001b[A\n",
      "write file (trace-aspectj-ASTFuzzer.xml): 100%|████████████████████████████████████████████████████████████████████████████████████████████| 51/51 [00:00<00:00, 170310.11it/s]\n",
      "check XML parse (trace-aspectj-ASTFuzzer.xml): 48it [00:00, 40418.91it/s]\n",
      "\n",
      "chop final fuzzer target call (trace-bc-java-EncodingFuzzer.xml): 22398561it [01:21, 274460.42it/s]                                           | 37/150 [10:40<21:49, 11.59s/it]\u001b[A\n",
      "write file (trace-bc-java-EncodingFuzzer.xml): 100%|███████████████████████████████████████████████████████████████████████████| 22146515/22146515 [00:48<00:00, 458882.51it/s]\n",
      "check XML parse (trace-bc-java-EncodingFuzzer.xml): 22744924it [02:46, 136434.37it/s]\n",
      "\n",
      "chop final fuzzer target call (trace-bc-java-PEMParserFuzzer.xml): 7187945it [00:18, 387461.26it/s]                                         | 38/150 [15:36<2:57:18, 94.99s/it]\u001b[A\n",
      "write file (trace-bc-java-PEMParserFuzzer.xml): 100%|████████████████████████████████████████████████████████████████████████████| 7185766/7185766 [00:08<00:00, 826859.26it/s]\n",
      "check XML parse (trace-bc-java-PEMParserFuzzer.xml): 5982737it [00:49, 120440.14it/s]\n",
      "\n",
      "chop final fuzzer target call (trace-bc-java-X509CertPairParserFuzzer.xml): 18340it [00:00, 224637.55it/s]                                  | 39/150 [16:54<2:46:05, 89.78s/it]\u001b[A\n",
      "write file (trace-bc-java-X509CertPairParserFuzzer.xml): 100%|███████████████████████████████████████████████████████████████████████| 15897/15897 [00:00<00:00, 972405.18it/s]\n",
      "check XML parse (trace-bc-java-X509CertPairParserFuzzer.xml): 14970it [00:02, 6234.24it/s]\n",
      "\n",
      "chop final fuzzer target call (trace-cglib-EnhancerFuzzer.xml): 534305it [00:01, 361142.14it/s]                                             | 40/150 [16:56<1:57:21, 64.01s/it]\u001b[A\n",
      "write file (trace-cglib-EnhancerFuzzer.xml): 100%|█████████████████████████████████████████████████████████████████████████████████████████████| 1/1 [00:00<00:00, 1868.29it/s]\n",
      "check XML parse (trace-cglib-EnhancerFuzzer.xml): 1it [00:00, 80.25it/s]\n",
      "\n",
      "chop final fuzzer target call (trace-checker-framework-UtilCheckerFuzzer.xml): 7472192it [00:19, 388496.22it/s]                             | 41/150 [16:58<1:22:31, 45.42s/it]\u001b[A\n",
      "write file (trace-checker-framework-UtilCheckerFuzzer.xml): 100%|████████████████████████████████████████████████████████████████| 7467989/7467989 [00:08<00:00, 930516.65it/s]\n",
      "check XML parse (trace-checker-framework-UtilCheckerFuzzer.xml): 5383513it [00:42, 125697.27it/s]\n",
      "\n",
      "round 2:  28%|███████████████████████████████████▎                                                                                          | 42/150 [18:08<1:35:01, 52.79s/it]\u001b[A"
     ]
    },
    {
     "name": "stdout",
     "output_type": "stream",
     "text": [
      "exception <class 'xml.etree.ElementTree.ParseError'> mismatched tag: line 7467990, column 2 parsing /run/media/benjis/basilisk/Files/biggie/oss-fuzz/fuzz_10m_trace_3h/trace_run_3_success_3h/traces-10m/logs-xmls/trace-checker-framework-UtilCheckerFuzzer.xml postprocessed_xmls/trace-checker-framework-UtilCheckerFuzzer.xml.repair.xml\n"
     ]
    },
    {
     "name": "stderr",
     "output_type": "stream",
     "text": [
      "chop final fuzzer target call (trace-fastjson2-JsonFuzzer.xml): 93354it [00:00, 288870.11it/s]\n",
      "write file (trace-fastjson2-JsonFuzzer.xml): 100%|███████████████████████████████████████████████████████████████████████████████████| 90950/90950 [00:00<00:00, 871730.65it/s]\n",
      "check XML parse (trace-fastjson2-JsonFuzzer.xml): 90778it [00:02, 44008.76it/s]\n",
      "\n",
      "chop final fuzzer target call (trace-groovy-DurationFuzzer.xml): 32211it [00:00, 264012.25it/s]                                             | 43/150 [18:11<1:07:30, 37.86s/it]\u001b[A\n",
      "write file (trace-groovy-DurationFuzzer.xml): 100%|██████████████████████████████████████████████████████████████████████████████████| 26233/26233 [00:00<00:00, 598017.16it/s]\n",
      "check XML parse (trace-groovy-DurationFuzzer.xml): 25563it [00:00, 175256.86it/s]\n",
      "\n",
      "chop final fuzzer target call (trace-groovy-TestFuzzer.xml): 20765it [00:00, 166564.14it/s]                                                   | 44/150 [18:11<47:02, 26.63s/it]\u001b[A\n",
      "write file (trace-groovy-TestFuzzer.xml): 100%|████████████████████████████████████████████████████████████████████████████████████████████| 25/25 [00:00<00:00, 149582.88it/s]\n",
      "check XML parse (trace-groovy-TestFuzzer.xml): 20it [00:00, 2783.03it/s]\n",
      "\n",
      "round 2:  30%|██████████████████████████████████████▍                                                                                         | 45/150 [18:11<32:43, 18.70s/it]\u001b[A"
     ]
    },
    {
     "name": "stdout",
     "output_type": "stream",
     "text": [
      "exception <class 'xml.etree.ElementTree.ParseError'> mismatched tag: line 26, column 2 parsing /run/media/benjis/basilisk/Files/biggie/oss-fuzz/fuzz_10m_trace_3h/trace_run_3_success_3h/traces-10m/logs-xmls/trace-groovy-TestFuzzer.xml postprocessed_xmls/trace-groovy-TestFuzzer.xml.repair.xml\n"
     ]
    },
    {
     "name": "stderr",
     "output_type": "stream",
     "text": [
      "chop final fuzzer target call (trace-guava-HashingFuzzer.xml): 5305801it [00:16, 318900.97it/s]\n",
      "write file (trace-guava-HashingFuzzer.xml): 100%|███████████████████████████████████████████████████████████████████████████████| 5156631/5156631 [00:04<00:00, 1052126.54it/s]\n",
      "check XML parse (trace-guava-HashingFuzzer.xml): 5069257it [00:36, 139523.72it/s]\n",
      "\n",
      "chop final fuzzer target call (trace-guava-HostSpecifierFuzzer.xml): 1902it [00:00, 48141.44it/s]                                             | 46/150 [19:09<52:45, 30.44s/it]\u001b[A\n",
      "write file (trace-guava-HostSpecifierFuzzer.xml): 100%|████████████████████████████████████████████████████████████████████████████████████████| 1/1 [00:00<00:00, 6087.52it/s]\n",
      "check XML parse (trace-guava-HostSpecifierFuzzer.xml): 1it [00:01,  1.37s/it]\n",
      "\n",
      "chop final fuzzer target call (trace-guava-InternetDomainNameFuzzer.xml): 772it [00:00, 8903.66it/s]                                          | 47/150 [19:11<37:29, 21.84s/it]\u001b[A\n",
      "write file (trace-guava-InternetDomainNameFuzzer.xml): 100%|██████████████████████████████████████████████████████████████████████████████████| 1/1 [00:00<00:00, 10894.30it/s]\n",
      "check XML parse (trace-guava-InternetDomainNameFuzzer.xml): 1it [00:00, 910.82it/s]\n",
      "\n",
      "chop final fuzzer target call (trace-guava-MediaTypeFuzzer.xml): 1496it [00:00, 94331.96it/s]                                                 | 48/150 [19:11<26:03, 15.33s/it]\u001b[A\n",
      "write file (trace-guava-MediaTypeFuzzer.xml): 100%|████████████████████████████████████████████████████████████████████████████████████████████| 1/1 [00:00<00:00, 4563.99it/s]\n",
      "check XML parse (trace-guava-MediaTypeFuzzer.xml): 1it [00:00, 1187.52it/s]\n",
      "chop final fuzzer target call (trace-guava-UrlEscapersFuzzer.xml): 11111052it [00:30, 359484.78it/s]\n",
      "write file (trace-guava-UrlEscapersFuzzer.xml): 100%|██████████████████████████████████████████████████████████████████████████| 11058856/11058856 [00:11<00:00, 966072.07it/s]\n",
      "check XML parse (trace-guava-UrlEscapersFuzzer.xml): 9128266it [01:14, 122571.36it/s]\n",
      "\n",
      "chop final fuzzer target call (trace-guice-InjectorFuzzer.xml): 113it [00:00, 3118.71it/s]                                                    | 50/150 [21:08<58:42, 35.22s/it]\u001b[A\n",
      "write file (trace-guice-InjectorFuzzer.xml): 100%|█████████████████████████████████████████████████████████████████████████████████████████████| 1/1 [00:00<00:00, 3269.14it/s]\n",
      "check XML parse (trace-guice-InjectorFuzzer.xml): 1it [00:02,  2.54s/it]\n",
      "\n",
      "chop final fuzzer target call (trace-h2database-CsvReadBackFuzzer.xml): 11218417it [00:20, 545545.38it/s]                                     | 51/150 [21:11<44:54, 27.21s/it]\u001b[A\n",
      "write file (trace-h2database-CsvReadBackFuzzer.xml): 100%|████████████████████████████████████████████████████████████████████| 11100524/11100524 [00:07<00:00, 1475686.61it/s]\n",
      "check XML parse (trace-h2database-CsvReadBackFuzzer.xml): 7056298it [00:52, 135642.51it/s]\n",
      "\n",
      "chop final fuzzer target call (trace-h2database-ServerLoginFuzzer.xml): 141745it [00:00, 364703.85it/s]                                     | 52/150 [22:31<1:07:04, 41.07s/it]\u001b[A\n",
      "write file (trace-h2database-ServerLoginFuzzer.xml): 100%|█████████████████████████████████████████████████████████████████████████████████| 19/19 [00:00<00:00, 171380.16it/s]\n",
      "check XML parse (trace-h2database-ServerLoginFuzzer.xml): 3it [00:02,  1.29it/s]\n",
      "\n",
      "round 2:  35%|█████████████████████████████████████████████▏                                                                                  | 53/150 [22:34<49:41, 30.74s/it]\u001b[A"
     ]
    },
    {
     "name": "stdout",
     "output_type": "stream",
     "text": [
      "exception <class 'xml.etree.ElementTree.ParseError'> mismatched tag: line 20, column 2 parsing /run/media/benjis/basilisk/Files/biggie/oss-fuzz/fuzz_10m_trace_3h/trace_run_3_success_3h/traces-10m/logs-xmls/trace-h2database-ServerLoginFuzzer.xml postprocessed_xmls/trace-h2database-ServerLoginFuzzer.xml.repair.xml\n"
     ]
    },
    {
     "name": "stderr",
     "output_type": "stream",
     "text": [
      "chop final fuzzer target call (trace-h2database-ShellFuzzer.xml): 151610it [00:00, 331617.67it/s]\n",
      "write file (trace-h2database-ShellFuzzer.xml): 100%|████████████████████████████████████████████████████████████████████████████████████████| 19/19 [00:00<00:00, 48681.60it/s]\n",
      "check XML parse (trace-h2database-ShellFuzzer.xml): 3it [00:00, 3806.08it/s]\n",
      "\n",
      "round 2:  36%|██████████████████████████████████████████████                                                                                  | 54/150 [22:35<35:38, 22.27s/it]\u001b[A"
     ]
    },
    {
     "name": "stdout",
     "output_type": "stream",
     "text": [
      "exception <class 'xml.etree.ElementTree.ParseError'> mismatched tag: line 20, column 2 parsing /run/media/benjis/basilisk/Files/biggie/oss-fuzz/fuzz_10m_trace_3h/trace_run_3_success_3h/traces-10m/logs-xmls/trace-h2database-ShellFuzzer.xml postprocessed_xmls/trace-h2database-ShellFuzzer.xml.repair.xml\n"
     ]
    },
    {
     "name": "stderr",
     "output_type": "stream",
     "text": [
      "chop final fuzzer target call (trace-h2database-SqlPreparedStatementFuzzer.xml): 138723it [00:00, 361466.02it/s]\n",
      "write file (trace-h2database-SqlPreparedStatementFuzzer.xml): 100%|████████████████████████████████████████████████████████████████████████| 19/19 [00:00<00:00, 248260.98it/s]\n",
      "check XML parse (trace-h2database-SqlPreparedStatementFuzzer.xml): 3it [00:00, 24916.66it/s]\n",
      "\n",
      "round 2:  37%|██████████████████████████████████████████████▉                                                                                 | 55/150 [22:35<25:22, 16.03s/it]\u001b[A"
     ]
    },
    {
     "name": "stdout",
     "output_type": "stream",
     "text": [
      "exception <class 'xml.etree.ElementTree.ParseError'> mismatched tag: line 20, column 2 parsing /run/media/benjis/basilisk/Files/biggie/oss-fuzz/fuzz_10m_trace_3h/trace_run_3_success_3h/traces-10m/logs-xmls/trace-h2database-SqlPreparedStatementFuzzer.xml postprocessed_xmls/trace-h2database-SqlPreparedStatementFuzzer.xml.repair.xml\n"
     ]
    },
    {
     "name": "stderr",
     "output_type": "stream",
     "text": [
      "chop final fuzzer target call (trace-h2database-SqlStatementFuzzer.xml): 141719it [00:00, 386279.92it/s]\n",
      "write file (trace-h2database-SqlStatementFuzzer.xml): 100%|████████████████████████████████████████████████████████████████████████████████| 19/19 [00:00<00:00, 106968.83it/s]\n",
      "check XML parse (trace-h2database-SqlStatementFuzzer.xml): 3it [00:00, 12774.53it/s]\n",
      "\n",
      "round 2:  37%|███████████████████████████████████████████████▊                                                                                | 56/150 [22:36<18:00, 11.50s/it]\u001b[A"
     ]
    },
    {
     "name": "stdout",
     "output_type": "stream",
     "text": [
      "exception <class 'xml.etree.ElementTree.ParseError'> mismatched tag: line 20, column 2 parsing /run/media/benjis/basilisk/Files/biggie/oss-fuzz/fuzz_10m_trace_3h/trace_run_3_success_3h/traces-10m/logs-xmls/trace-h2database-SqlStatementFuzzer.xml postprocessed_xmls/trace-h2database-SqlStatementFuzzer.xml.repair.xml\n"
     ]
    },
    {
     "name": "stderr",
     "output_type": "stream",
     "text": [
      "chop final fuzzer target call (trace-hamcrest-HamcrestFuzzer.xml): 547it [00:00, 30877.83it/s]\n",
      "write file (trace-hamcrest-HamcrestFuzzer.xml): 100%|█████████████████████████████████████████████████████████████████████████████████████████| 1/1 [00:00<00:00, 16644.06it/s]\n",
      "check XML parse (trace-hamcrest-HamcrestFuzzer.xml): 1it [00:00, 4723.32it/s]\n",
      "chop final fuzzer target call (trace-hsqldb-ConnectionOptionsFuzzer.xml): 5009it [00:00, 191181.06it/s]\n",
      "round 2:  38%|████████████████████████████████████████████████▋                                                                               | 57/150 [22:36<36:52, 23.79s/it]\n"
     ]
    },
    {
     "ename": "UnboundLocalError",
     "evalue": "cannot access local variable 'last_fuzzer_start' where it is not associated with a value",
     "output_type": "error",
     "traceback": [
      "\u001b[0;31m---------------------------------------------------------------------------\u001b[0m",
      "\u001b[0;31mUnboundLocalError\u001b[0m                         Traceback (most recent call last)",
      "Cell \u001b[0;32mIn[9], line 5\u001b[0m\n\u001b[1;32m      3\u001b[0m failed_2 \u001b[38;5;241m=\u001b[39m []\n\u001b[1;32m      4\u001b[0m \u001b[38;5;28;01mfor\u001b[39;00m fpath \u001b[38;5;129;01min\u001b[39;00m tqdm\u001b[38;5;241m.\u001b[39mtqdm(failed_1, position\u001b[38;5;241m=\u001b[39m\u001b[38;5;241m1\u001b[39m, desc\u001b[38;5;241m=\u001b[39m\u001b[38;5;124m\"\u001b[39m\u001b[38;5;124mround 2\u001b[39m\u001b[38;5;124m\"\u001b[39m):\n\u001b[0;32m----> 5\u001b[0m     repair_path \u001b[38;5;241m=\u001b[39m \u001b[43mrecover_functions_simple\u001b[49m\u001b[43m(\u001b[49m\u001b[43mfpath\u001b[49m\u001b[43m,\u001b[49m\u001b[43m \u001b[49m\u001b[43mdstdir\u001b[49m\u001b[43m)\u001b[49m\n\u001b[1;32m      6\u001b[0m     \u001b[38;5;28;01mtry\u001b[39;00m:\n\u001b[1;32m      7\u001b[0m         it \u001b[38;5;241m=\u001b[39m ET\u001b[38;5;241m.\u001b[39miterparse(repair_path)\n",
      "Cell \u001b[0;32mIn[6], line 31\u001b[0m, in \u001b[0;36mrecover_functions_simple\u001b[0;34m(fpath, dstdir)\u001b[0m\n\u001b[1;32m     29\u001b[0m     \u001b[38;5;28;01mwith\u001b[39;00m \u001b[38;5;28mopen\u001b[39m(fpath) \u001b[38;5;28;01mas\u001b[39;00m f, \u001b[38;5;28mopen\u001b[39m(repair_path, \u001b[38;5;124m\"\u001b[39m\u001b[38;5;124mw\u001b[39m\u001b[38;5;124m\"\u001b[39m) \u001b[38;5;28;01mas\u001b[39;00m outf:\n\u001b[1;32m     30\u001b[0m         it \u001b[38;5;241m=\u001b[39m \u001b[38;5;28miter\u001b[39m(f)\n\u001b[0;32m---> 31\u001b[0m         \u001b[38;5;28;01mwith\u001b[39;00m tqdm\u001b[38;5;241m.\u001b[39mtqdm(\u001b[43mit\u001b[49m, total\u001b[38;5;241m=\u001b[39mlast_fuzzer_start[\u001b[38;5;241m0\u001b[39m], desc\u001b[38;5;241m=\u001b[39m\u001b[38;5;124mf\u001b[39m\u001b[38;5;124m\"\u001b[39m\u001b[38;5;124mwrite file (\u001b[39m\u001b[38;5;132;01m{\u001b[39;00mfpath\u001b[38;5;241m.\u001b[39mname\u001b[38;5;132;01m}\u001b[39;00m\u001b[38;5;124m)\u001b[39m\u001b[38;5;124m\"\u001b[39m) \u001b[38;5;28;01mas\u001b[39;00m pbar:\n\u001b[1;32m     32\u001b[0m             it \u001b[38;5;241m=\u001b[39m pbar\n\u001b[1;32m     33\u001b[0m             \u001b[38;5;28;01mfor\u001b[39;00m i, line \u001b[38;5;129;01min\u001b[39;00m \u001b[38;5;28menumerate\u001b[39m(it):\n\u001b[1;32m     34\u001b[0m \u001b[38;5;66;03m#                 print(i)\u001b[39;00m\n",
      "\u001b[0;31mUnboundLocalError\u001b[0m: cannot access local variable 'last_fuzzer_start' where it is not associated with a value"
     ]
    }
   ],
   "source": [
    "import tqdm\n",
    "successes_2 = []\n",
    "failed_2 = []\n",
    "for fpath in tqdm.tqdm(failed_1, position=1, desc=\"round 2\"):\n",
    "    repair_path = recover_functions_simple(fpath, dstdir)\n",
    "    try:\n",
    "        it = ET.iterparse(repair_path)\n",
    "        for tag in tqdm.tqdm(it, desc=f\"check XML parse ({fpath.name})\"):\n",
    "            pass\n",
    "        successes_2.append(repair_path)\n",
    "        # shutil.copyfile(repair_path, dstdir/repair_path.name)\n",
    "    except ET.ParseError as ex:\n",
    "        print(\"exception\", type(ex), ex, \"parsing\", fpath, repair_path)\n",
    "        failed_2.append(repair_path)\n",
    "\n",
    "print(\"ROUND 2:\", len(failed_2), \"files failed parsing\")\n",
    "(dstdir/\"1_repair_success_2.txt\").write_text(\"\\n\".join(map(str, successes_2)))"
   ]
  },
  {
   "cell_type": "code",
   "execution_count": null,
   "metadata": {
    "jupyter": {
     "outputs_hidden": false
    }
   },
   "outputs": [],
   "source": [
    "all_files = successes_1 + successes_2"
   ]
  },
  {
   "cell_type": "code",
   "execution_count": null,
   "metadata": {
    "jupyter": {
     "outputs_hidden": false
    }
   },
   "outputs": [],
   "source": [
    "with open(dstdir/\"1_repair_success_all.txt\", \"w\") as f:\n",
    "    f.write(\"\\n\".join(map(str, all_files)))"
   ]
  }
 ],
 "metadata": {
  "kernelspec": {
   "display_name": "Python 3 (ipykernel)",
   "language": "python",
   "name": "python3"
  },
  "language_info": {
   "codemirror_mode": {
    "name": "ipython",
    "version": 3
   },
   "file_extension": ".py",
   "mimetype": "text/x-python",
   "name": "python",
   "nbconvert_exporter": "python",
   "pygments_lexer": "ipython3",
   "version": "3.11.0"
  },
  "vscode": {
   "interpreter": {
    "hash": "5ede1a196b76944c8f4443c0dcb7a1f7267d958f23434ac7797fa7d09f7c5ffd"
   }
  }
 },
 "nbformat": 4,
 "nbformat_minor": 4
}
