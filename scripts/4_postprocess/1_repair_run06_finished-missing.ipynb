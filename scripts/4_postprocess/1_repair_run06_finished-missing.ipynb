{
 "cells": [
  {
   "cell_type": "markdown",
   "metadata": {},
   "source": [
    "1. PARSE XML FILES\n",
    "2. TURN INTO TREE\n",
    "3. IF FAILS, PARSE AS MANY OF THE ENTRIES AS POSSIBLE"
   ]
  },
  {
   "cell_type": "code",
   "execution_count": 12,
   "metadata": {},
   "outputs": [
    {
     "name": "stdout",
     "output_type": "stream",
     "text": [
      "56 XML files found, 56 unique. duplicates = []\n"
     ]
    }
   ],
   "source": [
    "import traceback\n",
    "import xml.etree.ElementTree as ET\n",
    "from pathlib import Path\n",
    "import re\n",
    "import shutil\n",
    "import os\n",
    "\n",
    "import git\n",
    "\n",
    "repo = git.Repo('.', search_parent_directories=True)\n",
    "os.chdir(repo.working_tree_dir)\n",
    "\n",
    "srcpaths=(\n",
    "    \"traces-10m/logs-xmls\",\n",
    ")\n",
    "\n",
    "xmls = []\n",
    "for d in srcpaths:\n",
    "    l = list(Path(d).glob(\"*.xml\"))\n",
    "    l = [p for p in l if \".repair.\" not in p.name]\n",
    "    xmls += l\n",
    "print(len(xmls), \"XML files found,\", len(set([f.name for f in xmls])), \"unique. duplicates =\", [f for f in xmls if [g.name for g in xmls].count(f.name) > 1])"
   ]
  },
  {
   "cell_type": "code",
   "execution_count": 13,
   "metadata": {},
   "outputs": [],
   "source": [
    "dstdir=Path(\"traces-10m/postprocessed-xmls\")"
   ]
  },
  {
   "cell_type": "code",
   "execution_count": 14,
   "metadata": {},
   "outputs": [],
   "source": [
    "if dstdir.exists():\n",
    "    shutil.rmtree(dstdir)\n",
    "dstdir.mkdir(exist_ok=True)"
   ]
  },
  {
   "cell_type": "code",
   "execution_count": 15,
   "metadata": {},
   "outputs": [
    {
     "name": "stderr",
     "output_type": "stream",
     "text": [
      "100%|██████████| 56/56 [04:27<00:00,  4.78s/it, success=19, failed=37]"
     ]
    },
    {
     "name": "stdout",
     "output_type": "stream",
     "text": [
      "ROUND 1: 37 files failed parsing\n"
     ]
    },
    {
     "name": "stderr",
     "output_type": "stream",
     "text": [
      "\n"
     ]
    },
    {
     "data": {
      "text/plain": [
       "1137"
      ]
     },
     "execution_count": 15,
     "metadata": {},
     "output_type": "execute_result"
    }
   ],
   "source": [
    "import tqdm as tqdm\n",
    "\n",
    "successes_1 = []\n",
    "failed_1 = []\n",
    "with tqdm.tqdm(xmls) as pbar:\n",
    "    for fpath in pbar:\n",
    "        try:\n",
    "            it = ET.iterparse(fpath)\n",
    "            for tag in it:\n",
    "                pass\n",
    "            successes_1.append(fpath)\n",
    "            shutil.copyfile(fpath, dstdir/fpath.name)\n",
    "        except ET.ParseError as ex:\n",
    "            failed_1.append(fpath)\n",
    "        pbar.set_postfix({\n",
    "            \"success\": len(successes_1),\n",
    "            \"failed\": len(failed_1),\n",
    "        })\n",
    "\n",
    "print(\"ROUND 1:\", len(failed_1), \"files failed parsing\")\n",
    "(dstdir/\"1_repair_success_1.txt\").write_text(\"\\n\".join(map(str, successes_1)))"
   ]
  },
  {
   "cell_type": "code",
   "execution_count": 16,
   "metadata": {},
   "outputs": [],
   "source": [
    "import tqdm as tqdm\n",
    "\n",
    "fuzzer_start = re.compile(r'''<call[^>]*method=\"[^(\"]+.fuzzerTestOneInput\\([^)]+\\)\"[^>]*''')\n",
    "\n",
    "from xml.dom import minidom\n",
    "from xml.parsers.expat import ExpatError\n",
    "\n",
    "def recover_functions_simple(fpath, dstdir):\n",
    "    repair_path = dstdir/(str(fpath.name) + \".repair.xml\")\n",
    "    if repair_path.exists():\n",
    "        return repair_path\n",
    "    \n",
    "#     with open(fpath) as f:\n",
    "#         num_lines = sum(1 for line in tqdm.tqdm(f, desc=f\"count lines ({fpath.name})\"))\n",
    "    last_fuzzer_start = None\n",
    "    with open(fpath) as f:\n",
    "        i = 0\n",
    "        it = iter(f)\n",
    "        failed_functions = 0\n",
    "        all_functions = 0\n",
    "        with tqdm.tqdm(it, total=None, desc=f\"chop final fuzzer target call ({fpath.name})\") as pbar:\n",
    "            it = pbar\n",
    "            fuzz_functions = []\n",
    "            current_fuzz_function = None\n",
    "            for i, line in enumerate(it):\n",
    "                m = fuzzer_start.search(line)\n",
    "                if m is not None:\n",
    "#                     print(\"MATCH\", m, m.start(), m.span())\n",
    "                    j = m.start()\n",
    "                    last_fuzzer_start = (i, j)\n",
    "#     print(\"LFS\", last_fuzzer_start)\n",
    "    if last_fuzzer_start is None:\n",
    "        print(\"ERROR: last_fuzzer_start is None\", fpath)\n",
    "        return None\n",
    "    \n",
    "    with open(fpath) as f, open(repair_path, \"w\") as outf:\n",
    "        it = iter(f)\n",
    "        with tqdm.tqdm(it, total=last_fuzzer_start[0], desc=f\"write file ({fpath.name})\") as pbar:\n",
    "            it = pbar\n",
    "            for i, line in enumerate(it):\n",
    "#                 print(i)\n",
    "                if i == last_fuzzer_start[0]:\n",
    "#                     print(\"LINE:\")\n",
    "#                     print(line)\n",
    "                    line_chopped = line[:last_fuzzer_start[1]]\n",
    "#                     print(\"CHOPPED:\")\n",
    "#                     print(line_chopped)\n",
    "                    outf.write(line_chopped)\n",
    "                    break\n",
    "                else:\n",
    "                    outf.write(line)\n",
    "            outf.write(\"</trace>\")\n",
    "        \n",
    "    return repair_path\n",
    "\n",
    "# xml_file = Path(\"/run/media/benjis/basilisk/Files/biggie/oss-fuzz/fuzz_10m_trace_3h/trace_run_3_success_3h/traces-10m/logs-xmls\")/\"trace-apache-commons-cli-ParserFuzzer.xml\"\n",
    "# recover_functions_simple(xml_file, Path(\"postprocessed_xmls_debug\"))"
   ]
  },
  {
   "cell_type": "code",
   "execution_count": 17,
   "metadata": {},
   "outputs": [],
   "source": [
    "# fpath = Path(\"/run/media/benjis/basilisk/Files/biggie/oss-fuzz/fuzz_10m_trace_3h/trace_run_3_success_3h/traces-10m/logs-xmls\")/\"trace-apache-commons-cli-ParserFuzzer.xml\"\n",
    "# repair_path = recover_functions_simple(fpath, Path(\"postprocessed_xmls_debug\"))\n",
    "# print(fpath, \"->\", repair_path)\n",
    "# it = ET.iterparse(repair_path)\n",
    "# for tag in tqdm.tqdm(it, desc=f\"check XML parse ({fpath.name})\"):\n",
    "#     pass"
   ]
  },
  {
   "cell_type": "code",
   "execution_count": 18,
   "metadata": {},
   "outputs": [],
   "source": [
    "# successes_1 = list(map(Path, (dstdir/\"1_repair_success_1.txt\").read_text().split(\"\\n\")))\n",
    "# failed_1 = [fpath for fpath in xmls if fpath.name not in [s.name for s in successes_1]]\n",
    "# len(successes_1), len(failed_1)"
   ]
  },
  {
   "cell_type": "code",
   "execution_count": 19,
   "metadata": {},
   "outputs": [
    {
     "name": "stderr",
     "output_type": "stream",
     "text": [
      "chop final fuzzer target call (trace-apache-commons-configuration-JSONConfigurationReadFuzzer.xml): 51711it [00:00, 257978.01it/s]\n",
      "write file (trace-apache-commons-configuration-JSONConfigurationReadFuzzer.xml): 100%|██████████| 1/1 [00:00<00:00, 3876.44it/s]\n",
      "check XML parse (trace-apache-commons-configuration-JSONConfigurationReadFuzzer.xml): 1it [00:00, 13.75it/s]\n",
      "chop final fuzzer target call (trace-apache-commons-configuration-XMLConfigurationLoadFuzzer.xml): 51930it [00:00, 218018.20it/s]\n",
      "write file (trace-apache-commons-configuration-XMLConfigurationLoadFuzzer.xml): 100%|██████████| 1/1 [00:00<00:00, 4258.18it/s]\n",
      "check XML parse (trace-apache-commons-configuration-XMLConfigurationLoadFuzzer.xml): 1it [00:00, 3659.95it/s]\n",
      "chop final fuzzer target call (trace-apache-commons-configuration-XMLConfigurationWriteFuzzer.xml): 18880it [00:00, 231878.78it/s]\n",
      "write file (trace-apache-commons-configuration-XMLConfigurationWriteFuzzer.xml): 100%|██████████| 1/1 [00:00<00:00, 5178.15it/s]\n",
      "check XML parse (trace-apache-commons-configuration-XMLConfigurationWriteFuzzer.xml): 1it [00:00, 4104.02it/s]\n",
      "chop final fuzzer target call (trace-apache-commons-configuration-YAMLConfigurationReadFuzzer.xml): 51538it [00:00, 218167.73it/s]\n",
      "write file (trace-apache-commons-configuration-YAMLConfigurationReadFuzzer.xml): 100%|██████████| 1/1 [00:00<00:00, 4064.25it/s]\n",
      "check XML parse (trace-apache-commons-configuration-YAMLConfigurationReadFuzzer.xml): 1it [00:00, 3328.81it/s]\n",
      "chop final fuzzer target call (trace-apache-commons-configuration-JSONConfigurationWriteFuzzer.xml): 51423it [00:00, 214884.75it/s]\n",
      "write file (trace-apache-commons-configuration-JSONConfigurationWriteFuzzer.xml): 100%|██████████| 1/1 [00:00<00:00, 4837.72it/s]\n",
      "check XML parse (trace-apache-commons-configuration-JSONConfigurationWriteFuzzer.xml): 1it [00:00, 3865.72it/s]\n",
      "chop final fuzzer target call (trace-apache-commons-configuration-YAMLConfigurationWriteFuzzer.xml): 51640it [00:00, 220478.24it/s]\n",
      "write file (trace-apache-commons-configuration-YAMLConfigurationWriteFuzzer.xml): 100%|██████████| 1/1 [00:00<00:00, 4519.72it/s]\n",
      "check XML parse (trace-apache-commons-configuration-YAMLConfigurationWriteFuzzer.xml): 1it [00:00, 3302.60it/s]\n",
      "chop final fuzzer target call (trace-apache-commons-jxpath-JXPathFuzzer.xml): 389966it [00:00, 729908.20it/s]\n",
      "write file (trace-apache-commons-jxpath-JXPathFuzzer.xml): 100%|██████████| 1/1 [00:00<00:00, 2671.53it/s]\n",
      "check XML parse (trace-apache-commons-jxpath-JXPathFuzzer.xml): 1it [00:00, 3466.37it/s]\n",
      "chop final fuzzer target call (trace-apache-commons-MathClusteringFuzzer.xml): 1443it [00:00, 649466.75it/s]\n",
      "write file (trace-apache-commons-MathClusteringFuzzer.xml): 100%|██████████| 1/1 [00:00<00:00, 4190.11it/s]\n",
      "check XML parse (trace-apache-commons-MathClusteringFuzzer.xml): 1it [00:00, 3887.21it/s]\n",
      "chop final fuzzer target call (trace-apache-commons-MathDistanceMeasureFuzzer.xml): 6309it [00:00, 698220.64it/s]\n",
      "write file (trace-apache-commons-MathDistanceMeasureFuzzer.xml): 100%|██████████| 4823/4823 [00:00<00:00, 179481.04it/s]\n",
      "check XML parse (trace-apache-commons-MathDistanceMeasureFuzzer.xml): 5006it [00:00, 44713.09it/s]\n",
      "chop final fuzzer target call (trace-archaius-core-DynamicPropertyFuzzer.xml): 63716it [00:00, 432815.09it/s]\n",
      "write file (trace-archaius-core-DynamicPropertyFuzzer.xml): 100%|██████████| 1/1 [00:00<00:00, 4350.94it/s]\n",
      "check XML parse (trace-archaius-core-DynamicPropertyFuzzer.xml): 1it [00:00, 289.62it/s]\n",
      "chop final fuzzer target call (trace-bc-java-CMSEnvelopedDataParserFuzzer.xml): 405576it [00:01, 309474.75it/s]\n",
      "write file (trace-bc-java-CMSEnvelopedDataParserFuzzer.xml): 100%|██████████| 1/1 [00:00<00:00, 3241.35it/s]\n",
      "check XML parse (trace-bc-java-CMSEnvelopedDataParserFuzzer.xml): 1it [00:00, 3276.80it/s]\n",
      "chop final fuzzer target call (trace-cglib-EnhancerFuzzer.xml): 553479it [00:00, 797607.58it/s]\n",
      "write file (trace-cglib-EnhancerFuzzer.xml): 100%|██████████| 1/1 [00:00<00:00, 3782.06it/s]\n",
      "check XML parse (trace-cglib-EnhancerFuzzer.xml): 1it [00:00, 3113.81it/s]\n",
      "chop final fuzzer target call (trace-dom4j-DOMReaderFuzzer.xml): 417860it [00:00, 695937.88it/s]\n",
      "write file (trace-dom4j-DOMReaderFuzzer.xml): 100%|██████████| 1/1 [00:00<00:00, 4471.54it/s]\n",
      "check XML parse (trace-dom4j-DOMReaderFuzzer.xml): 1it [00:00, 3443.60it/s]\n",
      "chop final fuzzer target call (trace-groovy-TestFuzzer.xml): 314425it [00:00, 337987.66it/s]\n",
      "write file (trace-groovy-TestFuzzer.xml): 100%|██████████| 7/7 [00:00<00:00, 41410.62it/s]\n",
      "check XML parse (trace-groovy-TestFuzzer.xml): 15it [00:00, 22453.45it/s]\n"
     ]
    },
    {
     "name": "stdout",
     "output_type": "stream",
     "text": [
      "exception <class 'xml.etree.ElementTree.ParseError'> mismatched tag: line 8, column 2 parsing traces-10m/logs-xmls/trace-groovy-TestFuzzer.xml traces-10m/postprocessed-xmls/trace-groovy-TestFuzzer.xml.repair.xml\n"
     ]
    },
    {
     "name": "stderr",
     "output_type": "stream",
     "text": [
      "chop final fuzzer target call (trace-guava-HostSpecifierFuzzer.xml): 646227it [00:02, 291541.38it/s]\n",
      "write file (trace-guava-HostSpecifierFuzzer.xml): 100%|██████████| 2936/2936 [00:00<00:00, 186106.43it/s]\n",
      "check XML parse (trace-guava-HostSpecifierFuzzer.xml): 5546it [00:00, 108449.78it/s]\n",
      "chop final fuzzer target call (trace-guava-InternetDomainNameFuzzer.xml): 704127it [00:02, 330913.44it/s]\n",
      "write file (trace-guava-InternetDomainNameFuzzer.xml): 100%|██████████| 7233/7233 [00:00<00:00, 244022.79it/s]\n",
      "check XML parse (trace-guava-InternetDomainNameFuzzer.xml): 11755it [00:00, 63818.30it/s]\n",
      "chop final fuzzer target call (trace-guava-MediaTypeFuzzer.xml): 10417it [00:00, 422823.71it/s]\n",
      "write file (trace-guava-MediaTypeFuzzer.xml): 100%|██████████| 1/1 [00:00<00:00, 4328.49it/s]\n",
      "check XML parse (trace-guava-MediaTypeFuzzer.xml): 1it [00:00, 196.16it/s]\n",
      "chop final fuzzer target call (trace-guice-InjectorFuzzer.xml): 57750it [00:00, 569891.67it/s]\n",
      "write file (trace-guice-InjectorFuzzer.xml): 100%|██████████| 1/1 [00:00<00:00, 4681.14it/s]\n",
      "check XML parse (trace-guice-InjectorFuzzer.xml): 1it [00:00, 3518.71it/s]\n",
      "chop final fuzzer target call (trace-h2database-ServerLoginFuzzer.xml): 116223it [00:00, 742924.84it/s]\n",
      "write file (trace-h2database-ServerLoginFuzzer.xml): 100%|██████████| 19/19 [00:00<00:00, 85049.92it/s]\n",
      "check XML parse (trace-h2database-ServerLoginFuzzer.xml): 13it [00:00, 35178.03it/s]\n"
     ]
    },
    {
     "name": "stdout",
     "output_type": "stream",
     "text": [
      "exception <class 'xml.etree.ElementTree.ParseError'> mismatched tag: line 20, column 2 parsing traces-10m/logs-xmls/trace-h2database-ServerLoginFuzzer.xml traces-10m/postprocessed-xmls/trace-h2database-ServerLoginFuzzer.xml.repair.xml\n"
     ]
    },
    {
     "name": "stderr",
     "output_type": "stream",
     "text": [
      "chop final fuzzer target call (trace-h2database-ShellFuzzer.xml): 177229it [00:00, 764406.35it/s]\n",
      "write file (trace-h2database-ShellFuzzer.xml): 100%|██████████| 19/19 [00:00<00:00, 81735.15it/s]\n",
      "check XML parse (trace-h2database-ShellFuzzer.xml): 13it [00:00, 36062.14it/s]\n"
     ]
    },
    {
     "name": "stdout",
     "output_type": "stream",
     "text": [
      "exception <class 'xml.etree.ElementTree.ParseError'> mismatched tag: line 20, column 2 parsing traces-10m/logs-xmls/trace-h2database-ShellFuzzer.xml traces-10m/postprocessed-xmls/trace-h2database-ShellFuzzer.xml.repair.xml\n"
     ]
    },
    {
     "name": "stderr",
     "output_type": "stream",
     "text": [
      "chop final fuzzer target call (trace-h2database-SqlPreparedStatementFuzzer.xml): 177229it [00:00, 784035.10it/s]\n",
      "write file (trace-h2database-SqlPreparedStatementFuzzer.xml): 100%|██████████| 19/19 [00:00<00:00, 80741.41it/s]\n",
      "check XML parse (trace-h2database-SqlPreparedStatementFuzzer.xml): 13it [00:00, 36423.48it/s]\n"
     ]
    },
    {
     "name": "stdout",
     "output_type": "stream",
     "text": [
      "exception <class 'xml.etree.ElementTree.ParseError'> mismatched tag: line 20, column 2 parsing traces-10m/logs-xmls/trace-h2database-SqlPreparedStatementFuzzer.xml traces-10m/postprocessed-xmls/trace-h2database-SqlPreparedStatementFuzzer.xml.repair.xml\n"
     ]
    },
    {
     "name": "stderr",
     "output_type": "stream",
     "text": [
      "chop final fuzzer target call (trace-h2database-SqlStatementFuzzer.xml): 177229it [00:00, 761633.02it/s]\n",
      "write file (trace-h2database-SqlStatementFuzzer.xml): 100%|██████████| 19/19 [00:00<00:00, 82925.89it/s]\n",
      "check XML parse (trace-h2database-SqlStatementFuzzer.xml): 13it [00:00, 34752.04it/s]\n"
     ]
    },
    {
     "name": "stdout",
     "output_type": "stream",
     "text": [
      "exception <class 'xml.etree.ElementTree.ParseError'> mismatched tag: line 20, column 2 parsing traces-10m/logs-xmls/trace-h2database-SqlStatementFuzzer.xml traces-10m/postprocessed-xmls/trace-h2database-SqlStatementFuzzer.xml.repair.xml\n"
     ]
    },
    {
     "name": "stderr",
     "output_type": "stream",
     "text": [
      "chop final fuzzer target call (trace-hamcrest-HamcrestFuzzer.xml): 188502it [00:00, 714769.75it/s]\n",
      "write file (trace-hamcrest-HamcrestFuzzer.xml): 100%|██████████| 1/1 [00:00<00:00, 4202.71it/s]\n",
      "check XML parse (trace-hamcrest-HamcrestFuzzer.xml): 1it [00:00, 2966.27it/s]\n",
      "chop final fuzzer target call (trace-httpcomponents-client-FormBodyPartBuilderBuildFuzzer.xml): 1622775it [00:02, 732720.45it/s]\n",
      "write file (trace-httpcomponents-client-FormBodyPartBuilderBuildFuzzer.xml): 100%|██████████| 1622066/1622066 [00:03<00:00, 482957.00it/s]\n",
      "check XML parse (trace-httpcomponents-client-FormBodyPartBuilderBuildFuzzer.xml): 1427554it [00:16, 84508.58it/s] \n",
      "chop final fuzzer target call (trace-httpcomponents-client-HttpFuzzer.xml): 1098710it [00:03, 283952.93it/s]\n",
      "write file (trace-httpcomponents-client-HttpFuzzer.xml): 100%|██████████| 1/1 [00:00<00:00, 3826.92it/s]\n",
      "check XML parse (trace-httpcomponents-client-HttpFuzzer.xml): 1it [00:00,  1.53it/s]\n",
      "chop final fuzzer target call (trace-jackson-core-JsonFuzzer.xml): 35938it [00:00, 987816.67it/s]\n",
      "write file (trace-jackson-core-JsonFuzzer.xml): 100%|██████████| 1/1 [00:00<00:00, 9258.95it/s]\n",
      "check XML parse (trace-jackson-core-JsonFuzzer.xml): 1it [00:00, 5497.12it/s]\n",
      "chop final fuzzer target call (trace-jackson-dataformats-binary-CborFuzzer.xml): 36563it [00:00, 762060.72it/s]\n",
      "write file (trace-jackson-dataformats-binary-CborFuzzer.xml): 100%|██████████| 1/1 [00:00<00:00, 4505.16it/s]\n",
      "check XML parse (trace-jackson-dataformats-binary-CborFuzzer.xml): 1it [00:00, 3533.53it/s]\n",
      "chop final fuzzer target call (trace-jackson-dataformats-binary-SmileFuzzer.xml): 36765it [00:00, 717943.93it/s]\n",
      "write file (trace-jackson-dataformats-binary-SmileFuzzer.xml): 100%|██████████| 1/1 [00:00<00:00, 3949.44it/s]\n",
      "check XML parse (trace-jackson-dataformats-binary-SmileFuzzer.xml): 1it [00:00, 3813.00it/s]\n",
      "chop final fuzzer target call (trace-jackson-dataformats-text-CSVFuzzer.xml): 39554it [00:00, 675134.60it/s]\n",
      "write file (trace-jackson-dataformats-text-CSVFuzzer.xml): 100%|██████████| 1/1 [00:00<00:00, 4181.76it/s]\n",
      "check XML parse (trace-jackson-dataformats-text-CSVFuzzer.xml): 1it [00:00, 3404.47it/s]\n",
      "chop final fuzzer target call (trace-jackson-dataformats-text-PropertiesFuzzer.xml): 35572it [00:00, 670437.28it/s]\n",
      "write file (trace-jackson-dataformats-text-PropertiesFuzzer.xml): 100%|██████████| 1/1 [00:00<00:00, 4124.19it/s]\n",
      "check XML parse (trace-jackson-dataformats-text-PropertiesFuzzer.xml): 1it [00:00, 3600.26it/s]\n",
      "chop final fuzzer target call (trace-jackson-dataformats-text-TOMLFuzzer.xml): 36174it [00:00, 662351.04it/s]\n",
      "write file (trace-jackson-dataformats-text-TOMLFuzzer.xml): 100%|██████████| 1/1 [00:00<00:00, 4029.11it/s]\n",
      "check XML parse (trace-jackson-dataformats-text-TOMLFuzzer.xml): 1it [00:00, 3429.52it/s]\n",
      "chop final fuzzer target call (trace-jackson-dataformats-text-YAMLFuzzer.xml): 37223it [00:00, 665725.35it/s]\n",
      "write file (trace-jackson-dataformats-text-YAMLFuzzer.xml): 100%|██████████| 1/1 [00:00<00:00, 4198.50it/s]\n",
      "check XML parse (trace-jackson-dataformats-text-YAMLFuzzer.xml): 1it [00:00, 3603.35it/s]\n",
      "chop final fuzzer target call (trace-jackson-dataformat-xml-XmlFuzzer.xml): 53739it [00:00, 490301.98it/s]\n",
      "write file (trace-jackson-dataformat-xml-XmlFuzzer.xml): 100%|██████████| 1/1 [00:00<00:00, 5047.30it/s]\n",
      "check XML parse (trace-jackson-dataformat-xml-XmlFuzzer.xml): 1it [00:00, 4036.87it/s]\n",
      "chop final fuzzer target call (trace-jackson-modules-java8-DatatypeFuzzer.xml): 34949it [00:00, 680526.32it/s]\n",
      "write file (trace-jackson-modules-java8-DatatypeFuzzer.xml): 100%|██████████| 1/1 [00:00<00:00, 4882.78it/s]\n",
      "check XML parse (trace-jackson-modules-java8-DatatypeFuzzer.xml): 1it [00:00, 4401.16it/s]\n",
      "chop final fuzzer target call (trace-janino-ExpressionEvaluatorFuzzer.xml): 1261258it [00:01, 653264.36it/s]\n",
      "write file (trace-janino-ExpressionEvaluatorFuzzer.xml): 100%|██████████| 1257524/1257524 [00:03<00:00, 388035.52it/s]\n",
      "check XML parse (trace-janino-ExpressionEvaluatorFuzzer.xml): 1789626it [00:20, 85648.73it/s] \n",
      "chop final fuzzer target call (trace-okhttp-LoggingInterceptorFuzzer.xml): 30263it [00:00, 446185.61it/s]\n",
      "write file (trace-okhttp-LoggingInterceptorFuzzer.xml): 100%|██████████| 1/1 [00:00<00:00, 8525.01it/s]\n",
      "check XML parse (trace-okhttp-LoggingInterceptorFuzzer.xml): 1it [00:00,  1.01it/s]\n",
      "chop final fuzzer target call (trace-protobuf-java-ProtobufFuzzer.xml): 3015086it [00:03, 761257.20it/s]\n",
      "write file (trace-protobuf-java-ProtobufFuzzer.xml): 100%|██████████| 2928469/2928469 [00:07<00:00, 372268.14it/s]\n",
      "check XML parse (trace-protobuf-java-ProtobufFuzzer.xml): 3711054it [00:38, 95956.35it/s] \n",
      "round 2: 100%|██████████| 37/37 [01:57<00:00,  3.18s/it, success=32, failed=5]"
     ]
    },
    {
     "name": "stdout",
     "output_type": "stream",
     "text": [
      "ROUND 2: 5 files failed parsing\n"
     ]
    },
    {
     "name": "stderr",
     "output_type": "stream",
     "text": [
      "\n"
     ]
    },
    {
     "data": {
      "text/plain": [
       "2826"
      ]
     },
     "execution_count": 19,
     "metadata": {},
     "output_type": "execute_result"
    }
   ],
   "source": [
    "import tqdm\n",
    "successes_2 = []\n",
    "failed_2 = []\n",
    "with tqdm.tqdm(failed_1, position=1, desc=\"round 2\") as pbar:\n",
    "    for fpath in pbar:\n",
    "        repair_path = recover_functions_simple(fpath, dstdir)\n",
    "        if repair_path is None:\n",
    "            print(\"ERROR\", fpath)\n",
    "            continue\n",
    "        try:\n",
    "            it = ET.iterparse(repair_path)\n",
    "            for tag in tqdm.tqdm(it, desc=f\"check XML parse ({fpath.name})\"):\n",
    "                pass\n",
    "            successes_2.append(repair_path)\n",
    "            # shutil.copyfile(repair_path, dstdir/repair_path.name)\n",
    "        except ET.ParseError as ex:\n",
    "            print(\"exception\", type(ex), ex, \"parsing\", fpath, repair_path)\n",
    "            failed_2.append(repair_path)\n",
    "        pbar.set_postfix({\n",
    "            \"success\": len(successes_2),\n",
    "            \"failed\": len(failed_2),\n",
    "        })\n",
    "\n",
    "print(\"ROUND 2:\", len(failed_2), \"files failed parsing\")\n",
    "(dstdir/\"1_repair_success_2.txt\").write_text(\"\\n\".join(map(str, successes_2)))"
   ]
  },
  {
   "cell_type": "code",
   "execution_count": 20,
   "metadata": {},
   "outputs": [
    {
     "name": "stderr",
     "output_type": "stream",
     "text": [
      "count lines (trace-groovy-TestFuzzer.xml.repair.xml): 8it [00:00, 31714.96it/s]\n",
      "deconstruct into fuzzer target calls (trace-groovy-TestFuzzer.xml.repair.xml): 100%|██████████| 8/8 [00:00<00:00, 28268.27it/s]\n",
      "check XML parse (trace-groovy-TestFuzzer.xml.repair.xml): 1it [00:01,  1.44s/it]\n",
      "count lines (trace-h2database-ServerLoginFuzzer.xml.repair.xml): 20it [00:00, 44267.06it/s]\n",
      "deconstruct into fuzzer target calls (trace-h2database-ServerLoginFuzzer.xml.repair.xml): 100%|██████████| 20/20 [00:00<00:00, 71514.13it/s]\n",
      "check XML parse (trace-h2database-ServerLoginFuzzer.xml.repair.xml): 1it [00:00, 5282.50it/s]\n",
      "count lines (trace-h2database-ShellFuzzer.xml.repair.xml): 20it [00:00, 186413.51it/s]\n",
      "deconstruct into fuzzer target calls (trace-h2database-ShellFuzzer.xml.repair.xml): 100%|██████████| 20/20 [00:00<00:00, 150603.38it/s]\n",
      "check XML parse (trace-h2database-ShellFuzzer.xml.repair.xml): 1it [00:00, 5570.12it/s]\n",
      "count lines (trace-h2database-SqlPreparedStatementFuzzer.xml.repair.xml): 20it [00:00, 155057.45it/s]\n",
      "deconstruct into fuzzer target calls (trace-h2database-SqlPreparedStatementFuzzer.xml.repair.xml): 100%|██████████| 20/20 [00:00<00:00, 155057.45it/s]\n",
      "check XML parse (trace-h2database-SqlPreparedStatementFuzzer.xml.repair.xml): 1it [00:00, 6345.39it/s]\n",
      "count lines (trace-h2database-SqlStatementFuzzer.xml.repair.xml): 20it [00:00, 219597.07it/s]\n",
      "deconstruct into fuzzer target calls (trace-h2database-SqlStatementFuzzer.xml.repair.xml): 100%|██████████| 20/20 [00:00<00:00, 160087.94it/s]\n",
      "check XML parse (trace-h2database-SqlStatementFuzzer.xml.repair.xml): 1it [00:00, 6775.94it/s]\n",
      "round 3: 100%|██████████| 5/5 [00:01<00:00,  3.28it/s, success=5, failed=0]"
     ]
    },
    {
     "name": "stdout",
     "output_type": "stream",
     "text": [
      "ROUND 3: 0 files failed parsing\n"
     ]
    },
    {
     "name": "stderr",
     "output_type": "stream",
     "text": [
      "\n"
     ]
    },
    {
     "data": {
      "text/plain": [
       "[]"
      ]
     },
     "execution_count": 20,
     "metadata": {},
     "output_type": "execute_result"
    }
   ],
   "source": [
    "import tqdm as tqdm\n",
    "\n",
    "fuzzer_start = re.compile(r'''<call[^>]*method=\"[^(\"]+.fuzzerTestOneInput\\([^)]+\\)\"[^>]*''')\n",
    "fuzzer_almost_end = re.compile(r'''<tracepoint[^>]+>''')\n",
    "method_re = re.compile(r'''method=\"[^(\"]+.fuzzerTestOneInput\\([^)]+\\)\"''')\n",
    "exit_re = re.compile(r'''type=\"exit\"''')\n",
    "fuzzer_real_end = re.compile(r'''</call>''')\n",
    "\n",
    "\n",
    "from xml.dom import minidom\n",
    "from xml.parsers.expat import ExpatError\n",
    "\n",
    "def prettify(rough_string):\n",
    "    \"\"\"Return a pretty-printed XML string for the Element.\n",
    "    \"\"\"\n",
    "    reparsed = minidom.parseString(rough_string)\n",
    "    \n",
    "    return reparsed.toprettyxml(indent=\"  \")\n",
    "\n",
    "def recover_functions(fpath, dstdir):\n",
    "    with open(fpath) as f:\n",
    "        num_lines = sum(1 for line in tqdm.tqdm(f, desc=f\"count lines ({fpath.name})\"))\n",
    "    with open(fpath) as f:\n",
    "        it = iter(f)\n",
    "        repair_path = dstdir/(str(fpath.name) + \".repair.xml\")\n",
    "        failed_functions = 0\n",
    "        all_functions = 0\n",
    "        with open(repair_path, \"w\") as outf:\n",
    "            with tqdm.tqdm(it, total=num_lines, desc=f\"deconstruct into fuzzer target calls ({fpath.name})\") as pbar:\n",
    "                it = iter(pbar)\n",
    "                fuzz_functions = []\n",
    "                current_fuzz_function = None\n",
    "                try:\n",
    "                    outf.write(next(it))\n",
    "                    while True:\n",
    "                        line = next(it)\n",
    "                        if fuzzer_start.search(line):\n",
    "                            # print(\"start at\", line)\n",
    "                            # start fuzzed function\n",
    "                            current_fuzz_function = []\n",
    "                        if current_fuzz_function is not None:\n",
    "                            current_fuzz_function.append(line)\n",
    "                        m = fuzzer_almost_end.search(line)\n",
    "                        if m:\n",
    "                            tag = m.group(0)\n",
    "                            if method_re.search(tag) and exit_re.search(tag):\n",
    "                                # print(\"end at\", line)\n",
    "                                while True:\n",
    "                                    line = next(it)\n",
    "                                    # print(\"search end\", line)\n",
    "                                    current_fuzz_function.append(line)\n",
    "                                    if fuzzer_real_end.search(line):\n",
    "                                        # cap off fuzzed function\n",
    "                                        # print(\"end\", line)\n",
    "                                        all_functions += 1\n",
    "                                        try:\n",
    "                                            func_xml = \"\".join(current_fuzz_function)\n",
    "                                            # ET.fromstring(func_xml)\n",
    "                                            # print(func_xml)\n",
    "                                            func_xml = \"\".join(prettify(func_xml).splitlines(keepends=True)[1:])\n",
    "                                            outf.write(func_xml + \"\\n\")\n",
    "                                        except (ExpatError, ET.ParseError):\n",
    "                                            failed_functions += 1\n",
    "                                        pbar.set_postfix({\"all\": all_functions, \"failed\": failed_functions})\n",
    "                                        break\n",
    "                except StopIteration:\n",
    "                    pass\n",
    "            outf.write(\"</trace>\")\n",
    "\n",
    "        return repair_path\n",
    "\n",
    "import tqdm\n",
    "successes_3 = []\n",
    "failed_3 = []\n",
    "with tqdm.tqdm(failed_2, position=1, desc=\"round 3\") as pbar:\n",
    "    for fpath in pbar:\n",
    "        repair_path = recover_functions(fpath, dstdir)\n",
    "        try:\n",
    "            it = ET.iterparse(repair_path)\n",
    "            for tag in tqdm.tqdm(it, desc=f\"check XML parse ({fpath.name})\"):\n",
    "                pass\n",
    "            successes_3.append(repair_path)\n",
    "        except ET.ParseError as ex:\n",
    "            print(\"exception\", type(ex), ex, \"parsing\", fpath)\n",
    "            failed_3.append(repair_path)\n",
    "        pbar.set_postfix({\n",
    "            \"success\": len(successes_3),\n",
    "            \"failed\": len(failed_3),\n",
    "        })\n",
    "\n",
    "print(\"ROUND 3:\", len(failed_3), \"files failed parsing\")\n",
    "(dstdir/\"1_repair_success_3.txt\").write_text(\"\\n\".join(map(str, successes_3)))\n",
    "failed_3"
   ]
  },
  {
   "cell_type": "code",
   "execution_count": 21,
   "metadata": {
    "jupyter": {
     "outputs_hidden": false
    }
   },
   "outputs": [],
   "source": [
    "all_files = successes_1 + successes_2 + successes_3"
   ]
  },
  {
   "cell_type": "code",
   "execution_count": 22,
   "metadata": {
    "jupyter": {
     "outputs_hidden": false
    }
   },
   "outputs": [],
   "source": [
    "with open(dstdir/\"1_repair_success_all.txt\", \"w\") as f:\n",
    "    f.write(\"\\n\".join(map(str, all_files)))"
   ]
  }
 ],
 "metadata": {
  "kernelspec": {
   "display_name": "Python 3 (ipykernel)",
   "language": "python",
   "name": "python3"
  },
  "language_info": {
   "codemirror_mode": {
    "name": "ipython",
    "version": 3
   },
   "file_extension": ".py",
   "mimetype": "text/x-python",
   "name": "python",
   "nbconvert_exporter": "python",
   "pygments_lexer": "ipython3",
   "version": "3.11.0"
  },
  "vscode": {
   "interpreter": {
    "hash": "5ede1a196b76944c8f4443c0dcb7a1f7267d958f23434ac7797fa7d09f7c5ffd"
   }
  }
 },
 "nbformat": 4,
 "nbformat_minor": 4
}
