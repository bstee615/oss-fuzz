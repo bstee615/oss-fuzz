{
 "cells": [
  {
   "cell_type": "markdown",
   "metadata": {},
   "source": [
    "1. PARSE XML FILES\n",
    "2. TURN INTO TREE\n",
    "3. IF FAILS, PARSE AS MANY OF THE ENTRIES AS POSSIBLE"
   ]
  },
  {
   "cell_type": "code",
   "execution_count": 18,
   "metadata": {},
   "outputs": [
    {
     "name": "stdout",
     "output_type": "stream",
     "text": [
      "178 XML files found, 178 unique. duplicates = []\n"
     ]
    }
   ],
   "source": [
    "import traceback\n",
    "import xml.etree.ElementTree as ET\n",
    "from pathlib import Path\n",
    "import re\n",
    "import shutil\n",
    "import os\n",
    "\n",
    "import git\n",
    "\n",
    "repo = git.Repo('.', search_parent_directories=True)\n",
    "os.chdir(repo.working_tree_dir)\n",
    "\n",
    "srcpaths=(\n",
    "    \"/run/media/benjis/basilisk/Files/biggie/oss-fuzz/fuzz_10m_trace_3h/trace_run_3_success_3h/traces-10m/logs-xmls\",\n",
    ")\n",
    "\n",
    "xmls = []\n",
    "for d in srcpaths:\n",
    "    l = list(Path(d).glob(\"*.xml\"))\n",
    "    l = [p for p in l if \".repair.\" not in p.name]\n",
    "    xmls += l\n",
    "print(len(xmls), \"XML files found,\", len(set([f.name for f in xmls])), \"unique. duplicates =\", [f for f in xmls if [g.name for g in xmls].count(f.name) > 1])"
   ]
  },
  {
   "cell_type": "code",
   "execution_count": 19,
   "metadata": {},
   "outputs": [],
   "source": [
    "dstdir=Path(\"postprocessed_xmls\")\n",
    "if dstdir.exists():\n",
    "    shutil.rmtree(dstdir)\n",
    "dstdir.mkdir(exist_ok=True)"
   ]
  },
  {
   "cell_type": "code",
   "execution_count": 20,
   "metadata": {},
   "outputs": [
    {
     "name": "stderr",
     "output_type": "stream",
     "text": [
      "100%|██████████████████████████████████████████████████████████████████████████████████████████████████████████████████████████████████████| 178/178 [1:20:47<00:00, 27.24s/it]\n"
     ]
    },
    {
     "name": "stdout",
     "output_type": "stream",
     "text": [
      "ROUND 1: 150 files failed parsing\n"
     ]
    },
    {
     "data": {
      "text/plain": [
       "4367"
      ]
     },
     "execution_count": 20,
     "metadata": {},
     "output_type": "execute_result"
    }
   ],
   "source": [
    "import tqdm as tqdm\n",
    "\n",
    "successes_1 = []\n",
    "failed_1 = []\n",
    "for fpath in tqdm.tqdm(xmls):\n",
    "    try:\n",
    "        it = ET.iterparse(fpath)\n",
    "        for tag in it:\n",
    "            pass\n",
    "        successes_1.append(fpath)\n",
    "        shutil.copyfile(fpath, dstdir/fpath.name)\n",
    "    except ET.ParseError as ex:\n",
    "        failed_1.append(fpath)\n",
    "\n",
    "print(\"ROUND 1:\", len(failed_1), \"files failed parsing\")\n",
    "(dstdir/\"1_repair_success_1.txt\").write_text(\"\\n\".join(map(str, successes_1)))"
   ]
  },
  {
   "cell_type": "code",
   "execution_count": 21,
   "metadata": {},
   "outputs": [],
   "source": [
    "import tqdm as tqdm\n",
    "\n",
    "fuzzer_start = re.compile(r'''<call[^>]*method=\"[^.\"]+.fuzzerTestOneInput\\([^)]+\\)\"[^>]*''')\n",
    "fuzzer_almost_end = re.compile(r'''<tracepoint[^>]+>''')\n",
    "method_re = re.compile(r'''method=\"[^.\"]+.fuzzerTestOneInput\\([^)]+\\)\"''')\n",
    "exit_re = re.compile(r'''type=\"exit\"''')\n",
    "fuzzer_real_end = re.compile(r'''</call>''')\n",
    "\n",
    "\n",
    "from xml.dom import minidom\n",
    "from xml.parsers.expat import ExpatError\n",
    "\n",
    "def prettify(rough_string):\n",
    "    \"\"\"Return a pretty-printed XML string for the Element.\n",
    "    \"\"\"\n",
    "    reparsed = minidom.parseString(rough_string)\n",
    "    \n",
    "    return reparsed.toprettyxml(indent=\"  \")\n",
    "\n",
    "def recover_functions(fpath):\n",
    "    with open(fpath) as f:\n",
    "        xmlstring = f.read()\n",
    "    xmllines = xmlstring.splitlines(keepends=True)\n",
    "    it = iter(xmllines)\n",
    "    repair_path = dstdir/(str(fpath.name) + \".repair.xml\")\n",
    "    failed_functions = 0\n",
    "    all_functions = 0\n",
    "    with open(repair_path, \"w\") as outf:\n",
    "        with tqdm.tqdm(it, total=len(xmllines), desc=\"deconstruct into fuzzer target calls\") as pbar:\n",
    "            it = iter(pbar)\n",
    "            fuzz_functions = []\n",
    "            current_fuzz_function = None\n",
    "            try:\n",
    "                outf.write(next(it))\n",
    "                while True:\n",
    "                    line = next(it)\n",
    "                    if fuzzer_start.search(line):\n",
    "                        # print(\"start at\", line)\n",
    "                        # start fuzzed function\n",
    "                        current_fuzz_function = []\n",
    "                    if current_fuzz_function is not None:\n",
    "                        current_fuzz_function.append(line)\n",
    "                    m = fuzzer_almost_end.search(line)\n",
    "                    if m:\n",
    "                        tag = m.group(0)\n",
    "                        if method_re.search(tag) and exit_re.search(tag):\n",
    "                            # print(\"end at\", line)\n",
    "                            while True:\n",
    "                                line = next(it)\n",
    "                                # print(\"search end\", line)\n",
    "                                current_fuzz_function.append(line)\n",
    "                                if fuzzer_real_end.search(line):\n",
    "                                    # cap off fuzzed function\n",
    "                                    # print(\"end\", line)\n",
    "                                    all_functions += 1\n",
    "                                    try:\n",
    "                                        func_xml = \"\".join(current_fuzz_function)\n",
    "                                        # ET.fromstring(func_xml)\n",
    "                                        # print(func_xml)\n",
    "                                        func_xml = \"\".join(prettify(func_xml).splitlines(keepends=True)[1:])\n",
    "                                        outf.write(func_xml + \"\\n\")\n",
    "                                    except (ExpatError, ET.ParseError):\n",
    "                                        failed_functions += 1\n",
    "                                    pbar.set_postfix({\"all\": all_functions, \"failed\": failed_functions})\n",
    "                                    break\n",
    "            except StopIteration:\n",
    "                pass\n",
    "        outf.write(\"</trace>\")\n",
    "\n",
    "    return repair_path"
   ]
  },
  {
   "cell_type": "code",
   "execution_count": null,
   "metadata": {},
   "outputs": [
    {
     "name": "stderr",
     "output_type": "stream",
     "text": [
      "\n",
      "deconstruct into fuzzer target calls: 100%|██████████████████████████████████████████████████████████████████████████████████████████| 40372/40372 [00:00<00:00, 612504.72it/s]\u001b[A\n",
      "\n",
      "deconstruct into fuzzer target calls: 100%|█████████████████████████████████████████████████████████████████████████████████████████| 83662/83662 [00:00<00:00, 1049899.95it/s]\u001b[A\n",
      "\n",
      "deconstruct into fuzzer target calls: 100%|█████████████████████████████████████████████████████████████████████████████████████| 5651425/5651425 [00:03<00:00, 1420344.26it/s]\u001b[A\n",
      "\n",
      "deconstruct into fuzzer target calls: 100%|███████████████████████████████████████████████████████████████████| 3756964/3756964 [04:58<00:00, 12580.17it/s, all=721, failed=14]\u001b[A\n",
      "\n",
      "deconstruct into fuzzer target calls: 100%|████████████████████████████████████████████████████████████████████| 3744975/3744975 [04:18<00:00, 14498.60it/s, all=128, failed=0]\u001b[A\n",
      "\n",
      "deconstruct into fuzzer target calls: 100%|█████████████████████████████████████████████████████████████████████████████████████████████████| 14/14 [00:00<00:00, 88301.14it/s]\u001b[A\n",
      "\n",
      "deconstruct into fuzzer target calls: 100%|██████████████████████████████████████████████████████████████████████| 881221/881221 [00:53<00:00, 16506.71it/s, all=337, failed=0]\u001b[A\n",
      "\n",
      "deconstruct into fuzzer target calls: 100%|████████████████████████████████████████████████████████████████████| 4705799/4705799 [05:34<00:00, 14070.84it/s, all=139, failed=8]\u001b[A\n",
      "\n",
      "deconstruct into fuzzer target calls: 100%|████████████████████████████████████████████████████████████████████| 4267637/4267637 [05:05<00:00, 13974.14it/s, all=228, failed=0]\u001b[A\n",
      "\n",
      "deconstruct into fuzzer target calls: 100%|█████████████████████████████████████████████████████████████████████████| 42805/42805 [00:15<00:00, 2821.30it/s, all=17, failed=16]\u001b[A\n",
      "\n",
      "deconstruct into fuzzer target calls: 100%|████████████████████████████████████████████████████████████████████████████████████████████| 9675/9675 [00:00<00:00, 441033.04it/s]\u001b[A\n",
      "\n",
      "deconstruct into fuzzer target calls: 100%|████████████████████████████████████████████████████████████████████████████████████████████| 9675/9675 [00:00<00:00, 476569.48it/s]\u001b[A\n",
      "\n",
      "deconstruct into fuzzer target calls: 100%|████████████████████████████████████████████████████████████████████████████████████████████| 9750/9750 [00:00<00:00, 500740.36it/s]\u001b[A\n",
      "\n",
      "deconstruct into fuzzer target calls: 100%|████████████████████████████████████████████████████████████████████████████████████████████| 9750/9750 [00:00<00:00, 495654.43it/s]\u001b[A\n",
      "\n",
      "deconstruct into fuzzer target calls: 100%|████████████████████████████████████████████████████████████████████████████████████████████| 9660/9660 [00:00<00:00, 540738.25it/s]\u001b[A\n",
      "\n",
      "deconstruct into fuzzer target calls: 100%|████████████████████████████████████████████████████████████████████████████████████████████| 9660/9660 [00:00<00:00, 473866.14it/s]\u001b[A\n",
      "\n",
      "deconstruct into fuzzer target calls: 100%|███████████████████████████████████████████████████████████████████████| 467463/467463 [00:28<00:00, 16509.00it/s, all=72, failed=0]\u001b[A\n",
      "\n",
      "deconstruct into fuzzer target calls: 100%|████████████████████████████████████████████████████████████████████| 1513047/1513047 [01:43<00:00, 14576.15it/s, all=507, failed=0]\u001b[A\n",
      "\n",
      "deconstruct into fuzzer target calls: 100%|████████████████████████████████████████████████████████████████████| 2532276/2532276 [02:37<00:00, 16074.10it/s, all=155, failed=0]\u001b[A\n",
      "\n",
      "deconstruct into fuzzer target calls: 100%|███████████████████████████████████████████████████████████████████████| 374644/374644 [00:27<00:00, 13805.55it/s, all=18, failed=0]\u001b[A\n",
      "\n",
      "round 2:  13%|████████████████▍                                                                                                          | 20/150 [1:25:42<9:06:28, 252.22s/it]\u001b[A"
     ]
    }
   ],
   "source": [
    "successes_2 = []\n",
    "failed_2 = []\n",
    "for fpath in tqdm.tqdm(failed_1, position=1, desc=\"round 2\"):\n",
    "    repair_path = recover_functions(fpath)\n",
    "    try:\n",
    "        it = ET.iterparse(repair_path)\n",
    "        for tag in it:\n",
    "            pass\n",
    "        successes_2.append(repair_path)\n",
    "        # shutil.copyfile(repair_path, dstdir/repair_path.name)\n",
    "    except ET.ParseError as ex:\n",
    "        print(\"exception\", type(ex), ex, \"parsing\", fpath)\n",
    "        failed_2.append(repair_path)\n",
    "\n",
    "print(\"ROUND 2:\", len(failed_2), \"files failed parsing\")\n",
    "(dstdir/\"1_repair_success_2_part2.txt\").write_text(\"\\n\".join(map(str, successes_2)))"
   ]
  },
  {
   "cell_type": "code",
   "execution_count": null,
   "metadata": {
    "jupyter": {
     "outputs_hidden": false
    }
   },
   "outputs": [],
   "source": [
    "all_files = successes_1 + successes_2"
   ]
  },
  {
   "cell_type": "code",
   "execution_count": null,
   "metadata": {
    "jupyter": {
     "outputs_hidden": false
    }
   },
   "outputs": [],
   "source": [
    "with open(dstdir/\"1_repair_success_all.txt\", \"w\") as f:\n",
    "    f.write(\"\\n\".join(map(str, all_files)))"
   ]
  },
  {
   "cell_type": "code",
   "execution_count": null,
   "metadata": {},
   "outputs": [],
   "source": []
  }
 ],
 "metadata": {
  "kernelspec": {
   "display_name": "Python 3 (ipykernel)",
   "language": "python",
   "name": "python3"
  },
  "language_info": {
   "codemirror_mode": {
    "name": "ipython",
    "version": 3
   },
   "file_extension": ".py",
   "mimetype": "text/x-python",
   "name": "python",
   "nbconvert_exporter": "python",
   "pygments_lexer": "ipython3",
   "version": "3.11.0"
  },
  "vscode": {
   "interpreter": {
    "hash": "5ede1a196b76944c8f4443c0dcb7a1f7267d958f23434ac7797fa7d09f7c5ffd"
   }
  }
 },
 "nbformat": 4,
 "nbformat_minor": 4
}
